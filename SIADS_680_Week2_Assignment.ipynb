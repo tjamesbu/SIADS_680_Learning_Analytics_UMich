{
 "cells": [
  {
   "cell_type": "markdown",
   "metadata": {
    "deletable": false,
    "editable": false,
    "id": "fU4HAu8S92T2",
    "nbgrader": {
     "cell_type": "markdown",
     "checksum": "70566ce5e1c73da39212ae301280d730",
     "grade": false,
     "grade_id": "cell-1c9600e790e79f4a",
     "locked": true,
     "schema_version": 3,
     "solution": false,
     "task": false
    }
   },
   "source": [
    "<img src=\"https://brand.umich.edu/assets/brand/style-guide/logo-guidelines/U-M_Logo-Horizontal-Hex.png\" alt=\"Drawing\" style=\"width: 300px;\" align=\"left\"/><br>\n",
    "\n",
    "# Week 2: Unsupervised Learning\n",
    "\n",
    "The purpose of this activity is to explore the value of clustering algorithms (unsupervised learning) in learning analytics contexts. In learning analytics, we can use clusters to group students by common attributes."
   ]
  },
  {
   "cell_type": "markdown",
   "metadata": {
    "deletable": false,
    "editable": false,
    "id": "bJQVW1dljSWb",
    "nbgrader": {
     "cell_type": "markdown",
     "checksum": "bef66d820175338aa36971a6cefb161f",
     "grade": false,
     "grade_id": "cell-f1f33b22cf7803a1",
     "locked": true,
     "schema_version": 3,
     "solution": false,
     "task": false
    }
   },
   "source": [
    "## Introduction to Clustering\n",
    "\n",
    "Statistical learning tasks are commonly categorized into two general types: supervised and unsupervised learning (technically, there is a third category {semi-supervised learning}, which lies outside the scope of this discussion). In supervised learning, we have an outcome variable (labeled data) that we are training our model against. For example, in learning analytics, we might use student behavior data, assignment scores, attendance, and enrollment status to create a student drop-out model for an online course. This is an example of supervised learning and much of data science is focused on these types of applications. \n",
    "\n",
    "In this section, you will explore the second category of learning problems: unsupervised learning. In unsupervised learning, we are not modeling to predict labeled data; rather, we are exploring how data can be grouped together. Unsupervised learning does not have a \"ground truth\" that we can use to train and validate the model. In many unsupervised learning applications, we attempt to \"cluster\" data together in ways that maximize the similarity within each group and maximize the differences between groups. In learning analytics, this can be helpful to determine groupings of students who may have common needs. \n",
    "\n",
    "There is no single, superior clustering method that provides the best clusters in all situations. As Chapman and Feit (2015) remind us that like computer science there is no “free lunch” in analytics: “…the average performance of any pair of algorithms across all possible problems is identical” (p. 300). A consequence of this reality is that we should explore multiple approaches to clustering and evaluate their results against our business problem. There are many types of clustering algorithms (over 100), and they often produce very different results. We will focus on a few that are used regularly. \n",
    "\n",
    "In general, clustering algorithms require several common ingredients. First, we need data upon which to base our clusters. We call these data basis variables. In learning analytics, common basis variables can include student performance data. For this assignment, the basis variables have been provided. Second, clustering algorithms attempt to group observations based on a similarity index – a way of judging the degree to which two observations are similar. Similarity indices (also known as distance metrics) can vary depending on the type of data (continuous, categorical), and a common example of a similarity (distance) metric is Euclidean distance. Third, each clustering algorithm employs an algorithm, a way in which it processes through the data to arrive at clusters. Algorithms can be connective (such as hierarchical models), in which aggregate or disaggregate clusters are created based on a distance metric in a tree-like structure. This process can run both top-down and bottom-up. Partition models – like the very popular k-means – require the number of clusters to be known ahead of time and iteratively process through the idea to find an optimized solution. Distributional models are special in that they make distributional assumptions about the underlying data we are trying to cluster (such as the data conforming to a Gaussian distribution). Finally, density models are well-suited to cluster unusual patterns in data that may confuse simpler algorithms like k-means (Kaushik, 2016). For this project, we’ll evaluate clusters produced by k-means, a popular approach to clustering.\n",
    "\n",
    "### K-means\n",
    "\n",
    "K-means is a partition-based clustering algorithm that requires numeric data and knowing the number of clusters a priori. We define the number of number of clusters, and then the algorithm picks random centroids (the center of each cluster). It calculates the \"distance\" of each point to the centroids and assigns data points to the closest centroid. It then takes the mean of each data point in a cluster (hence the name \"k-means\") and creates a new centroid. This process continues until the centroids converges to a static location and stop moving. \n",
    "\n",
    "The question of the number of clusters is a key decision in k-means, and it can be handled in different ways. We can run multiple models with different numbers of clusters and judge the results, but that can be somewhat inefficient. Another option are scree plots. Scree plots allow for the analyst to compare within-group sums of squares to the number of clusters, looking for the “elbow” in the graph where increasing clusters only marginally decreases the sum of squares. Of course, in selection of a final clustering solution, we need to consider more than the clusters’ statistical properties. The business utility of clusters will ultimately determine their value. \n"
   ]
  },
  {
   "cell_type": "markdown",
   "metadata": {
    "deletable": false,
    "editable": false,
    "id": "2mmaFdzfaXCP",
    "nbgrader": {
     "cell_type": "markdown",
     "checksum": "3905f9cad5418b1e9ad184d3dcaa95db",
     "grade": false,
     "grade_id": "cell-9fc469582ea34c36",
     "locked": true,
     "schema_version": 3,
     "solution": false,
     "task": false
    }
   },
   "source": [
    "## Review of Clustering Through K-Means\n",
    "\n",
    "In the following section, we will review the basics of clustering through k-means. We begin by loading a data set of sales data of customers of a mall in the United States. The dataset includes some basic customer attributes including age, income, gender, etc. We will use these attributes to identify clusters of customers."
   ]
  },
  {
   "cell_type": "code",
   "execution_count": 133,
   "metadata": {
    "id": "QZuLJem9ScFC"
   },
   "outputs": [],
   "source": [
    "# Load the necessary libraries\n",
    "import pandas as pd\n",
    "import numpy as np\n",
    "import matplotlib.pyplot as plt \n",
    "from sklearn import preprocessing\n",
    "from sklearn.cluster import KMeans"
   ]
  },
  {
   "cell_type": "code",
   "execution_count": 134,
   "metadata": {
    "id": "iLG2x5neEx7d"
   },
   "outputs": [],
   "source": [
    "#Load the Mall Data\n",
    "mall_df= pd.read_csv(\"assets/mall_customers.csv\")"
   ]
  },
  {
   "cell_type": "code",
   "execution_count": 135,
   "metadata": {
    "id": "XTFp-MUidB7n"
   },
   "outputs": [
    {
     "data": {
      "text/plain": [
       "Index(['CustomerID', 'Gender', 'Age', 'Annual_Income', 'Spending_Score'], dtype='object')"
      ]
     },
     "execution_count": 135,
     "metadata": {},
     "output_type": "execute_result"
    }
   ],
   "source": [
    "#View Columns\n",
    "mall_df.columns"
   ]
  },
  {
   "cell_type": "code",
   "execution_count": 136,
   "metadata": {
    "id": "sFLlGD7nOgrz"
   },
   "outputs": [],
   "source": [
    "#Create a copy of the original dataframe\n",
    "mall_df_cluster=mall_df"
   ]
  },
  {
   "cell_type": "code",
   "execution_count": 137,
   "metadata": {},
   "outputs": [
    {
     "data": {
      "text/html": [
       "<div>\n",
       "<style scoped>\n",
       "    .dataframe tbody tr th:only-of-type {\n",
       "        vertical-align: middle;\n",
       "    }\n",
       "\n",
       "    .dataframe tbody tr th {\n",
       "        vertical-align: top;\n",
       "    }\n",
       "\n",
       "    .dataframe thead th {\n",
       "        text-align: right;\n",
       "    }\n",
       "</style>\n",
       "<table border=\"1\" class=\"dataframe\">\n",
       "  <thead>\n",
       "    <tr style=\"text-align: right;\">\n",
       "      <th></th>\n",
       "      <th>CustomerID</th>\n",
       "      <th>Gender</th>\n",
       "      <th>Age</th>\n",
       "      <th>Annual_Income</th>\n",
       "      <th>Spending_Score</th>\n",
       "    </tr>\n",
       "  </thead>\n",
       "  <tbody>\n",
       "    <tr>\n",
       "      <th>0</th>\n",
       "      <td>1</td>\n",
       "      <td>Male</td>\n",
       "      <td>19</td>\n",
       "      <td>15</td>\n",
       "      <td>39</td>\n",
       "    </tr>\n",
       "    <tr>\n",
       "      <th>1</th>\n",
       "      <td>2</td>\n",
       "      <td>Male</td>\n",
       "      <td>21</td>\n",
       "      <td>15</td>\n",
       "      <td>81</td>\n",
       "    </tr>\n",
       "    <tr>\n",
       "      <th>2</th>\n",
       "      <td>3</td>\n",
       "      <td>Female</td>\n",
       "      <td>20</td>\n",
       "      <td>16</td>\n",
       "      <td>6</td>\n",
       "    </tr>\n",
       "    <tr>\n",
       "      <th>3</th>\n",
       "      <td>4</td>\n",
       "      <td>Female</td>\n",
       "      <td>23</td>\n",
       "      <td>16</td>\n",
       "      <td>77</td>\n",
       "    </tr>\n",
       "    <tr>\n",
       "      <th>4</th>\n",
       "      <td>5</td>\n",
       "      <td>Female</td>\n",
       "      <td>31</td>\n",
       "      <td>17</td>\n",
       "      <td>40</td>\n",
       "    </tr>\n",
       "    <tr>\n",
       "      <th>...</th>\n",
       "      <td>...</td>\n",
       "      <td>...</td>\n",
       "      <td>...</td>\n",
       "      <td>...</td>\n",
       "      <td>...</td>\n",
       "    </tr>\n",
       "    <tr>\n",
       "      <th>195</th>\n",
       "      <td>196</td>\n",
       "      <td>Female</td>\n",
       "      <td>35</td>\n",
       "      <td>120</td>\n",
       "      <td>79</td>\n",
       "    </tr>\n",
       "    <tr>\n",
       "      <th>196</th>\n",
       "      <td>197</td>\n",
       "      <td>Female</td>\n",
       "      <td>45</td>\n",
       "      <td>126</td>\n",
       "      <td>28</td>\n",
       "    </tr>\n",
       "    <tr>\n",
       "      <th>197</th>\n",
       "      <td>198</td>\n",
       "      <td>Male</td>\n",
       "      <td>32</td>\n",
       "      <td>126</td>\n",
       "      <td>74</td>\n",
       "    </tr>\n",
       "    <tr>\n",
       "      <th>198</th>\n",
       "      <td>199</td>\n",
       "      <td>Male</td>\n",
       "      <td>32</td>\n",
       "      <td>137</td>\n",
       "      <td>18</td>\n",
       "    </tr>\n",
       "    <tr>\n",
       "      <th>199</th>\n",
       "      <td>200</td>\n",
       "      <td>Male</td>\n",
       "      <td>30</td>\n",
       "      <td>137</td>\n",
       "      <td>83</td>\n",
       "    </tr>\n",
       "  </tbody>\n",
       "</table>\n",
       "<p>200 rows × 5 columns</p>\n",
       "</div>"
      ],
      "text/plain": [
       "     CustomerID  Gender  Age  Annual_Income  Spending_Score\n",
       "0             1    Male   19             15              39\n",
       "1             2    Male   21             15              81\n",
       "2             3  Female   20             16               6\n",
       "3             4  Female   23             16              77\n",
       "4             5  Female   31             17              40\n",
       "..          ...     ...  ...            ...             ...\n",
       "195         196  Female   35            120              79\n",
       "196         197  Female   45            126              28\n",
       "197         198    Male   32            126              74\n",
       "198         199    Male   32            137              18\n",
       "199         200    Male   30            137              83\n",
       "\n",
       "[200 rows x 5 columns]"
      ]
     },
     "execution_count": 137,
     "metadata": {},
     "output_type": "execute_result"
    }
   ],
   "source": [
    "mall_df_cluster"
   ]
  },
  {
   "cell_type": "code",
   "execution_count": 138,
   "metadata": {
    "id": "HQzFpmrmWbIl"
   },
   "outputs": [],
   "source": [
    "# Before we begin modeling the clusters we should (1) isolate the variables of interest, \n",
    "# and (2) standardize those variables. Because clusters are built on the relative 'distance' between points\n",
    "# in a multi-dimensional space, standardization helps equalize the influence of each variable by normalizing the \n",
    "# underlying units. \n",
    "\n",
    "# Select the variables that inform clustering and subset them as X1.\n",
    "X1 = mall_df_cluster.iloc[:,2:5]\n",
    "\n",
    "# Standardize the factors\n",
    "X1 = preprocessing.scale(X1)"
   ]
  },
  {
   "cell_type": "markdown",
   "metadata": {
    "deletable": false,
    "editable": false,
    "id": "wT6NP1F_c1KZ",
    "nbgrader": {
     "cell_type": "markdown",
     "checksum": "aa4a33ef406f47201f8e8036c9b15d82",
     "grade": false,
     "grade_id": "cell-76d07fefa8ec3322",
     "locked": true,
     "schema_version": 3,
     "solution": false,
     "task": false
    }
   },
   "source": [
    "Now that the data are prepared, we can begin the process of modeling k-means. We will use ```sklearn.cluster.KMeans``` to model the clusters (https://scikit-learn.org/stable/modules/generated/sklearn.cluster.KMeans.html). Sklearn's kmeans algorithim has relatively few parameters. Some of them deal with computational efficicency, but one of special interest is the number of clusters that we include. \n",
    "\n",
    "There are a few strategies one can use to identify the number of clusters in a k-means model: \n",
    "1. One might know, *a priori*, the number clusters that would be relevant to the need. For example, if the marketing team is looking to target customers and has the capacity to differentiate for 3 different clusters, we can use k-means to create 3 clusters of relative similarity. While this approach may meet the need of the business, it may not be optimal statistically (e.g. three clusters may not be optimally similar). \n",
    "2. Another approach is to use the average silhoutte, which is a metric that ranges from -1 to +1 and measures cohesion and separation (where +1 means that the clusters are well-formed). Cohesion measures how similar a data point is to its own cluster, while separation is how disimilar it is to other clusters. The optimal number of clusters is the number that maximizes the average silhoutte value. \n",
    "3. A third approach is using principal component analysis (PCA). PCA is a common dimension reduction technique for highly dimensional data, used in a variety of contexts including regression and clustering. Principal components are a transformation of the existing variables in a data set to a few composite features through applied linear algebra. These composite features captures a unique portion of the overall variance in the original independent variables, while each component is independent and uncorrelated with the others (orthogonal). In the clustering context, we can use PCA to identify approximately how many clusters capture 80% of the total variation in the original data by looking at how many principal components are needed to explain 80% of the data's variance.\n",
    "4. A final approach is called the elbow method. In the elbow method, we calcuate the overall inertia (the distance from data points and the center of their cluster, the centroid) in the k-means algorithm, and plot the inertia produced by k-mean models that vary by the number of clusters they include. The goal here is not to find the lowest inertia, as that will always correspond to the maximum number of clusters we plot. Rather, we want to find that point where adding addition clusters provides diminishing returns in the reduction of inertia. This can be identified visually through an elbow plot (which we will demonstrate) or by calcuating a distortion metric.\n",
    "\n",
    "One note: kmeans is an algorithm that will generally find a solution, but that does not always guarantee the solution will be optimal. This is because the algorithm may, in its search for a solution, get stuck in a local minima. In general, it is recommended you run your final configuration for kmeans multiple times and evaluate the quality of the clusters to find \n",
    "the best offered solution. However, for purposes of this exercise, we set the ```random_state``` to allow reproducibility as you experiment and learn with the code. If preferrable, you can always remove this parameter and let the results vary."
   ]
  },
  {
   "cell_type": "code",
   "execution_count": 139,
   "metadata": {
    "id": "jYys5A2eWAz8"
   },
   "outputs": [],
   "source": [
    "# Set up the code to calculate the inertia statistic for each k-means model for clusters 1 through 11. \n",
    "# This array of inertia values can be used for plotting our elbow graph.\n",
    "# random_state is set for reproducibility. \n",
    "\n",
    "inertia = []\n",
    "for n in range(1 , 11):\n",
    "    algorithm = (KMeans(n_clusters = n ,init='k-means++', n_init = 10 ,max_iter=300, \n",
    "                        tol=0.0001,  random_state= 111  , algorithm='full') )\n",
    "    algorithm.fit(X1)\n",
    "    inertia.append(algorithm.inertia_)"
   ]
  },
  {
   "cell_type": "code",
   "execution_count": 140,
   "metadata": {
    "id": "o3LzuwfmSXc0"
   },
   "outputs": [
    {
     "data": {
      "image/png": "[encoded data removed]",
      "text/plain": [
       "<Figure size 1080x432 with 1 Axes>"
      ]
     },
     "metadata": {
      "needs_background": "light"
     },
     "output_type": "display_data"
    }
   ],
   "source": [
    "#Plot the interia points to create the elbow plot\n",
    "\n",
    "plt.figure(1 , figsize = (15 ,6))\n",
    "plt.plot(np.arange(1 , 11) , inertia , 'o')\n",
    "plt.plot(np.arange(1 , 11) , inertia , '-' , alpha = 0.5)\n",
    "plt.xlabel('Number of Clusters') , plt.ylabel('Inertia')\n",
    "plt.show()"
   ]
  },
  {
   "cell_type": "markdown",
   "metadata": {
    "deletable": false,
    "editable": false,
    "id": "vwWzWbRdT1a4",
    "nbgrader": {
     "cell_type": "markdown",
     "checksum": "42f69e82d30c4e45a28f3cf869e8d06c",
     "grade": false,
     "grade_id": "cell-0c5a4399928985b0",
     "locked": true,
     "schema_version": 3,
     "solution": false,
     "task": false
    }
   },
   "source": [
    "Using elbow plot above, we can see an elbow around 4 clusters; we may use a secondary method or additional diagnostics to determine the number of clusters. In this case, we accept the visual presentation and select 4 clusters as the most viable solution for these data. \n",
    "\n",
    "Having identified the number of clusters, we can proceed with the modeling process."
   ]
  },
  {
   "cell_type": "code",
   "execution_count": 141,
   "metadata": {
    "id": "aMHB6-zze4eQ"
   },
   "outputs": [
    {
     "data": {
      "text/html": [
       "<style>#sk-container-id-3 {color: black;background-color: white;}#sk-container-id-3 pre{padding: 0;}#sk-container-id-3 div.sk-toggleable {background-color: white;}#sk-container-id-3 label.sk-toggleable__label {cursor: pointer;display: block;width: 100%;margin-bottom: 0;padding: 0.3em;box-sizing: border-box;text-align: center;}#sk-container-id-3 label.sk-toggleable__label-arrow:before {content: \"▸\";float: left;margin-right: 0.25em;color: #696969;}#sk-container-id-3 label.sk-toggleable__label-arrow:hover:before {color: black;}#sk-container-id-3 div.sk-estimator:hover label.sk-toggleable__label-arrow:before {color: black;}#sk-container-id-3 div.sk-toggleable__content {max-height: 0;max-width: 0;overflow: hidden;text-align: left;background-color: #f0f8ff;}#sk-container-id-3 div.sk-toggleable__content pre {margin: 0.2em;color: black;border-radius: 0.25em;background-color: #f0f8ff;}#sk-container-id-3 input.sk-toggleable__control:checked~div.sk-toggleable__content {max-height: 200px;max-width: 100%;overflow: auto;}#sk-container-id-3 input.sk-toggleable__control:checked~label.sk-toggleable__label-arrow:before {content: \"▾\";}#sk-container-id-3 div.sk-estimator input.sk-toggleable__control:checked~label.sk-toggleable__label {background-color: #d4ebff;}#sk-container-id-3 div.sk-label input.sk-toggleable__control:checked~label.sk-toggleable__label {background-color: #d4ebff;}#sk-container-id-3 input.sk-hidden--visually {border: 0;clip: rect(1px 1px 1px 1px);clip: rect(1px, 1px, 1px, 1px);height: 1px;margin: -1px;overflow: hidden;padding: 0;position: absolute;width: 1px;}#sk-container-id-3 div.sk-estimator {font-family: monospace;background-color: #f0f8ff;border: 1px dotted black;border-radius: 0.25em;box-sizing: border-box;margin-bottom: 0.5em;}#sk-container-id-3 div.sk-estimator:hover {background-color: #d4ebff;}#sk-container-id-3 div.sk-parallel-item::after {content: \"\";width: 100%;border-bottom: 1px solid gray;flex-grow: 1;}#sk-container-id-3 div.sk-label:hover label.sk-toggleable__label {background-color: #d4ebff;}#sk-container-id-3 div.sk-serial::before {content: \"\";position: absolute;border-left: 1px solid gray;box-sizing: border-box;top: 0;bottom: 0;left: 50%;z-index: 0;}#sk-container-id-3 div.sk-serial {display: flex;flex-direction: column;align-items: center;background-color: white;padding-right: 0.2em;padding-left: 0.2em;position: relative;}#sk-container-id-3 div.sk-item {position: relative;z-index: 1;}#sk-container-id-3 div.sk-parallel {display: flex;align-items: stretch;justify-content: center;background-color: white;position: relative;}#sk-container-id-3 div.sk-item::before, #sk-container-id-3 div.sk-parallel-item::before {content: \"\";position: absolute;border-left: 1px solid gray;box-sizing: border-box;top: 0;bottom: 0;left: 50%;z-index: -1;}#sk-container-id-3 div.sk-parallel-item {display: flex;flex-direction: column;z-index: 1;position: relative;background-color: white;}#sk-container-id-3 div.sk-parallel-item:first-child::after {align-self: flex-end;width: 50%;}#sk-container-id-3 div.sk-parallel-item:last-child::after {align-self: flex-start;width: 50%;}#sk-container-id-3 div.sk-parallel-item:only-child::after {width: 0;}#sk-container-id-3 div.sk-dashed-wrapped {border: 1px dashed gray;margin: 0 0.4em 0.5em 0.4em;box-sizing: border-box;padding-bottom: 0.4em;background-color: white;}#sk-container-id-3 div.sk-label label {font-family: monospace;font-weight: bold;display: inline-block;line-height: 1.2em;}#sk-container-id-3 div.sk-label-container {text-align: center;}#sk-container-id-3 div.sk-container {/* jupyter's `normalize.less` sets `[hidden] { display: none; }` but bootstrap.min.css set `[hidden] { display: none !important; }` so we also need the `!important` here to be able to override the default hidden behavior on the sphinx rendered scikit-learn.org. See: https://github.com/scikit-learn/scikit-learn/issues/21755 */display: inline-block !important;position: relative;}#sk-container-id-3 div.sk-text-repr-fallback {display: none;}</style><div id=\"sk-container-id-3\" class=\"sk-top-container\"><div class=\"sk-text-repr-fallback\"><pre>KMeans(n_clusters=4)</pre><b>In a Jupyter environment, please rerun this cell to show the HTML representation or trust the notebook. <br />On GitHub, the HTML representation is unable to render, please try loading this page with nbviewer.org.</b></div><div class=\"sk-container\" hidden><div class=\"sk-item\"><div class=\"sk-estimator sk-toggleable\"><input class=\"sk-toggleable__control sk-hidden--visually\" id=\"sk-estimator-id-3\" type=\"checkbox\" checked><label for=\"sk-estimator-id-3\" class=\"sk-toggleable__label sk-toggleable__label-arrow\">KMeans</label><div class=\"sk-toggleable__content\"><pre>KMeans(n_clusters=4)</pre></div></div></div></div></div>"
      ],
      "text/plain": [
       "KMeans(n_clusters=4)"
      ]
     },
     "execution_count": 141,
     "metadata": {},
     "output_type": "execute_result"
    }
   ],
   "source": [
    "# Run the clustering algorithm with n=4 clusters\n",
    "\n",
    "km= KMeans(n_clusters=4)\n",
    "km.fit(X1)"
   ]
  },
  {
   "cell_type": "markdown",
   "metadata": {
    "deletable": false,
    "editable": false,
    "id": "S7AaQvfHgWqX",
    "nbgrader": {
     "cell_type": "markdown",
     "checksum": "a7615e78c0d7549349640db9949e4818",
     "grade": false,
     "grade_id": "cell-83d30895b9021b6b",
     "locked": true,
     "schema_version": 3,
     "solution": false,
     "task": false
    }
   },
   "source": [
    "Having identified the clusters, we now should explore them. In order to fully leverage clusters, it is helpful describe the clusters. What is common about the customers in each cluster?"
   ]
  },
  {
   "cell_type": "code",
   "execution_count": 142,
   "metadata": {
    "id": "dGEe60syiI97"
   },
   "outputs": [],
   "source": [
    "# Use kmeans.predict() to generate the clusters for our data\n",
    "predict=km.predict(X1)"
   ]
  },
  {
   "cell_type": "code",
   "execution_count": 143,
   "metadata": {
    "id": "MATJ1t9Lkpps"
   },
   "outputs": [],
   "source": [
    "# Attach those clusters back to the original data frame\n",
    "mall_df_cluster['cluster'] = pd.Series(predict, index=mall_df_cluster.index)"
   ]
  },
  {
   "cell_type": "code",
   "execution_count": 144,
   "metadata": {},
   "outputs": [
    {
     "data": {
      "text/html": [
       "<div>\n",
       "<style scoped>\n",
       "    .dataframe tbody tr th:only-of-type {\n",
       "        vertical-align: middle;\n",
       "    }\n",
       "\n",
       "    .dataframe tbody tr th {\n",
       "        vertical-align: top;\n",
       "    }\n",
       "\n",
       "    .dataframe thead th {\n",
       "        text-align: right;\n",
       "    }\n",
       "</style>\n",
       "<table border=\"1\" class=\"dataframe\">\n",
       "  <thead>\n",
       "    <tr style=\"text-align: right;\">\n",
       "      <th></th>\n",
       "      <th>CustomerID</th>\n",
       "      <th>Gender</th>\n",
       "      <th>Age</th>\n",
       "      <th>Annual_Income</th>\n",
       "      <th>Spending_Score</th>\n",
       "      <th>cluster</th>\n",
       "    </tr>\n",
       "  </thead>\n",
       "  <tbody>\n",
       "    <tr>\n",
       "      <th>0</th>\n",
       "      <td>1</td>\n",
       "      <td>Male</td>\n",
       "      <td>19</td>\n",
       "      <td>15</td>\n",
       "      <td>39</td>\n",
       "      <td>3</td>\n",
       "    </tr>\n",
       "    <tr>\n",
       "      <th>1</th>\n",
       "      <td>2</td>\n",
       "      <td>Male</td>\n",
       "      <td>21</td>\n",
       "      <td>15</td>\n",
       "      <td>81</td>\n",
       "      <td>3</td>\n",
       "    </tr>\n",
       "    <tr>\n",
       "      <th>2</th>\n",
       "      <td>3</td>\n",
       "      <td>Female</td>\n",
       "      <td>20</td>\n",
       "      <td>16</td>\n",
       "      <td>6</td>\n",
       "      <td>3</td>\n",
       "    </tr>\n",
       "    <tr>\n",
       "      <th>3</th>\n",
       "      <td>4</td>\n",
       "      <td>Female</td>\n",
       "      <td>23</td>\n",
       "      <td>16</td>\n",
       "      <td>77</td>\n",
       "      <td>3</td>\n",
       "    </tr>\n",
       "    <tr>\n",
       "      <th>4</th>\n",
       "      <td>5</td>\n",
       "      <td>Female</td>\n",
       "      <td>31</td>\n",
       "      <td>17</td>\n",
       "      <td>40</td>\n",
       "      <td>3</td>\n",
       "    </tr>\n",
       "    <tr>\n",
       "      <th>...</th>\n",
       "      <td>...</td>\n",
       "      <td>...</td>\n",
       "      <td>...</td>\n",
       "      <td>...</td>\n",
       "      <td>...</td>\n",
       "      <td>...</td>\n",
       "    </tr>\n",
       "    <tr>\n",
       "      <th>195</th>\n",
       "      <td>196</td>\n",
       "      <td>Female</td>\n",
       "      <td>35</td>\n",
       "      <td>120</td>\n",
       "      <td>79</td>\n",
       "      <td>1</td>\n",
       "    </tr>\n",
       "    <tr>\n",
       "      <th>196</th>\n",
       "      <td>197</td>\n",
       "      <td>Female</td>\n",
       "      <td>45</td>\n",
       "      <td>126</td>\n",
       "      <td>28</td>\n",
       "      <td>2</td>\n",
       "    </tr>\n",
       "    <tr>\n",
       "      <th>197</th>\n",
       "      <td>198</td>\n",
       "      <td>Male</td>\n",
       "      <td>32</td>\n",
       "      <td>126</td>\n",
       "      <td>74</td>\n",
       "      <td>1</td>\n",
       "    </tr>\n",
       "    <tr>\n",
       "      <th>198</th>\n",
       "      <td>199</td>\n",
       "      <td>Male</td>\n",
       "      <td>32</td>\n",
       "      <td>137</td>\n",
       "      <td>18</td>\n",
       "      <td>2</td>\n",
       "    </tr>\n",
       "    <tr>\n",
       "      <th>199</th>\n",
       "      <td>200</td>\n",
       "      <td>Male</td>\n",
       "      <td>30</td>\n",
       "      <td>137</td>\n",
       "      <td>83</td>\n",
       "      <td>1</td>\n",
       "    </tr>\n",
       "  </tbody>\n",
       "</table>\n",
       "<p>200 rows × 6 columns</p>\n",
       "</div>"
      ],
      "text/plain": [
       "     CustomerID  Gender  Age  Annual_Income  Spending_Score  cluster\n",
       "0             1    Male   19             15              39        3\n",
       "1             2    Male   21             15              81        3\n",
       "2             3  Female   20             16               6        3\n",
       "3             4  Female   23             16              77        3\n",
       "4             5  Female   31             17              40        3\n",
       "..          ...     ...  ...            ...             ...      ...\n",
       "195         196  Female   35            120              79        1\n",
       "196         197  Female   45            126              28        2\n",
       "197         198    Male   32            126              74        1\n",
       "198         199    Male   32            137              18        2\n",
       "199         200    Male   30            137              83        1\n",
       "\n",
       "[200 rows x 6 columns]"
      ]
     },
     "execution_count": 144,
     "metadata": {},
     "output_type": "execute_result"
    }
   ],
   "source": [
    "# View new data frame\n",
    "mall_df_cluster"
   ]
  },
  {
   "cell_type": "code",
   "execution_count": 145,
   "metadata": {
    "id": "H6I8MZOFk3V8"
   },
   "outputs": [
    {
     "data": {
      "text/plain": [
       "cluster\n",
       "0    65\n",
       "1    40\n",
       "2    38\n",
       "3    57\n",
       "dtype: int64"
      ]
     },
     "execution_count": 145,
     "metadata": {},
     "output_type": "execute_result"
    }
   ],
   "source": [
    "# Descriptive Stat #1: Calculate the size of each cluster\n",
    "mall_df_cluster.groupby(['cluster']).size()"
   ]
  },
  {
   "cell_type": "code",
   "execution_count": 146,
   "metadata": {
    "id": "8O6g_JkklAd7"
   },
   "outputs": [
    {
     "data": {
      "text/html": [
       "<div>\n",
       "<style scoped>\n",
       "    .dataframe tbody tr th:only-of-type {\n",
       "        vertical-align: middle;\n",
       "    }\n",
       "\n",
       "    .dataframe tbody tr th {\n",
       "        vertical-align: top;\n",
       "    }\n",
       "\n",
       "    .dataframe thead tr th {\n",
       "        text-align: left;\n",
       "    }\n",
       "</style>\n",
       "<table border=\"1\" class=\"dataframe\">\n",
       "  <thead>\n",
       "    <tr>\n",
       "      <th></th>\n",
       "      <th>cluster</th>\n",
       "      <th>CustomerID</th>\n",
       "      <th>Age</th>\n",
       "      <th>Annual_Income</th>\n",
       "      <th>Spending_Score</th>\n",
       "    </tr>\n",
       "    <tr>\n",
       "      <th></th>\n",
       "      <th></th>\n",
       "      <th>mean</th>\n",
       "      <th>mean</th>\n",
       "      <th>mean</th>\n",
       "      <th>mean</th>\n",
       "    </tr>\n",
       "  </thead>\n",
       "  <tbody>\n",
       "    <tr>\n",
       "      <th>0</th>\n",
       "      <td>0</td>\n",
       "      <td>69.42</td>\n",
       "      <td>53.98</td>\n",
       "      <td>47.71</td>\n",
       "      <td>39.97</td>\n",
       "    </tr>\n",
       "    <tr>\n",
       "      <th>1</th>\n",
       "      <td>1</td>\n",
       "      <td>161.02</td>\n",
       "      <td>32.88</td>\n",
       "      <td>86.10</td>\n",
       "      <td>81.53</td>\n",
       "    </tr>\n",
       "    <tr>\n",
       "      <th>2</th>\n",
       "      <td>2</td>\n",
       "      <td>160.55</td>\n",
       "      <td>39.37</td>\n",
       "      <td>86.50</td>\n",
       "      <td>19.58</td>\n",
       "    </tr>\n",
       "    <tr>\n",
       "      <th>3</th>\n",
       "      <td>3</td>\n",
       "      <td>53.44</td>\n",
       "      <td>25.44</td>\n",
       "      <td>40.00</td>\n",
       "      <td>60.30</td>\n",
       "    </tr>\n",
       "  </tbody>\n",
       "</table>\n",
       "</div>"
      ],
      "text/plain": [
       "  cluster CustomerID    Age Annual_Income Spending_Score\n",
       "                mean   mean          mean           mean\n",
       "0       0      69.42  53.98         47.71          39.97\n",
       "1       1     161.02  32.88         86.10          81.53\n",
       "2       2     160.55  39.37         86.50          19.58\n",
       "3       3      53.44  25.44         40.00          60.30"
      ]
     },
     "execution_count": 146,
     "metadata": {},
     "output_type": "execute_result"
    }
   ],
   "source": [
    "#Descriptive Stat #2: Find the mean value for age, income, and spending score for each cluster\n",
    "mall_df_cluster.groupby(['cluster']).agg(['mean']).round(2).reset_index()"
   ]
  },
  {
   "cell_type": "code",
   "execution_count": 147,
   "metadata": {},
   "outputs": [
    {
     "data": {
      "text/plain": [
       "cluster  Gender\n",
       "0        Female    37\n",
       "         Male      28\n",
       "1        Female    22\n",
       "         Male      18\n",
       "2        Female    19\n",
       "         Male      19\n",
       "3        Female    34\n",
       "         Male      23\n",
       "dtype: int64"
      ]
     },
     "execution_count": 147,
     "metadata": {},
     "output_type": "execute_result"
    }
   ],
   "source": [
    "#Descriptive Stat #3: Find the count of cluster by gender\n",
    "mall_df_cluster.groupby(['cluster', 'Gender']).size()"
   ]
  },
  {
   "cell_type": "markdown",
   "metadata": {
    "deletable": false,
    "editable": false,
    "id": "_q_6hVKaFZya",
    "nbgrader": {
     "cell_type": "markdown",
     "checksum": "4b4400a861061da9b08790d34d8a8ab4",
     "grade": false,
     "grade_id": "cell-1ca96dde814019af",
     "locked": true,
     "schema_version": 3,
     "solution": false,
     "task": false
    }
   },
   "source": [
    "We can use the descriptives statistics above (and many others) to describe the clusters. This can be a very helpful way to inform how we use clusters in a variety of contexts: marketing (segmentation), medicine (treatment), or learning (academic interventions)."
   ]
  },
  {
   "cell_type": "markdown",
   "metadata": {
    "deletable": false,
    "editable": false,
    "id": "A-pwckRuX7rk",
    "nbgrader": {
     "cell_type": "markdown",
     "checksum": "b2c000083f64f0072e9ac8d19af965c4",
     "grade": false,
     "grade_id": "cell-b5dd849e7658412b",
     "locked": true,
     "schema_version": 3,
     "solution": false,
     "task": false
    }
   },
   "source": [
    "# Clustering Open University Data"
   ]
  },
  {
   "cell_type": "markdown",
   "metadata": {
    "deletable": false,
    "editable": false,
    "id": "Z73fmApxaLK4",
    "nbgrader": {
     "cell_type": "markdown",
     "checksum": "8e18d232e088b6109974121e3d446c0b",
     "grade": false,
     "grade_id": "cell-b41643739a36e107",
     "locked": true,
     "schema_version": 3,
     "solution": false,
     "task": false
    }
   },
   "source": [
    "\n",
    "# 1. **Data loading**"
   ]
  },
  {
   "cell_type": "code",
   "execution_count": 148,
   "metadata": {
    "id": "6l38NdOIZ7Dl"
   },
   "outputs": [],
   "source": [
    "# Use read_csv to read the three files into dataframes\n",
    "lr = pd.read_csv('assets/learning_resources.csv')\n",
    "qt = pd.read_csv('assets/quizzes_tests.csv')\n",
    "si = pd.read_csv('assets/student_info.csv')"
   ]
  },
  {
   "cell_type": "code",
   "execution_count": 149,
   "metadata": {},
   "outputs": [
    {
     "data": {
      "text/html": [
       "<div>\n",
       "<style scoped>\n",
       "    .dataframe tbody tr th:only-of-type {\n",
       "        vertical-align: middle;\n",
       "    }\n",
       "\n",
       "    .dataframe tbody tr th {\n",
       "        vertical-align: top;\n",
       "    }\n",
       "\n",
       "    .dataframe thead th {\n",
       "        text-align: right;\n",
       "    }\n",
       "</style>\n",
       "<table border=\"1\" class=\"dataframe\">\n",
       "  <thead>\n",
       "    <tr style=\"text-align: right;\">\n",
       "      <th></th>\n",
       "      <th>id_student</th>\n",
       "      <th>activity_type</th>\n",
       "      <th>activity_id</th>\n",
       "      <th>date</th>\n",
       "      <th>sum_click</th>\n",
       "    </tr>\n",
       "  </thead>\n",
       "  <tbody>\n",
       "    <tr>\n",
       "      <th>0</th>\n",
       "      <td>420388</td>\n",
       "      <td>resource</td>\n",
       "      <td>219</td>\n",
       "      <td>0</td>\n",
       "      <td>1</td>\n",
       "    </tr>\n",
       "    <tr>\n",
       "      <th>1</th>\n",
       "      <td>420388</td>\n",
       "      <td>course_homepage</td>\n",
       "      <td>1</td>\n",
       "      <td>0</td>\n",
       "      <td>3</td>\n",
       "    </tr>\n",
       "    <tr>\n",
       "      <th>2</th>\n",
       "      <td>420388</td>\n",
       "      <td>course_page</td>\n",
       "      <td>87</td>\n",
       "      <td>0</td>\n",
       "      <td>1</td>\n",
       "    </tr>\n",
       "    <tr>\n",
       "      <th>3</th>\n",
       "      <td>420388</td>\n",
       "      <td>resource</td>\n",
       "      <td>229</td>\n",
       "      <td>0</td>\n",
       "      <td>2</td>\n",
       "    </tr>\n",
       "    <tr>\n",
       "      <th>4</th>\n",
       "      <td>420388</td>\n",
       "      <td>course_page</td>\n",
       "      <td>1</td>\n",
       "      <td>0</td>\n",
       "      <td>2</td>\n",
       "    </tr>\n",
       "  </tbody>\n",
       "</table>\n",
       "</div>"
      ],
      "text/plain": [
       "   id_student    activity_type  activity_id  date  sum_click\n",
       "0      420388         resource          219     0          1\n",
       "1      420388  course_homepage            1     0          3\n",
       "2      420388      course_page           87     0          1\n",
       "3      420388         resource          229     0          2\n",
       "4      420388      course_page            1     0          2"
      ]
     },
     "execution_count": 149,
     "metadata": {},
     "output_type": "execute_result"
    }
   ],
   "source": [
    "lr.head()"
   ]
  },
  {
   "cell_type": "code",
   "execution_count": 150,
   "metadata": {},
   "outputs": [
    {
     "data": {
      "text/html": [
       "<div>\n",
       "<style scoped>\n",
       "    .dataframe tbody tr th:only-of-type {\n",
       "        vertical-align: middle;\n",
       "    }\n",
       "\n",
       "    .dataframe tbody tr th {\n",
       "        vertical-align: top;\n",
       "    }\n",
       "\n",
       "    .dataframe thead th {\n",
       "        text-align: right;\n",
       "    }\n",
       "</style>\n",
       "<table border=\"1\" class=\"dataframe\">\n",
       "  <thead>\n",
       "    <tr style=\"text-align: right;\">\n",
       "      <th></th>\n",
       "      <th>id_student</th>\n",
       "      <th>assignment_name</th>\n",
       "      <th>due_date</th>\n",
       "      <th>weight</th>\n",
       "      <th>date_submitted</th>\n",
       "      <th>score</th>\n",
       "    </tr>\n",
       "  </thead>\n",
       "  <tbody>\n",
       "    <tr>\n",
       "      <th>0</th>\n",
       "      <td>41060</td>\n",
       "      <td>Quiz 1</td>\n",
       "      <td>23</td>\n",
       "      <td>2.0</td>\n",
       "      <td>25.0</td>\n",
       "      <td>77</td>\n",
       "    </tr>\n",
       "    <tr>\n",
       "      <th>1</th>\n",
       "      <td>41060</td>\n",
       "      <td>Test 1</td>\n",
       "      <td>25</td>\n",
       "      <td>7.5</td>\n",
       "      <td>24.0</td>\n",
       "      <td>85</td>\n",
       "    </tr>\n",
       "    <tr>\n",
       "      <th>2</th>\n",
       "      <td>41060</td>\n",
       "      <td>Quiz 2</td>\n",
       "      <td>51</td>\n",
       "      <td>3.0</td>\n",
       "      <td>54.0</td>\n",
       "      <td>94</td>\n",
       "    </tr>\n",
       "    <tr>\n",
       "      <th>3</th>\n",
       "      <td>41060</td>\n",
       "      <td>Test 2</td>\n",
       "      <td>53</td>\n",
       "      <td>10.0</td>\n",
       "      <td>53.0</td>\n",
       "      <td>86</td>\n",
       "    </tr>\n",
       "    <tr>\n",
       "      <th>4</th>\n",
       "      <td>41060</td>\n",
       "      <td>Quiz 3</td>\n",
       "      <td>79</td>\n",
       "      <td>3.0</td>\n",
       "      <td>81.0</td>\n",
       "      <td>94</td>\n",
       "    </tr>\n",
       "  </tbody>\n",
       "</table>\n",
       "</div>"
      ],
      "text/plain": [
       "   id_student assignment_name  due_date  weight  date_submitted  score\n",
       "0       41060          Quiz 1        23     2.0            25.0     77\n",
       "1       41060          Test 1        25     7.5            24.0     85\n",
       "2       41060          Quiz 2        51     3.0            54.0     94\n",
       "3       41060          Test 2        53    10.0            53.0     86\n",
       "4       41060          Quiz 3        79     3.0            81.0     94"
      ]
     },
     "execution_count": 150,
     "metadata": {},
     "output_type": "execute_result"
    }
   ],
   "source": [
    "qt.head()"
   ]
  },
  {
   "cell_type": "code",
   "execution_count": 151,
   "metadata": {},
   "outputs": [
    {
     "data": {
      "text/html": [
       "<div>\n",
       "<style scoped>\n",
       "    .dataframe tbody tr th:only-of-type {\n",
       "        vertical-align: middle;\n",
       "    }\n",
       "\n",
       "    .dataframe tbody tr th {\n",
       "        vertical-align: top;\n",
       "    }\n",
       "\n",
       "    .dataframe thead th {\n",
       "        text-align: right;\n",
       "    }\n",
       "</style>\n",
       "<table border=\"1\" class=\"dataframe\">\n",
       "  <thead>\n",
       "    <tr style=\"text-align: right;\">\n",
       "      <th></th>\n",
       "      <th>id_student</th>\n",
       "      <th>assignment_name</th>\n",
       "      <th>due_date</th>\n",
       "      <th>weight</th>\n",
       "      <th>date_submitted</th>\n",
       "      <th>score</th>\n",
       "      <th>score_weight</th>\n",
       "    </tr>\n",
       "  </thead>\n",
       "  <tbody>\n",
       "    <tr>\n",
       "      <th>0</th>\n",
       "      <td>41060</td>\n",
       "      <td>Quiz 1</td>\n",
       "      <td>23</td>\n",
       "      <td>2.0</td>\n",
       "      <td>25.0</td>\n",
       "      <td>77</td>\n",
       "      <td>154.0</td>\n",
       "    </tr>\n",
       "    <tr>\n",
       "      <th>1</th>\n",
       "      <td>41060</td>\n",
       "      <td>Test 1</td>\n",
       "      <td>25</td>\n",
       "      <td>7.5</td>\n",
       "      <td>24.0</td>\n",
       "      <td>85</td>\n",
       "      <td>637.5</td>\n",
       "    </tr>\n",
       "    <tr>\n",
       "      <th>2</th>\n",
       "      <td>41060</td>\n",
       "      <td>Quiz 2</td>\n",
       "      <td>51</td>\n",
       "      <td>3.0</td>\n",
       "      <td>54.0</td>\n",
       "      <td>94</td>\n",
       "      <td>282.0</td>\n",
       "    </tr>\n",
       "    <tr>\n",
       "      <th>3</th>\n",
       "      <td>41060</td>\n",
       "      <td>Test 2</td>\n",
       "      <td>53</td>\n",
       "      <td>10.0</td>\n",
       "      <td>53.0</td>\n",
       "      <td>86</td>\n",
       "      <td>860.0</td>\n",
       "    </tr>\n",
       "    <tr>\n",
       "      <th>4</th>\n",
       "      <td>41060</td>\n",
       "      <td>Quiz 3</td>\n",
       "      <td>79</td>\n",
       "      <td>3.0</td>\n",
       "      <td>81.0</td>\n",
       "      <td>94</td>\n",
       "      <td>282.0</td>\n",
       "    </tr>\n",
       "  </tbody>\n",
       "</table>\n",
       "</div>"
      ],
      "text/plain": [
       "   id_student assignment_name  due_date  weight  date_submitted  score  \\\n",
       "0       41060          Quiz 1        23     2.0            25.0     77   \n",
       "1       41060          Test 1        25     7.5            24.0     85   \n",
       "2       41060          Quiz 2        51     3.0            54.0     94   \n",
       "3       41060          Test 2        53    10.0            53.0     86   \n",
       "4       41060          Quiz 3        79     3.0            81.0     94   \n",
       "\n",
       "   score_weight  \n",
       "0         154.0  \n",
       "1         637.5  \n",
       "2         282.0  \n",
       "3         860.0  \n",
       "4         282.0  "
      ]
     },
     "execution_count": 151,
     "metadata": {},
     "output_type": "execute_result"
    }
   ],
   "source": [
    "#weighted score was calculated and added to the original df to help provide a better score accuracy while attempting to \n",
    "#judge the students' performances.\n",
    "\n",
    "qt['score_weight']=qt['score']*qt['weight']\n",
    "qt.head()"
   ]
  },
  {
   "cell_type": "code",
   "execution_count": 152,
   "metadata": {},
   "outputs": [
    {
     "data": {
      "text/html": [
       "<div>\n",
       "<style scoped>\n",
       "    .dataframe tbody tr th:only-of-type {\n",
       "        vertical-align: middle;\n",
       "    }\n",
       "\n",
       "    .dataframe tbody tr th {\n",
       "        vertical-align: top;\n",
       "    }\n",
       "\n",
       "    .dataframe thead th {\n",
       "        text-align: right;\n",
       "    }\n",
       "</style>\n",
       "<table border=\"1\" class=\"dataframe\">\n",
       "  <thead>\n",
       "    <tr style=\"text-align: right;\">\n",
       "      <th></th>\n",
       "      <th>id_student</th>\n",
       "      <th>gender</th>\n",
       "      <th>highest_education</th>\n",
       "      <th>disability</th>\n",
       "      <th>final_result</th>\n",
       "    </tr>\n",
       "  </thead>\n",
       "  <tbody>\n",
       "    <tr>\n",
       "      <th>0</th>\n",
       "      <td>41060</td>\n",
       "      <td>M</td>\n",
       "      <td>Some Higher Education</td>\n",
       "      <td>N</td>\n",
       "      <td>Fail</td>\n",
       "    </tr>\n",
       "    <tr>\n",
       "      <th>1</th>\n",
       "      <td>45664</td>\n",
       "      <td>M</td>\n",
       "      <td>Some Higher Education</td>\n",
       "      <td>N</td>\n",
       "      <td>Pass</td>\n",
       "    </tr>\n",
       "    <tr>\n",
       "      <th>2</th>\n",
       "      <td>52014</td>\n",
       "      <td>F</td>\n",
       "      <td>High School</td>\n",
       "      <td>N</td>\n",
       "      <td>Fail</td>\n",
       "    </tr>\n",
       "    <tr>\n",
       "      <th>3</th>\n",
       "      <td>53488</td>\n",
       "      <td>F</td>\n",
       "      <td>Some Higher Education</td>\n",
       "      <td>N</td>\n",
       "      <td>Pass</td>\n",
       "    </tr>\n",
       "    <tr>\n",
       "      <th>4</th>\n",
       "      <td>60135</td>\n",
       "      <td>F</td>\n",
       "      <td>High School + Advanced Placement</td>\n",
       "      <td>N</td>\n",
       "      <td>Pass</td>\n",
       "    </tr>\n",
       "  </tbody>\n",
       "</table>\n",
       "</div>"
      ],
      "text/plain": [
       "   id_student gender                 highest_education disability final_result\n",
       "0       41060      M             Some Higher Education          N         Fail\n",
       "1       45664      M             Some Higher Education          N         Pass\n",
       "2       52014      F                       High School          N         Fail\n",
       "3       53488      F             Some Higher Education          N         Pass\n",
       "4       60135      F  High School + Advanced Placement          N         Pass"
      ]
     },
     "execution_count": 152,
     "metadata": {},
     "output_type": "execute_result"
    }
   ],
   "source": [
    "si.head()"
   ]
  },
  {
   "cell_type": "markdown",
   "metadata": {
    "deletable": false,
    "editable": false,
    "id": "w80vHMaMaVR-",
    "nbgrader": {
     "cell_type": "markdown",
     "checksum": "b5025b0d8d6c55eba706286342d2c4d9",
     "grade": false,
     "grade_id": "cell-7bea487ada3caae6",
     "locked": true,
     "schema_version": 3,
     "solution": false,
     "task": false
    }
   },
   "source": [
    "# 2. Data Wrangling and Feature Engineering (8 points)"
   ]
  },
  {
   "cell_type": "markdown",
   "metadata": {
    "deletable": false,
    "editable": false,
    "id": "n9QbD1Xw_ady",
    "nbgrader": {
     "cell_type": "markdown",
     "checksum": "86a999faad61a4a3c53caaf8744c5508",
     "grade": false,
     "grade_id": "cell-4ca8b1c0d4ee172a",
     "locked": true,
     "schema_version": 3,
     "solution": false,
     "task": false
    }
   },
   "source": [
    "As we observed in Week 1, `learning_resources.csv` and `quizzes_tests.csv` are structured as long-form files. For Week 2, we are going to wrangle these files into wide-format, cluster them individually, and clarify patterns in each. For `learning_resources.csv`, transforming into long-form will require summarization (the specific `agg` is up to you); for `quizzes_tests.csv`, it will largely require only rotating the `score` column. Thus, you will build your clusters, like in the above mall examples, on these data. After rotating each dataset, we will then identify optimal cluster numbers and apply a k-means algorithm. After generating cluster labels, we will join them onto each respective dataset and identify how clusters align with raw data to better understand students' assignment performances and resource use."
   ]
  },
  {
   "cell_type": "markdown",
   "metadata": {
    "deletable": false,
    "editable": false,
    "nbgrader": {
     "cell_type": "markdown",
     "checksum": "4df6eba75fd0512a478942b9bf165da8",
     "grade": false,
     "grade_id": "cell-e3b1db263b9a8469",
     "locked": true,
     "schema_version": 3,
     "solution": false,
     "task": false
    }
   },
   "source": [
    "## Grading\n",
    "\n",
    "2.1. (4 points) Create a dataframe for clustering from `quizzes_tests.csv`\n",
    "\n",
    "2.2. (4 points) Create a dataframe for clustering from `learning_resources.csv`"
   ]
  },
  {
   "cell_type": "markdown",
   "metadata": {
    "deletable": false,
    "editable": false,
    "nbgrader": {
     "cell_type": "markdown",
     "checksum": "d21c0c49bcbe53ec13a9f7a8dd98438d",
     "grade": false,
     "grade_id": "cell-c81862e646cb4a17",
     "locked": true,
     "schema_version": 3,
     "solution": false,
     "task": false
    }
   },
   "source": [
    "**Note:** You will need to do some data wrangling using pandas, e.g., `pd.pivot_table` and `pd.groupby`."
   ]
  },
  {
   "cell_type": "markdown",
   "metadata": {
    "deletable": false,
    "editable": false,
    "nbgrader": {
     "cell_type": "markdown",
     "checksum": "c3de50fca1a187a231aea2d6bf76779f",
     "grade": false,
     "grade_id": "cell-890751bafb516647",
     "locked": true,
     "schema_version": 3,
     "solution": false,
     "task": false
    }
   },
   "source": [
    "2.1. (4 points) Create a dataframe for clustering from `quizzes_tests.csv`"
   ]
  },
  {
   "cell_type": "code",
   "execution_count": 153,
   "metadata": {
    "deletable": false,
    "nbgrader": {
     "cell_type": "code",
     "checksum": "eb0340fe3622fffb9fb858895bb06e5d",
     "grade": true,
     "grade_id": "cell-bb3057c3516ca880",
     "locked": false,
     "points": 0,
     "schema_version": 3,
     "solution": true,
     "task": false
    }
   },
   "outputs": [
    {
     "data": {
      "text/html": [
       "<div>\n",
       "<style scoped>\n",
       "    .dataframe tbody tr th:only-of-type {\n",
       "        vertical-align: middle;\n",
       "    }\n",
       "\n",
       "    .dataframe tbody tr th {\n",
       "        vertical-align: top;\n",
       "    }\n",
       "\n",
       "    .dataframe thead th {\n",
       "        text-align: right;\n",
       "    }\n",
       "</style>\n",
       "<table border=\"1\" class=\"dataframe\">\n",
       "  <thead>\n",
       "    <tr style=\"text-align: right;\">\n",
       "      <th>assignment_name</th>\n",
       "      <th>id_student</th>\n",
       "      <th>Final Exam</th>\n",
       "      <th>Quiz 1</th>\n",
       "      <th>Quiz 2</th>\n",
       "      <th>Quiz 3</th>\n",
       "      <th>Quiz 4</th>\n",
       "      <th>Quiz 5</th>\n",
       "      <th>Quiz 6</th>\n",
       "      <th>Quiz 7</th>\n",
       "      <th>Test 1</th>\n",
       "      <th>Test 2</th>\n",
       "      <th>Test 3</th>\n",
       "      <th>Test 4</th>\n",
       "      <th>Test 5</th>\n",
       "      <th>Test 6</th>\n",
       "    </tr>\n",
       "  </thead>\n",
       "  <tbody>\n",
       "    <tr>\n",
       "      <th>0</th>\n",
       "      <td>41060</td>\n",
       "      <td>0.0</td>\n",
       "      <td>154.0</td>\n",
       "      <td>282.0</td>\n",
       "      <td>282.0</td>\n",
       "      <td>388.0</td>\n",
       "      <td>348.0</td>\n",
       "      <td>183.0</td>\n",
       "      <td>0.0</td>\n",
       "      <td>637.5</td>\n",
       "      <td>860.0</td>\n",
       "      <td>1125.0</td>\n",
       "      <td>1260.0</td>\n",
       "      <td>840.0</td>\n",
       "      <td>0.0</td>\n",
       "    </tr>\n",
       "    <tr>\n",
       "      <th>1</th>\n",
       "      <td>45664</td>\n",
       "      <td>4000.0</td>\n",
       "      <td>94.0</td>\n",
       "      <td>0.0</td>\n",
       "      <td>150.0</td>\n",
       "      <td>252.0</td>\n",
       "      <td>276.0</td>\n",
       "      <td>174.0</td>\n",
       "      <td>402.0</td>\n",
       "      <td>495.0</td>\n",
       "      <td>460.0</td>\n",
       "      <td>675.0</td>\n",
       "      <td>975.0</td>\n",
       "      <td>825.0</td>\n",
       "      <td>750.0</td>\n",
       "    </tr>\n",
       "    <tr>\n",
       "      <th>2</th>\n",
       "      <td>52014</td>\n",
       "      <td>1300.0</td>\n",
       "      <td>106.0</td>\n",
       "      <td>159.0</td>\n",
       "      <td>126.0</td>\n",
       "      <td>108.0</td>\n",
       "      <td>80.0</td>\n",
       "      <td>0.0</td>\n",
       "      <td>0.0</td>\n",
       "      <td>607.5</td>\n",
       "      <td>700.0</td>\n",
       "      <td>487.5</td>\n",
       "      <td>0.0</td>\n",
       "      <td>540.0</td>\n",
       "      <td>210.0</td>\n",
       "    </tr>\n",
       "    <tr>\n",
       "      <th>3</th>\n",
       "      <td>53488</td>\n",
       "      <td>7300.0</td>\n",
       "      <td>186.0</td>\n",
       "      <td>291.0</td>\n",
       "      <td>300.0</td>\n",
       "      <td>372.0</td>\n",
       "      <td>376.0</td>\n",
       "      <td>291.0</td>\n",
       "      <td>510.0</td>\n",
       "      <td>600.0</td>\n",
       "      <td>610.0</td>\n",
       "      <td>1037.5</td>\n",
       "      <td>1185.0</td>\n",
       "      <td>945.0</td>\n",
       "      <td>765.0</td>\n",
       "    </tr>\n",
       "    <tr>\n",
       "      <th>4</th>\n",
       "      <td>60135</td>\n",
       "      <td>4000.0</td>\n",
       "      <td>114.0</td>\n",
       "      <td>258.0</td>\n",
       "      <td>183.0</td>\n",
       "      <td>212.0</td>\n",
       "      <td>260.0</td>\n",
       "      <td>84.0</td>\n",
       "      <td>114.0</td>\n",
       "      <td>570.0</td>\n",
       "      <td>760.0</td>\n",
       "      <td>1050.0</td>\n",
       "      <td>0.0</td>\n",
       "      <td>720.0</td>\n",
       "      <td>0.0</td>\n",
       "    </tr>\n",
       "  </tbody>\n",
       "</table>\n",
       "</div>"
      ],
      "text/plain": [
       "assignment_name  id_student  Final Exam  Quiz 1  Quiz 2  Quiz 3  Quiz 4  \\\n",
       "0                     41060         0.0   154.0   282.0   282.0   388.0   \n",
       "1                     45664      4000.0    94.0     0.0   150.0   252.0   \n",
       "2                     52014      1300.0   106.0   159.0   126.0   108.0   \n",
       "3                     53488      7300.0   186.0   291.0   300.0   372.0   \n",
       "4                     60135      4000.0   114.0   258.0   183.0   212.0   \n",
       "\n",
       "assignment_name  Quiz 5  Quiz 6  Quiz 7  Test 1  Test 2  Test 3  Test 4  \\\n",
       "0                 348.0   183.0     0.0   637.5   860.0  1125.0  1260.0   \n",
       "1                 276.0   174.0   402.0   495.0   460.0   675.0   975.0   \n",
       "2                  80.0     0.0     0.0   607.5   700.0   487.5     0.0   \n",
       "3                 376.0   291.0   510.0   600.0   610.0  1037.5  1185.0   \n",
       "4                 260.0    84.0   114.0   570.0   760.0  1050.0     0.0   \n",
       "\n",
       "assignment_name  Test 5  Test 6  \n",
       "0                 840.0     0.0  \n",
       "1                 825.0   750.0  \n",
       "2                 540.0   210.0  \n",
       "3                 945.0   765.0  \n",
       "4                 720.0     0.0  "
      ]
     },
     "execution_count": 153,
     "metadata": {},
     "output_type": "execute_result"
    }
   ],
   "source": [
    "## Your code with comments\n",
    "# YOUR CODE HERE\n",
    "qt_clustering = qt\n",
    "#transform long to wide\n",
    "qt_clustering_wide = pd.pivot_table(qt_clustering, index='id_student', columns='assignment_name', values='score_weight', aggfunc='sum').reset_index()\n",
    "qt_clustering_wide.head()"
   ]
  },
  {
   "cell_type": "code",
   "execution_count": 154,
   "metadata": {},
   "outputs": [
    {
     "data": {
      "text/plain": [
       "(813, 15)"
      ]
     },
     "execution_count": 154,
     "metadata": {},
     "output_type": "execute_result"
    }
   ],
   "source": [
    "qt_clustering_wide.shape"
   ]
  },
  {
   "cell_type": "code",
   "execution_count": 155,
   "metadata": {},
   "outputs": [
    {
     "data": {
      "text/plain": [
       "Index(['id_student', 'Final Exam', 'Quiz 1', 'Quiz 2', 'Quiz 3', 'Quiz 4',\n",
       "       'Quiz 5', 'Quiz 6', 'Quiz 7', 'Test 1', 'Test 2', 'Test 3', 'Test 4',\n",
       "       'Test 5', 'Test 6'],\n",
       "      dtype='object', name='assignment_name')"
      ]
     },
     "execution_count": 155,
     "metadata": {},
     "output_type": "execute_result"
    }
   ],
   "source": [
    "qt_clustering_wide.columns"
   ]
  },
  {
   "cell_type": "markdown",
   "metadata": {
    "deletable": false,
    "editable": false,
    "nbgrader": {
     "cell_type": "markdown",
     "checksum": "4ecdd4377e6eff05d51f58681f969336",
     "grade": false,
     "grade_id": "cell-69e90f5d704b395c",
     "locked": true,
     "schema_version": 3,
     "solution": false,
     "task": false
    }
   },
   "source": [
    "2.2. (4 points) Create a dataframe for clustering from `learning_resources.csv`"
   ]
  },
  {
   "cell_type": "code",
   "execution_count": 156,
   "metadata": {
    "deletable": false,
    "id": "hBqCcpvIZuSa",
    "nbgrader": {
     "cell_type": "code",
     "checksum": "9b18cf5ca3202631c19fb1119e190ae1",
     "grade": true,
     "grade_id": "cell-52d4b47041970837",
     "locked": false,
     "points": 0,
     "schema_version": 3,
     "solution": true,
     "task": false
    }
   },
   "outputs": [
    {
     "data": {
      "text/html": [
       "<div>\n",
       "<style scoped>\n",
       "    .dataframe tbody tr th:only-of-type {\n",
       "        vertical-align: middle;\n",
       "    }\n",
       "\n",
       "    .dataframe tbody tr th {\n",
       "        vertical-align: top;\n",
       "    }\n",
       "\n",
       "    .dataframe thead th {\n",
       "        text-align: right;\n",
       "    }\n",
       "</style>\n",
       "<table border=\"1\" class=\"dataframe\">\n",
       "  <thead>\n",
       "    <tr style=\"text-align: right;\">\n",
       "      <th>activity_type</th>\n",
       "      <th>id_student</th>\n",
       "      <th>course_homepage</th>\n",
       "      <th>course_page</th>\n",
       "      <th>forum</th>\n",
       "      <th>resource</th>\n",
       "      <th>wiki</th>\n",
       "    </tr>\n",
       "  </thead>\n",
       "  <tbody>\n",
       "    <tr>\n",
       "      <th>0</th>\n",
       "      <td>41060</td>\n",
       "      <td>80.0</td>\n",
       "      <td>240.0</td>\n",
       "      <td>28.0</td>\n",
       "      <td>30.0</td>\n",
       "      <td>13.0</td>\n",
       "    </tr>\n",
       "    <tr>\n",
       "      <th>1</th>\n",
       "      <td>45664</td>\n",
       "      <td>287.0</td>\n",
       "      <td>387.0</td>\n",
       "      <td>135.0</td>\n",
       "      <td>171.0</td>\n",
       "      <td>46.0</td>\n",
       "    </tr>\n",
       "    <tr>\n",
       "      <th>2</th>\n",
       "      <td>52014</td>\n",
       "      <td>98.0</td>\n",
       "      <td>116.0</td>\n",
       "      <td>37.0</td>\n",
       "      <td>16.0</td>\n",
       "      <td>73.0</td>\n",
       "    </tr>\n",
       "    <tr>\n",
       "      <th>3</th>\n",
       "      <td>53488</td>\n",
       "      <td>311.0</td>\n",
       "      <td>222.0</td>\n",
       "      <td>536.0</td>\n",
       "      <td>115.0</td>\n",
       "      <td>184.0</td>\n",
       "    </tr>\n",
       "    <tr>\n",
       "      <th>4</th>\n",
       "      <td>60135</td>\n",
       "      <td>822.0</td>\n",
       "      <td>789.0</td>\n",
       "      <td>613.0</td>\n",
       "      <td>252.0</td>\n",
       "      <td>185.0</td>\n",
       "    </tr>\n",
       "    <tr>\n",
       "      <th>...</th>\n",
       "      <td>...</td>\n",
       "      <td>...</td>\n",
       "      <td>...</td>\n",
       "      <td>...</td>\n",
       "      <td>...</td>\n",
       "      <td>...</td>\n",
       "    </tr>\n",
       "    <tr>\n",
       "      <th>808</th>\n",
       "      <td>2678338</td>\n",
       "      <td>553.0</td>\n",
       "      <td>343.0</td>\n",
       "      <td>383.0</td>\n",
       "      <td>137.0</td>\n",
       "      <td>179.0</td>\n",
       "    </tr>\n",
       "    <tr>\n",
       "      <th>809</th>\n",
       "      <td>2683836</td>\n",
       "      <td>177.0</td>\n",
       "      <td>205.0</td>\n",
       "      <td>203.0</td>\n",
       "      <td>72.0</td>\n",
       "      <td>102.0</td>\n",
       "    </tr>\n",
       "    <tr>\n",
       "      <th>810</th>\n",
       "      <td>2689536</td>\n",
       "      <td>189.0</td>\n",
       "      <td>343.0</td>\n",
       "      <td>94.0</td>\n",
       "      <td>93.0</td>\n",
       "      <td>25.0</td>\n",
       "    </tr>\n",
       "    <tr>\n",
       "      <th>811</th>\n",
       "      <td>2693243</td>\n",
       "      <td>590.0</td>\n",
       "      <td>706.0</td>\n",
       "      <td>814.0</td>\n",
       "      <td>344.0</td>\n",
       "      <td>116.0</td>\n",
       "    </tr>\n",
       "    <tr>\n",
       "      <th>812</th>\n",
       "      <td>2694933</td>\n",
       "      <td>279.0</td>\n",
       "      <td>211.0</td>\n",
       "      <td>222.0</td>\n",
       "      <td>99.0</td>\n",
       "      <td>51.0</td>\n",
       "    </tr>\n",
       "  </tbody>\n",
       "</table>\n",
       "<p>813 rows × 6 columns</p>\n",
       "</div>"
      ],
      "text/plain": [
       "activity_type  id_student course_homepage course_page  forum resource   wiki\n",
       "0                   41060            80.0       240.0   28.0     30.0   13.0\n",
       "1                   45664           287.0       387.0  135.0    171.0   46.0\n",
       "2                   52014            98.0       116.0   37.0     16.0   73.0\n",
       "3                   53488           311.0       222.0  536.0    115.0  184.0\n",
       "4                   60135           822.0       789.0  613.0    252.0  185.0\n",
       "..                    ...             ...         ...    ...      ...    ...\n",
       "808               2678338           553.0       343.0  383.0    137.0  179.0\n",
       "809               2683836           177.0       205.0  203.0     72.0  102.0\n",
       "810               2689536           189.0       343.0   94.0     93.0   25.0\n",
       "811               2693243           590.0       706.0  814.0    344.0  116.0\n",
       "812               2694933           279.0       211.0  222.0     99.0   51.0\n",
       "\n",
       "[813 rows x 6 columns]"
      ]
     },
     "execution_count": 156,
     "metadata": {},
     "output_type": "execute_result"
    }
   ],
   "source": [
    "## Your code with comments\n",
    "# YOUR CODE HERE\n",
    "lr_clustering = lr\n",
    "lr_clustering_pivoted = lr_clustering.pivot_table(values='sum_click', index='id_student', columns='activity_type', aggfunc='sum').fillna('0').reset_index()\n",
    "lr_clustering_pivoted"
   ]
  },
  {
   "cell_type": "code",
   "execution_count": 157,
   "metadata": {},
   "outputs": [
    {
     "data": {
      "text/plain": [
       "Index(['id_student', 'course_homepage', 'course_page', 'forum', 'resource',\n",
       "       'wiki'],\n",
       "      dtype='object', name='activity_type')"
      ]
     },
     "execution_count": 157,
     "metadata": {},
     "output_type": "execute_result"
    }
   ],
   "source": [
    "lr_clustering_pivoted.columns"
   ]
  },
  {
   "cell_type": "markdown",
   "metadata": {
    "deletable": false,
    "editable": false,
    "id": "ekTmciB9eXsV",
    "nbgrader": {
     "cell_type": "markdown",
     "checksum": "24f5ab61d489afbd7dbefc03701abbb6",
     "grade": false,
     "grade_id": "cell-b019e74f27179a6d",
     "locked": true,
     "schema_version": 3,
     "solution": false,
     "task": false
    }
   },
   "source": [
    "# 3. Data Processing and Standardization (4 points)"
   ]
  },
  {
   "cell_type": "markdown",
   "metadata": {
    "deletable": false,
    "editable": false,
    "nbgrader": {
     "cell_type": "markdown",
     "checksum": "3843825257aebb9a752c175bb08b365f",
     "grade": false,
     "grade_id": "cell-95bea7696038c71d",
     "locked": true,
     "schema_version": 3,
     "solution": false,
     "task": false
    }
   },
   "source": [
    "## Grading\n",
    "\n",
    "3.1. (2 points) Standardize wide-form variables for data frame from 2.1 (i.e., `quizzes_tests.csv`)\n",
    "\n",
    "3.2. (2 points) Standardize wide-form variables for data frame from 2.2 (i.e., `learning_resources.csv`)"
   ]
  },
  {
   "cell_type": "markdown",
   "metadata": {
    "deletable": false,
    "editable": false,
    "id": "092kV-dnemE2",
    "nbgrader": {
     "cell_type": "markdown",
     "checksum": "a06b4fcd4768f7c23ec2ffb2ab4597ad",
     "grade": false,
     "grade_id": "cell-0fe317025690a67a",
     "locked": true,
     "schema_version": 3,
     "solution": false,
     "task": false
    }
   },
   "source": [
    "The next step is to process and standardize your data frames from above. Use `sklearn preprocessing` to standardize variables from wide-form data frames. Save the result, and store the key columns used to define your cluster predictors in “X1”. **Do not include** `id_student` **as a predictor.**"
   ]
  },
  {
   "cell_type": "markdown",
   "metadata": {
    "deletable": false,
    "editable": false,
    "nbgrader": {
     "cell_type": "markdown",
     "checksum": "87b660b237f422343c9eff7ac162495a",
     "grade": false,
     "grade_id": "cell-2ab3955ca170a075",
     "locked": true,
     "schema_version": 3,
     "solution": false,
     "task": false
    }
   },
   "source": [
    "3.1. (2 points) Standardize wide-form variables for data frame from 2.1 (i.e., `quizzes_tests.csv`)"
   ]
  },
  {
   "cell_type": "code",
   "execution_count": 158,
   "metadata": {
    "deletable": false,
    "id": "jXFAt-yTkQav",
    "nbgrader": {
     "cell_type": "code",
     "checksum": "2727d8eff9d0c2619c8707df2bb8fb82",
     "grade": true,
     "grade_id": "cell-8cc2d79dce778642",
     "locked": false,
     "points": 0,
     "schema_version": 3,
     "solution": true,
     "task": false
    }
   },
   "outputs": [
    {
     "data": {
      "text/plain": [
       "array([[ 0.45651821,  0.67402149,  1.0031398 , ...,  0.83606537,\n",
       "         0.24207397, -1.06325086],\n",
       "       [-0.85635517, -2.69992692, -0.44585341, ...,  0.26408691,\n",
       "         0.21278734,  0.39919576],\n",
       "       [-0.59378049, -0.7975943 , -0.70930672, ..., -1.69268153,\n",
       "        -0.34365859, -0.65376581],\n",
       "       ...,\n",
       "       [ 0.45651821,  0.8893799 , -2.09243661, ...,  0.89627363,\n",
       "        -1.39797719, -1.06325086],\n",
       "       [ 1.33176712,  0.78170069,  1.0031398 , ...,  1.25752319,\n",
       "         1.17924606,  1.48140627],\n",
       "       [-0.41873071,  0.60223535, -0.08360511, ...,  0.50491994,\n",
       "         0.62280013,  1.04267228]])"
      ]
     },
     "execution_count": 158,
     "metadata": {},
     "output_type": "execute_result"
    }
   ],
   "source": [
    "## Your code with comments\n",
    "# YOUR CODE HERE\n",
    "# Select the variables that inform clustering and subset them as X1.\n",
    "X1 = qt_clustering_wide.iloc[:,2:15]\n",
    "\n",
    "# Standardize the factors\n",
    "X1_qt = preprocessing.scale(X1)\n",
    "#X1_qt = X1_qt[~np.isnan(X1_qt)]\n",
    "\n",
    "X1_qt"
   ]
  },
  {
   "cell_type": "markdown",
   "metadata": {
    "deletable": false,
    "editable": false,
    "id": "_-Nu9cBIkZ0v",
    "nbgrader": {
     "cell_type": "markdown",
     "checksum": "27876909fee98137cb0fd499a39e23aa",
     "grade": false,
     "grade_id": "cell-0d5af9b24221902a",
     "locked": true,
     "schema_version": 3,
     "solution": false,
     "task": false
    }
   },
   "source": [
    "3.2. (2 points) Standardize wide-form variables originating from `learning_resources.csv`"
   ]
  },
  {
   "cell_type": "code",
   "execution_count": 159,
   "metadata": {
    "deletable": false,
    "id": "1Wz1IFlEkb-P",
    "nbgrader": {
     "cell_type": "code",
     "checksum": "118a7ae20204661686461ee2c4a931d1",
     "grade": true,
     "grade_id": "cell-042bd4ab37cedea7",
     "locked": false,
     "points": 0,
     "schema_version": 3,
     "solution": true,
     "task": false
    }
   },
   "outputs": [
    {
     "data": {
      "text/plain": [
       "array([[-0.62711321, -0.80960638, -0.80194017, -0.85666153],\n",
       "       [-0.18055399, -0.53088155,  0.14900487, -0.52689551],\n",
       "       [-1.00380262, -0.78616224, -0.89636025, -0.25708696],\n",
       "       ...,\n",
       "       [-0.31421798, -0.63768265, -0.37704984, -0.73674661],\n",
       "       [ 0.78850989,  1.23784891,  1.31576722,  0.17260815],\n",
       "       [-0.71520993, -0.30425482, -0.33658409, -0.47693097]])"
      ]
     },
     "execution_count": 159,
     "metadata": {},
     "output_type": "execute_result"
    }
   ],
   "source": [
    "## Your code with comments\n",
    "# YOUR CODE HERE\n",
    "# Select the variables that inform clustering and subset them as X1.\n",
    "X1 = lr_clustering_pivoted.iloc[:,2:6]\n",
    "\n",
    "# Standardize the factors\n",
    "#X1_qt = X1_qt[~np.isnan(X1_qt)]\n",
    "X1_lr = preprocessing.scale(X1)\n",
    "\n",
    "X1_lr"
   ]
  },
  {
   "cell_type": "markdown",
   "metadata": {
    "deletable": false,
    "editable": false,
    "id": "LCB8ZFWSkgMQ",
    "nbgrader": {
     "cell_type": "markdown",
     "checksum": "97d5b521c45d88d8a1118695c0352203",
     "grade": false,
     "grade_id": "cell-9c2cc6c5b167abe8",
     "locked": true,
     "schema_version": 3,
     "solution": false,
     "task": false
    }
   },
   "source": [
    "# 4. **Identifying the optimal number of clusters for K-means** (4 points)"
   ]
  },
  {
   "cell_type": "markdown",
   "metadata": {
    "deletable": false,
    "editable": false,
    "nbgrader": {
     "cell_type": "markdown",
     "checksum": "1a942d7645c9ae3ee60d5c80708694d4",
     "grade": false,
     "grade_id": "cell-26a19a3ca148fd67",
     "locked": true,
     "schema_version": 3,
     "solution": false,
     "task": false
    }
   },
   "source": [
    "## Grading\n",
    "\n",
    "4.1. (2 points) Identify optimal clusters for data frame from 3.1 (i.e., `quizzes_tests.csv`)\n",
    "\n",
    "4.2. (2 points) Identify optimal clusters for data frame from 3.2 (i.e., `learning_resources.csv`)"
   ]
  },
  {
   "cell_type": "markdown",
   "metadata": {
    "deletable": false,
    "editable": false,
    "id": "jCQBPRPxnXuy",
    "nbgrader": {
     "cell_type": "markdown",
     "checksum": "16e3d812845719265363b0c57e8d86f8",
     "grade": false,
     "grade_id": "cell-6add4004cf585203",
     "locked": true,
     "schema_version": 3,
     "solution": false,
     "task": false
    }
   },
   "source": [
    "As noted in our mall customer example, we must first specify the number of clusters before running k-means. Using one of the techniques described above (inertia, silhouette, PCA) identify the number of optimal clusters for your data. Be sure to include a visualization of your approach."
   ]
  },
  {
   "cell_type": "markdown",
   "metadata": {
    "deletable": false,
    "editable": false,
    "id": "2UZwELGop0YM",
    "nbgrader": {
     "cell_type": "markdown",
     "checksum": "c9730c386540d178a880d8ffecfc4b5c",
     "grade": false,
     "grade_id": "cell-6a76ab9190079ca4",
     "locked": true,
     "schema_version": 3,
     "solution": false,
     "task": false
    }
   },
   "source": [
    "4.1. (2 points) Identify optimal clusters for data frame from 3.1 (i.e., `quizzes_tests.csv`)"
   ]
  },
  {
   "cell_type": "code",
   "execution_count": 160,
   "metadata": {
    "deletable": false,
    "id": "Dw66x5ilqJKE",
    "nbgrader": {
     "cell_type": "code",
     "checksum": "806e0a27dee48666b18fa93dd85f88cb",
     "grade": true,
     "grade_id": "cell-e24efd8c164ff416",
     "locked": false,
     "points": 0,
     "schema_version": 3,
     "solution": true,
     "task": false
    }
   },
   "outputs": [],
   "source": [
    "## Your code with comments\n",
    "# YOUR CODE HERE\n",
    "# Set up the code to calculate the inertia statistic for each k-means model for clusters 1 through 11. \n",
    "# This array of inertia values can be used for plotting our elbow graph.\n",
    "# random_state is set for reproducibility. \n",
    "\n",
    "inertia = []\n",
    "for n in range(1 , 11):\n",
    "    algorithm = (KMeans(n_clusters = n ,init='k-means++', n_init = 10 ,max_iter=300, \n",
    "                        tol=0.0001,  random_state= 111  , algorithm='full') )\n",
    "    algorithm.fit(X1_qt)\n",
    "    inertia.append(algorithm.inertia_)\n",
    "    \n",
    "##Alternative Method    \n",
    "#qt_pca = PCA()\n",
    "#qt_pca.fit(qt_X1)\n",
    "#qt_pca.explained_variance_ratio_\n",
    "#plt.figure(figsize = (10,8))\n",
    "#plt.plot(range(1, 15), qt_pca.explained_variance_ratio_.cumsum(), marker = 'o', linestyle = '--')\n",
    "#plt.axhline(y = 0.8, color = 'red')\n",
    "#plt.title('Explained Variance by Components')\n",
    "#plt.xlabel('Number of Components')\n",
    "#plt.ylabel('Cumulative Explained Variance')\n",
    "#print('The optimal cluster is 4')    "
   ]
  },
  {
   "cell_type": "code",
   "execution_count": 161,
   "metadata": {},
   "outputs": [
    {
     "data": {
      "image/png": "[encoded data removed]",
      "text/plain": [
       "<Figure size 1080x432 with 1 Axes>"
      ]
     },
     "metadata": {
      "needs_background": "light"
     },
     "output_type": "display_data"
    }
   ],
   "source": [
    "#Plot the interia points to create the elbow plot\n",
    "\n",
    "plt.figure(1 , figsize = (15 ,6))\n",
    "plt.plot(np.arange(1 , 11) , inertia , 'o')\n",
    "plt.plot(np.arange(1 , 11) , inertia , '-' , alpha = 0.5)\n",
    "plt.xlabel('Number of Clusters - quizzes_tests') , plt.ylabel('Inertia')\n",
    "plt.show()"
   ]
  },
  {
   "cell_type": "markdown",
   "metadata": {
    "deletable": false,
    "editable": false,
    "nbgrader": {
     "cell_type": "markdown",
     "checksum": "9c88b78c9b2bf09f6c4a3f9830085ef6",
     "grade": false,
     "grade_id": "cell-115d7400dc16893c",
     "locked": true,
     "schema_version": 3,
     "solution": false,
     "task": false
    }
   },
   "source": [
    "4.2. (2 points) Identify optimal clusters for data frame from 3.2 (i.e., `learning_resources.csv`)"
   ]
  },
  {
   "cell_type": "code",
   "execution_count": 162,
   "metadata": {
    "deletable": false,
    "nbgrader": {
     "cell_type": "code",
     "checksum": "a79efc1786632551684a8b42e9af1671",
     "grade": true,
     "grade_id": "cell-4057901972a9d694",
     "locked": false,
     "points": 0,
     "schema_version": 3,
     "solution": true,
     "task": false
    }
   },
   "outputs": [],
   "source": [
    "## Your code with comments\n",
    "# YOUR CODE HERE\n",
    "# Set up the code to calculate the inertia statistic for each k-means model for clusters 1 through 11. \n",
    "# This array of inertia values can be used for plotting our elbow graph.\n",
    "# random_state is set for reproducibility. \n",
    "\n",
    "inertia = []\n",
    "for n in range(1 , 11):\n",
    "    algorithm = (KMeans(n_clusters = n ,init='k-means++', n_init = 10 ,max_iter=300, \n",
    "                        tol=0.0001,  random_state= 111  , algorithm='full') )\n",
    "    algorithm.fit(X1_lr)\n",
    "    inertia.append(algorithm.inertia_)"
   ]
  },
  {
   "cell_type": "code",
   "execution_count": 163,
   "metadata": {},
   "outputs": [
    {
     "data": {
      "image/png": "[encoded data removed]",
      "text/plain": [
       "<Figure size 1080x432 with 1 Axes>"
      ]
     },
     "metadata": {
      "needs_background": "light"
     },
     "output_type": "display_data"
    }
   ],
   "source": [
    "#Plot the interia points to create the elbow plot\n",
    "\n",
    "plt.figure(1 , figsize = (15 ,6))\n",
    "plt.plot(np.arange(1 , 11) , inertia , 'o')\n",
    "plt.plot(np.arange(1 , 11) , inertia , '-' , alpha = 0.5)\n",
    "plt.xlabel('Number of Clusters - learning_resources') , plt.ylabel('Inertia')\n",
    "plt.show()"
   ]
  },
  {
   "cell_type": "markdown",
   "metadata": {
    "deletable": false,
    "editable": false,
    "id": "sU4ls9ZAtCn1",
    "nbgrader": {
     "cell_type": "markdown",
     "checksum": "8ad37c2ffc0bbced371a38a08e4f16c4",
     "grade": false,
     "grade_id": "cell-211872d47823b7b4",
     "locked": true,
     "schema_version": 3,
     "solution": false,
     "task": false
    }
   },
   "source": [
    "## 5. Build the K-means model and explore the characteristics of the clusters (24 points)"
   ]
  },
  {
   "cell_type": "markdown",
   "metadata": {
    "deletable": false,
    "editable": false,
    "id": "OrylXrNste4Q",
    "nbgrader": {
     "cell_type": "markdown",
     "checksum": "b681db5453b9e0fef3dae85dc0ec513f",
     "grade": false,
     "grade_id": "cell-946ad03a386fe575",
     "locked": true,
     "schema_version": 3,
     "solution": false,
     "task": false
    }
   },
   "source": [
    "Now that you have identified the number of clusters, it is time to build the model and interrogate the results."
   ]
  },
  {
   "cell_type": "markdown",
   "metadata": {
    "deletable": false,
    "editable": false,
    "nbgrader": {
     "cell_type": "markdown",
     "checksum": "5040daab68470eb4842fc27fa578d07c",
     "grade": false,
     "grade_id": "cell-3b1f4c5cd6b8c697",
     "locked": true,
     "schema_version": 3,
     "solution": false,
     "task": false
    }
   },
   "source": [
    "## Grading\n",
    "\n",
    "5.1. (4 points) Using the optimal number of clusters you identified, build your k-means model on data frame from 4.1 (i.e., `quizzes_tests.csv`)\n",
    "\n",
    "5.2. (4 points) Using the optimal number of clusters you identified, build your k-means model on data frame from 4.2 (i.e., `learning_resources.csv`)\n",
    "\n",
    "5.3. (2 points) Join cluster labels onto data frame from 5.1\n",
    "\n",
    "5.4. (2 points) Join cluster labels onto data frame from 5.2\n",
    "\n",
    "5.5. (2 points) Create descriptive table of features using cluster labels for data frame from 5.3\n",
    "\n",
    "5.6. (2 points) Create descriptive table of features using cluster labels for data frame from 5.4\n",
    "\n",
    "5.7 (2 points) Join data frames from 5.3 and 5.4\n",
    "\n",
    "5.8 (2 points) Create a cross-tabulation of quiz- and resource-based cluster labels (i.e., counts of students in each cell)\n",
    "\n",
    "5.9 (2 points) Merge `final_result` from `student_info.csv` onto data frame from 5.7\n",
    "\n",
    "5.10 (2 points) Calculate the pass rate (i.e., `final_result`) for each combination of quiz- and resource-based clusters"
   ]
  },
  {
   "cell_type": "markdown",
   "metadata": {
    "deletable": false,
    "editable": false,
    "id": "g-IAlF1ItyEN",
    "nbgrader": {
     "cell_type": "markdown",
     "checksum": "ec0ee87ac0a412b135c03371c77bd23b",
     "grade": false,
     "grade_id": "cell-d734d3314d15f8fd",
     "locked": true,
     "schema_version": 3,
     "solution": false,
     "task": false
    }
   },
   "source": [
    "5.1. (4 points) Using the optimal number of clusters you identified, build your k-means model on data frame from 4.1 (i.e., `quizzes_tests.csv`)"
   ]
  },
  {
   "cell_type": "code",
   "execution_count": 164,
   "metadata": {
    "deletable": false,
    "id": "K0ZgjCw2HF0F",
    "nbgrader": {
     "cell_type": "code",
     "checksum": "45d684bd5443a33430e262c15b486b8b",
     "grade": true,
     "grade_id": "cell-6c3b7446408a12dd",
     "locked": false,
     "points": 0,
     "schema_version": 3,
     "solution": true,
     "task": false
    }
   },
   "outputs": [],
   "source": [
    "## Your code with comments\n",
    "# YOUR CODE HERE\n",
    "\n",
    "kmeans_qt = (KMeans(n_clusters = 3 ,init='k-means++', n_init = 10 ,max_iter=300, \n",
    "                        tol=0.0001,  random_state= 111  , algorithm='full') ) \n",
    "kmeans_qt.fit(X1_qt)\n",
    " \n",
    "qt_predict=kmeans_qt.predict(X1_qt) "
   ]
  },
  {
   "cell_type": "markdown",
   "metadata": {
    "deletable": false,
    "editable": false,
    "nbgrader": {
     "cell_type": "markdown",
     "checksum": "fc6e29b04845d127ffa04b553b46c94a",
     "grade": false,
     "grade_id": "cell-50104b6114d97c4c",
     "locked": true,
     "schema_version": 3,
     "solution": false,
     "task": false
    }
   },
   "source": [
    "5.2. (4 points) Using the optimal number of clusters you identified, build your k-means model on data frame from 4.2 (i.e., `learning_resources.csv`)"
   ]
  },
  {
   "cell_type": "code",
   "execution_count": 165,
   "metadata": {
    "deletable": false,
    "nbgrader": {
     "cell_type": "code",
     "checksum": "0410f59c864930b1ed4b34839db8d461",
     "grade": true,
     "grade_id": "cell-1460997ff6018676",
     "locked": false,
     "points": 0,
     "schema_version": 3,
     "solution": true,
     "task": false
    }
   },
   "outputs": [],
   "source": [
    "## Your code with comments\n",
    "# YOUR CODE HERE\n",
    "\n",
    "kmeans_lr = (KMeans(n_clusters = 3 ,init='k-means++', n_init = 10 ,max_iter=300, \n",
    "                        tol=0.0001,  random_state= 111  , algorithm='full') )\n",
    "kmeans_lr.fit(X1_lr)\n",
    "\n",
    "lr_predict=kmeans_lr.predict(X1_lr)"
   ]
  },
  {
   "cell_type": "markdown",
   "metadata": {
    "deletable": false,
    "editable": false,
    "nbgrader": {
     "cell_type": "markdown",
     "checksum": "a52bf1f03ecc23e740bf9c75182933c3",
     "grade": false,
     "grade_id": "cell-56dc6a8700887ef2",
     "locked": true,
     "schema_version": 3,
     "solution": false,
     "task": false
    }
   },
   "source": [
    "5.3. (2 points) Join cluster labels onto data frame from 5.1"
   ]
  },
  {
   "cell_type": "code",
   "execution_count": 166,
   "metadata": {
    "deletable": false,
    "nbgrader": {
     "cell_type": "code",
     "checksum": "0623793f3e6db14ea9a8191f038ac0f0",
     "grade": true,
     "grade_id": "cell-328c6017baa870bb",
     "locked": false,
     "points": 0,
     "schema_version": 3,
     "solution": true,
     "task": false
    }
   },
   "outputs": [
    {
     "data": {
      "text/html": [
       "<div>\n",
       "<style scoped>\n",
       "    .dataframe tbody tr th:only-of-type {\n",
       "        vertical-align: middle;\n",
       "    }\n",
       "\n",
       "    .dataframe tbody tr th {\n",
       "        vertical-align: top;\n",
       "    }\n",
       "\n",
       "    .dataframe thead th {\n",
       "        text-align: right;\n",
       "    }\n",
       "</style>\n",
       "<table border=\"1\" class=\"dataframe\">\n",
       "  <thead>\n",
       "    <tr style=\"text-align: right;\">\n",
       "      <th>assignment_name</th>\n",
       "      <th>id_student</th>\n",
       "      <th>Final Exam</th>\n",
       "      <th>Quiz 1</th>\n",
       "      <th>Quiz 2</th>\n",
       "      <th>Quiz 3</th>\n",
       "      <th>Quiz 4</th>\n",
       "      <th>Quiz 5</th>\n",
       "      <th>Quiz 6</th>\n",
       "      <th>Quiz 7</th>\n",
       "      <th>Test 1</th>\n",
       "      <th>Test 2</th>\n",
       "      <th>Test 3</th>\n",
       "      <th>Test 4</th>\n",
       "      <th>Test 5</th>\n",
       "      <th>Test 6</th>\n",
       "      <th>cluster_qt</th>\n",
       "    </tr>\n",
       "  </thead>\n",
       "  <tbody>\n",
       "    <tr>\n",
       "      <th>0</th>\n",
       "      <td>41060</td>\n",
       "      <td>0.0</td>\n",
       "      <td>154.0</td>\n",
       "      <td>282.0</td>\n",
       "      <td>282.0</td>\n",
       "      <td>388.0</td>\n",
       "      <td>348.0</td>\n",
       "      <td>183.0</td>\n",
       "      <td>0.0</td>\n",
       "      <td>637.5</td>\n",
       "      <td>860.0</td>\n",
       "      <td>1125.0</td>\n",
       "      <td>1260.0</td>\n",
       "      <td>840.0</td>\n",
       "      <td>0.0</td>\n",
       "      <td>1</td>\n",
       "    </tr>\n",
       "    <tr>\n",
       "      <th>1</th>\n",
       "      <td>45664</td>\n",
       "      <td>4000.0</td>\n",
       "      <td>94.0</td>\n",
       "      <td>0.0</td>\n",
       "      <td>150.0</td>\n",
       "      <td>252.0</td>\n",
       "      <td>276.0</td>\n",
       "      <td>174.0</td>\n",
       "      <td>402.0</td>\n",
       "      <td>495.0</td>\n",
       "      <td>460.0</td>\n",
       "      <td>675.0</td>\n",
       "      <td>975.0</td>\n",
       "      <td>825.0</td>\n",
       "      <td>750.0</td>\n",
       "      <td>2</td>\n",
       "    </tr>\n",
       "    <tr>\n",
       "      <th>2</th>\n",
       "      <td>52014</td>\n",
       "      <td>1300.0</td>\n",
       "      <td>106.0</td>\n",
       "      <td>159.0</td>\n",
       "      <td>126.0</td>\n",
       "      <td>108.0</td>\n",
       "      <td>80.0</td>\n",
       "      <td>0.0</td>\n",
       "      <td>0.0</td>\n",
       "      <td>607.5</td>\n",
       "      <td>700.0</td>\n",
       "      <td>487.5</td>\n",
       "      <td>0.0</td>\n",
       "      <td>540.0</td>\n",
       "      <td>210.0</td>\n",
       "      <td>2</td>\n",
       "    </tr>\n",
       "    <tr>\n",
       "      <th>3</th>\n",
       "      <td>53488</td>\n",
       "      <td>7300.0</td>\n",
       "      <td>186.0</td>\n",
       "      <td>291.0</td>\n",
       "      <td>300.0</td>\n",
       "      <td>372.0</td>\n",
       "      <td>376.0</td>\n",
       "      <td>291.0</td>\n",
       "      <td>510.0</td>\n",
       "      <td>600.0</td>\n",
       "      <td>610.0</td>\n",
       "      <td>1037.5</td>\n",
       "      <td>1185.0</td>\n",
       "      <td>945.0</td>\n",
       "      <td>765.0</td>\n",
       "      <td>1</td>\n",
       "    </tr>\n",
       "    <tr>\n",
       "      <th>4</th>\n",
       "      <td>60135</td>\n",
       "      <td>4000.0</td>\n",
       "      <td>114.0</td>\n",
       "      <td>258.0</td>\n",
       "      <td>183.0</td>\n",
       "      <td>212.0</td>\n",
       "      <td>260.0</td>\n",
       "      <td>84.0</td>\n",
       "      <td>114.0</td>\n",
       "      <td>570.0</td>\n",
       "      <td>760.0</td>\n",
       "      <td>1050.0</td>\n",
       "      <td>0.0</td>\n",
       "      <td>720.0</td>\n",
       "      <td>0.0</td>\n",
       "      <td>2</td>\n",
       "    </tr>\n",
       "  </tbody>\n",
       "</table>\n",
       "</div>"
      ],
      "text/plain": [
       "assignment_name  id_student  Final Exam  Quiz 1  Quiz 2  Quiz 3  Quiz 4  \\\n",
       "0                     41060         0.0   154.0   282.0   282.0   388.0   \n",
       "1                     45664      4000.0    94.0     0.0   150.0   252.0   \n",
       "2                     52014      1300.0   106.0   159.0   126.0   108.0   \n",
       "3                     53488      7300.0   186.0   291.0   300.0   372.0   \n",
       "4                     60135      4000.0   114.0   258.0   183.0   212.0   \n",
       "\n",
       "assignment_name  Quiz 5  Quiz 6  Quiz 7  Test 1  Test 2  Test 3  Test 4  \\\n",
       "0                 348.0   183.0     0.0   637.5   860.0  1125.0  1260.0   \n",
       "1                 276.0   174.0   402.0   495.0   460.0   675.0   975.0   \n",
       "2                  80.0     0.0     0.0   607.5   700.0   487.5     0.0   \n",
       "3                 376.0   291.0   510.0   600.0   610.0  1037.5  1185.0   \n",
       "4                 260.0    84.0   114.0   570.0   760.0  1050.0     0.0   \n",
       "\n",
       "assignment_name  Test 5  Test 6  cluster_qt  \n",
       "0                 840.0     0.0           1  \n",
       "1                 825.0   750.0           2  \n",
       "2                 540.0   210.0           2  \n",
       "3                 945.0   765.0           1  \n",
       "4                 720.0     0.0           2  "
      ]
     },
     "execution_count": 166,
     "metadata": {},
     "output_type": "execute_result"
    }
   ],
   "source": [
    "## Your code with comments\n",
    "# YOUR CODE HERE\n",
    "qt_clustering_wide['cluster_qt'] = pd.Series(qt_predict, index=qt_clustering_wide.index)\n",
    "qt_clustering_wide.head()"
   ]
  },
  {
   "cell_type": "markdown",
   "metadata": {
    "deletable": false,
    "editable": false,
    "nbgrader": {
     "cell_type": "markdown",
     "checksum": "998d459fcf4b8e32f67052d383763523",
     "grade": false,
     "grade_id": "cell-6717659403e02f7a",
     "locked": true,
     "schema_version": 3,
     "solution": false,
     "task": false
    }
   },
   "source": [
    "5.4. (2 points) Join cluster labels onto data frame from 5.2"
   ]
  },
  {
   "cell_type": "code",
   "execution_count": 167,
   "metadata": {
    "deletable": false,
    "nbgrader": {
     "cell_type": "code",
     "checksum": "54c881f3894d7c83dac20e0ce76e7268",
     "grade": true,
     "grade_id": "cell-1c667a62f955dcf6",
     "locked": false,
     "points": 0,
     "schema_version": 3,
     "solution": true,
     "task": false
    }
   },
   "outputs": [
    {
     "data": {
      "text/html": [
       "<div>\n",
       "<style scoped>\n",
       "    .dataframe tbody tr th:only-of-type {\n",
       "        vertical-align: middle;\n",
       "    }\n",
       "\n",
       "    .dataframe tbody tr th {\n",
       "        vertical-align: top;\n",
       "    }\n",
       "\n",
       "    .dataframe thead th {\n",
       "        text-align: right;\n",
       "    }\n",
       "</style>\n",
       "<table border=\"1\" class=\"dataframe\">\n",
       "  <thead>\n",
       "    <tr style=\"text-align: right;\">\n",
       "      <th>activity_type</th>\n",
       "      <th>id_student</th>\n",
       "      <th>course_homepage</th>\n",
       "      <th>course_page</th>\n",
       "      <th>forum</th>\n",
       "      <th>resource</th>\n",
       "      <th>wiki</th>\n",
       "      <th>cluster_lr</th>\n",
       "    </tr>\n",
       "  </thead>\n",
       "  <tbody>\n",
       "    <tr>\n",
       "      <th>0</th>\n",
       "      <td>41060</td>\n",
       "      <td>80.0</td>\n",
       "      <td>240.0</td>\n",
       "      <td>28.0</td>\n",
       "      <td>30.0</td>\n",
       "      <td>13.0</td>\n",
       "      <td>0</td>\n",
       "    </tr>\n",
       "    <tr>\n",
       "      <th>1</th>\n",
       "      <td>45664</td>\n",
       "      <td>287.0</td>\n",
       "      <td>387.0</td>\n",
       "      <td>135.0</td>\n",
       "      <td>171.0</td>\n",
       "      <td>46.0</td>\n",
       "      <td>0</td>\n",
       "    </tr>\n",
       "    <tr>\n",
       "      <th>2</th>\n",
       "      <td>52014</td>\n",
       "      <td>98.0</td>\n",
       "      <td>116.0</td>\n",
       "      <td>37.0</td>\n",
       "      <td>16.0</td>\n",
       "      <td>73.0</td>\n",
       "      <td>0</td>\n",
       "    </tr>\n",
       "    <tr>\n",
       "      <th>3</th>\n",
       "      <td>53488</td>\n",
       "      <td>311.0</td>\n",
       "      <td>222.0</td>\n",
       "      <td>536.0</td>\n",
       "      <td>115.0</td>\n",
       "      <td>184.0</td>\n",
       "      <td>0</td>\n",
       "    </tr>\n",
       "    <tr>\n",
       "      <th>4</th>\n",
       "      <td>60135</td>\n",
       "      <td>822.0</td>\n",
       "      <td>789.0</td>\n",
       "      <td>613.0</td>\n",
       "      <td>252.0</td>\n",
       "      <td>185.0</td>\n",
       "      <td>2</td>\n",
       "    </tr>\n",
       "    <tr>\n",
       "      <th>...</th>\n",
       "      <td>...</td>\n",
       "      <td>...</td>\n",
       "      <td>...</td>\n",
       "      <td>...</td>\n",
       "      <td>...</td>\n",
       "      <td>...</td>\n",
       "      <td>...</td>\n",
       "    </tr>\n",
       "    <tr>\n",
       "      <th>808</th>\n",
       "      <td>2678338</td>\n",
       "      <td>553.0</td>\n",
       "      <td>343.0</td>\n",
       "      <td>383.0</td>\n",
       "      <td>137.0</td>\n",
       "      <td>179.0</td>\n",
       "      <td>0</td>\n",
       "    </tr>\n",
       "    <tr>\n",
       "      <th>809</th>\n",
       "      <td>2683836</td>\n",
       "      <td>177.0</td>\n",
       "      <td>205.0</td>\n",
       "      <td>203.0</td>\n",
       "      <td>72.0</td>\n",
       "      <td>102.0</td>\n",
       "      <td>0</td>\n",
       "    </tr>\n",
       "    <tr>\n",
       "      <th>810</th>\n",
       "      <td>2689536</td>\n",
       "      <td>189.0</td>\n",
       "      <td>343.0</td>\n",
       "      <td>94.0</td>\n",
       "      <td>93.0</td>\n",
       "      <td>25.0</td>\n",
       "      <td>0</td>\n",
       "    </tr>\n",
       "    <tr>\n",
       "      <th>811</th>\n",
       "      <td>2693243</td>\n",
       "      <td>590.0</td>\n",
       "      <td>706.0</td>\n",
       "      <td>814.0</td>\n",
       "      <td>344.0</td>\n",
       "      <td>116.0</td>\n",
       "      <td>2</td>\n",
       "    </tr>\n",
       "    <tr>\n",
       "      <th>812</th>\n",
       "      <td>2694933</td>\n",
       "      <td>279.0</td>\n",
       "      <td>211.0</td>\n",
       "      <td>222.0</td>\n",
       "      <td>99.0</td>\n",
       "      <td>51.0</td>\n",
       "      <td>0</td>\n",
       "    </tr>\n",
       "  </tbody>\n",
       "</table>\n",
       "<p>813 rows × 7 columns</p>\n",
       "</div>"
      ],
      "text/plain": [
       "activity_type  id_student course_homepage course_page  forum resource   wiki  \\\n",
       "0                   41060            80.0       240.0   28.0     30.0   13.0   \n",
       "1                   45664           287.0       387.0  135.0    171.0   46.0   \n",
       "2                   52014            98.0       116.0   37.0     16.0   73.0   \n",
       "3                   53488           311.0       222.0  536.0    115.0  184.0   \n",
       "4                   60135           822.0       789.0  613.0    252.0  185.0   \n",
       "..                    ...             ...         ...    ...      ...    ...   \n",
       "808               2678338           553.0       343.0  383.0    137.0  179.0   \n",
       "809               2683836           177.0       205.0  203.0     72.0  102.0   \n",
       "810               2689536           189.0       343.0   94.0     93.0   25.0   \n",
       "811               2693243           590.0       706.0  814.0    344.0  116.0   \n",
       "812               2694933           279.0       211.0  222.0     99.0   51.0   \n",
       "\n",
       "activity_type  cluster_lr  \n",
       "0                       0  \n",
       "1                       0  \n",
       "2                       0  \n",
       "3                       0  \n",
       "4                       2  \n",
       "..                    ...  \n",
       "808                     0  \n",
       "809                     0  \n",
       "810                     0  \n",
       "811                     2  \n",
       "812                     0  \n",
       "\n",
       "[813 rows x 7 columns]"
      ]
     },
     "execution_count": 167,
     "metadata": {},
     "output_type": "execute_result"
    }
   ],
   "source": [
    "## Your code with comments\n",
    "# YOUR CODE HERE\n",
    "#X1_lr = pd.DataFrame(X1_lr)\n",
    "lr_clustering_pivoted['cluster_lr'] = pd.Series(lr_predict, index=lr_clustering_pivoted.index)\n",
    "lr_clustering_pivoted"
   ]
  },
  {
   "cell_type": "code",
   "execution_count": 168,
   "metadata": {},
   "outputs": [
    {
     "data": {
      "text/plain": [
       "array([0, 2, 1], dtype=int32)"
      ]
     },
     "execution_count": 168,
     "metadata": {},
     "output_type": "execute_result"
    }
   ],
   "source": [
    "lr_clustering_pivoted['cluster_lr'].unique()"
   ]
  },
  {
   "cell_type": "markdown",
   "metadata": {
    "deletable": false,
    "editable": false,
    "nbgrader": {
     "cell_type": "markdown",
     "checksum": "d2fd6708c7f3461070115128e8cfe0cc",
     "grade": false,
     "grade_id": "cell-217b03ff8395769b",
     "locked": true,
     "schema_version": 3,
     "solution": false,
     "task": false
    }
   },
   "source": [
    "5.5. (2 points) Create descriptive table of features using cluster labels for data frame from 5.3"
   ]
  },
  {
   "cell_type": "code",
   "execution_count": 183,
   "metadata": {
    "deletable": false,
    "nbgrader": {
     "cell_type": "code",
     "checksum": "e54f786f0ff03e0986e86132b88371b4",
     "grade": true,
     "grade_id": "cell-130c6b55485136c3",
     "locked": false,
     "points": 0,
     "schema_version": 3,
     "solution": true,
     "task": false
    }
   },
   "outputs": [
    {
     "data": {
      "text/html": [
       "<div>\n",
       "<style scoped>\n",
       "    .dataframe tbody tr th:only-of-type {\n",
       "        vertical-align: middle;\n",
       "    }\n",
       "\n",
       "    .dataframe tbody tr th {\n",
       "        vertical-align: top;\n",
       "    }\n",
       "\n",
       "    .dataframe thead tr th {\n",
       "        text-align: left;\n",
       "    }\n",
       "</style>\n",
       "<table border=\"1\" class=\"dataframe\">\n",
       "  <thead>\n",
       "    <tr>\n",
       "      <th>assignment_name</th>\n",
       "      <th>id_student</th>\n",
       "      <th colspan=\"3\" halign=\"left\">Quiz 1</th>\n",
       "      <th colspan=\"3\" halign=\"left\">Quiz 2</th>\n",
       "      <th colspan=\"3\" halign=\"left\">Quiz 3</th>\n",
       "      <th>...</th>\n",
       "      <th>Test 3</th>\n",
       "      <th colspan=\"3\" halign=\"left\">Test 4</th>\n",
       "      <th colspan=\"3\" halign=\"left\">Test 5</th>\n",
       "      <th colspan=\"3\" halign=\"left\">Test 6</th>\n",
       "    </tr>\n",
       "    <tr>\n",
       "      <th>cluster_qt</th>\n",
       "      <th></th>\n",
       "      <th>0</th>\n",
       "      <th>1</th>\n",
       "      <th>2</th>\n",
       "      <th>0</th>\n",
       "      <th>1</th>\n",
       "      <th>2</th>\n",
       "      <th>0</th>\n",
       "      <th>1</th>\n",
       "      <th>2</th>\n",
       "      <th>...</th>\n",
       "      <th>2</th>\n",
       "      <th>0</th>\n",
       "      <th>1</th>\n",
       "      <th>2</th>\n",
       "      <th>0</th>\n",
       "      <th>1</th>\n",
       "      <th>2</th>\n",
       "      <th>0</th>\n",
       "      <th>1</th>\n",
       "      <th>2</th>\n",
       "    </tr>\n",
       "  </thead>\n",
       "  <tbody>\n",
       "    <tr>\n",
       "      <th>0</th>\n",
       "      <td>41060</td>\n",
       "      <td>0</td>\n",
       "      <td>154.0</td>\n",
       "      <td>0</td>\n",
       "      <td>0</td>\n",
       "      <td>282.0</td>\n",
       "      <td>0</td>\n",
       "      <td>0</td>\n",
       "      <td>282.0</td>\n",
       "      <td>0</td>\n",
       "      <td>...</td>\n",
       "      <td>0</td>\n",
       "      <td>0</td>\n",
       "      <td>1260.0</td>\n",
       "      <td>0</td>\n",
       "      <td>0</td>\n",
       "      <td>840.0</td>\n",
       "      <td>0</td>\n",
       "      <td>0</td>\n",
       "      <td>0.0</td>\n",
       "      <td>0</td>\n",
       "    </tr>\n",
       "    <tr>\n",
       "      <th>1</th>\n",
       "      <td>45664</td>\n",
       "      <td>0</td>\n",
       "      <td>0</td>\n",
       "      <td>94.0</td>\n",
       "      <td>0</td>\n",
       "      <td>0</td>\n",
       "      <td>0.0</td>\n",
       "      <td>0</td>\n",
       "      <td>0</td>\n",
       "      <td>150.0</td>\n",
       "      <td>...</td>\n",
       "      <td>675.0</td>\n",
       "      <td>0</td>\n",
       "      <td>0</td>\n",
       "      <td>975.0</td>\n",
       "      <td>0</td>\n",
       "      <td>0</td>\n",
       "      <td>825.0</td>\n",
       "      <td>0</td>\n",
       "      <td>0</td>\n",
       "      <td>750.0</td>\n",
       "    </tr>\n",
       "    <tr>\n",
       "      <th>2</th>\n",
       "      <td>52014</td>\n",
       "      <td>0</td>\n",
       "      <td>0</td>\n",
       "      <td>106.0</td>\n",
       "      <td>0</td>\n",
       "      <td>0</td>\n",
       "      <td>159.0</td>\n",
       "      <td>0</td>\n",
       "      <td>0</td>\n",
       "      <td>126.0</td>\n",
       "      <td>...</td>\n",
       "      <td>487.5</td>\n",
       "      <td>0</td>\n",
       "      <td>0</td>\n",
       "      <td>0.0</td>\n",
       "      <td>0</td>\n",
       "      <td>0</td>\n",
       "      <td>540.0</td>\n",
       "      <td>0</td>\n",
       "      <td>0</td>\n",
       "      <td>210.0</td>\n",
       "    </tr>\n",
       "    <tr>\n",
       "      <th>3</th>\n",
       "      <td>53488</td>\n",
       "      <td>0</td>\n",
       "      <td>186.0</td>\n",
       "      <td>0</td>\n",
       "      <td>0</td>\n",
       "      <td>291.0</td>\n",
       "      <td>0</td>\n",
       "      <td>0</td>\n",
       "      <td>300.0</td>\n",
       "      <td>0</td>\n",
       "      <td>...</td>\n",
       "      <td>0</td>\n",
       "      <td>0</td>\n",
       "      <td>1185.0</td>\n",
       "      <td>0</td>\n",
       "      <td>0</td>\n",
       "      <td>945.0</td>\n",
       "      <td>0</td>\n",
       "      <td>0</td>\n",
       "      <td>765.0</td>\n",
       "      <td>0</td>\n",
       "    </tr>\n",
       "    <tr>\n",
       "      <th>4</th>\n",
       "      <td>60135</td>\n",
       "      <td>0</td>\n",
       "      <td>0</td>\n",
       "      <td>114.0</td>\n",
       "      <td>0</td>\n",
       "      <td>0</td>\n",
       "      <td>258.0</td>\n",
       "      <td>0</td>\n",
       "      <td>0</td>\n",
       "      <td>183.0</td>\n",
       "      <td>...</td>\n",
       "      <td>1050.0</td>\n",
       "      <td>0</td>\n",
       "      <td>0</td>\n",
       "      <td>0.0</td>\n",
       "      <td>0</td>\n",
       "      <td>0</td>\n",
       "      <td>720.0</td>\n",
       "      <td>0</td>\n",
       "      <td>0</td>\n",
       "      <td>0.0</td>\n",
       "    </tr>\n",
       "  </tbody>\n",
       "</table>\n",
       "<p>5 rows × 40 columns</p>\n",
       "</div>"
      ],
      "text/plain": [
       "assignment_name id_student Quiz 1               Quiz 2               Quiz 3  \\\n",
       "cluster_qt                      0      1      2      0      1      2      0   \n",
       "0                    41060      0  154.0      0      0  282.0      0      0   \n",
       "1                    45664      0      0   94.0      0      0    0.0      0   \n",
       "2                    52014      0      0  106.0      0      0  159.0      0   \n",
       "3                    53488      0  186.0      0      0  291.0      0      0   \n",
       "4                    60135      0      0  114.0      0      0  258.0      0   \n",
       "\n",
       "assignment_name                ...  Test 3 Test 4                Test 5  \\\n",
       "cluster_qt           1      2  ...       2      0       1      2      0   \n",
       "0                282.0      0  ...       0      0  1260.0      0      0   \n",
       "1                    0  150.0  ...   675.0      0       0  975.0      0   \n",
       "2                    0  126.0  ...   487.5      0       0    0.0      0   \n",
       "3                300.0      0  ...       0      0  1185.0      0      0   \n",
       "4                    0  183.0  ...  1050.0      0       0    0.0      0   \n",
       "\n",
       "assignment_name               Test 6                \n",
       "cluster_qt           1      2      0      1      2  \n",
       "0                840.0      0      0    0.0      0  \n",
       "1                    0  825.0      0      0  750.0  \n",
       "2                    0  540.0      0      0  210.0  \n",
       "3                945.0      0      0  765.0      0  \n",
       "4                    0  720.0      0      0    0.0  \n",
       "\n",
       "[5 rows x 40 columns]"
      ]
     },
     "execution_count": 183,
     "metadata": {},
     "output_type": "execute_result"
    }
   ],
   "source": [
    "## Your code with comments\n",
    "#Reorganized the data based on cluster group number to provide a descriptive view of the counts of students \n",
    "#accounted-for in each cluster\n",
    "# YOUR CODE HERE\n",
    "qt_clustering_wide_pivoted = pd.pivot_table(qt_clustering_wide, index='id_student', columns='cluster_qt', values=['Quiz 1', 'Quiz 2', 'Quiz 3', 'Quiz 4', 'Quiz 5', 'Quiz 6', 'Quiz 7', 'Test 1', 'Test 2', 'Test 3', 'Test 4', 'Test 5', 'Test 6'], aggfunc='sum').fillna('0').reset_index()\n",
    "qt_clustering_wide_pivoted.head()\n",
    "\n",
    "#Alternative mean method\n",
    "#qt_clustering_wide.iloc[:,1:].groupby(['cluster_qt']).agg(['mean']).round(2).reset_index()"
   ]
  },
  {
   "cell_type": "code",
   "execution_count": 170,
   "metadata": {},
   "outputs": [
    {
     "data": {
      "text/plain": [
       "(813, 40)"
      ]
     },
     "execution_count": 170,
     "metadata": {},
     "output_type": "execute_result"
    }
   ],
   "source": [
    "qt_clustering_wide_pivoted.shape"
   ]
  },
  {
   "cell_type": "code",
   "execution_count": 171,
   "metadata": {},
   "outputs": [
    {
     "data": {
      "text/plain": [
       "MultiIndex([('id_student', ''),\n",
       "            (    'Quiz 1',  0),\n",
       "            (    'Quiz 1',  1),\n",
       "            (    'Quiz 1',  2),\n",
       "            (    'Quiz 2',  0),\n",
       "            (    'Quiz 2',  1),\n",
       "            (    'Quiz 2',  2),\n",
       "            (    'Quiz 3',  0),\n",
       "            (    'Quiz 3',  1),\n",
       "            (    'Quiz 3',  2),\n",
       "            (    'Quiz 4',  0),\n",
       "            (    'Quiz 4',  1),\n",
       "            (    'Quiz 4',  2),\n",
       "            (    'Quiz 5',  0),\n",
       "            (    'Quiz 5',  1),\n",
       "            (    'Quiz 5',  2),\n",
       "            (    'Quiz 6',  0),\n",
       "            (    'Quiz 6',  1),\n",
       "            (    'Quiz 6',  2),\n",
       "            (    'Quiz 7',  0),\n",
       "            (    'Quiz 7',  1),\n",
       "            (    'Quiz 7',  2),\n",
       "            (    'Test 1',  0),\n",
       "            (    'Test 1',  1),\n",
       "            (    'Test 1',  2),\n",
       "            (    'Test 2',  0),\n",
       "            (    'Test 2',  1),\n",
       "            (    'Test 2',  2),\n",
       "            (    'Test 3',  0),\n",
       "            (    'Test 3',  1),\n",
       "            (    'Test 3',  2),\n",
       "            (    'Test 4',  0),\n",
       "            (    'Test 4',  1),\n",
       "            (    'Test 4',  2),\n",
       "            (    'Test 5',  0),\n",
       "            (    'Test 5',  1),\n",
       "            (    'Test 5',  2),\n",
       "            (    'Test 6',  0),\n",
       "            (    'Test 6',  1),\n",
       "            (    'Test 6',  2)],\n",
       "           names=['assignment_name', 'cluster_qt'])"
      ]
     },
     "execution_count": 171,
     "metadata": {},
     "output_type": "execute_result"
    }
   ],
   "source": [
    "qt_clustering_wide_pivoted.columns"
   ]
  },
  {
   "cell_type": "markdown",
   "metadata": {
    "deletable": false,
    "editable": false,
    "nbgrader": {
     "cell_type": "markdown",
     "checksum": "f5f8705464daf524bbdac1d356ab8bdd",
     "grade": false,
     "grade_id": "cell-7eeaf9f491a1cd4e",
     "locked": true,
     "schema_version": 3,
     "solution": false,
     "task": false
    }
   },
   "source": [
    "5.6. (2 points) Create descriptive table of features using cluster labels for data frame from 5.4"
   ]
  },
  {
   "cell_type": "code",
   "execution_count": 172,
   "metadata": {
    "deletable": false,
    "nbgrader": {
     "cell_type": "code",
     "checksum": "d3eb2f84ba69b6dee4c3c68bb25b9861",
     "grade": true,
     "grade_id": "cell-6efde6740b1adf96",
     "locked": false,
     "points": 0,
     "schema_version": 3,
     "solution": true,
     "task": false
    }
   },
   "outputs": [
    {
     "data": {
      "text/html": [
       "<div>\n",
       "<style scoped>\n",
       "    .dataframe tbody tr th:only-of-type {\n",
       "        vertical-align: middle;\n",
       "    }\n",
       "\n",
       "    .dataframe tbody tr th {\n",
       "        vertical-align: top;\n",
       "    }\n",
       "\n",
       "    .dataframe thead tr th {\n",
       "        text-align: left;\n",
       "    }\n",
       "</style>\n",
       "<table border=\"1\" class=\"dataframe\">\n",
       "  <thead>\n",
       "    <tr>\n",
       "      <th>activity_type</th>\n",
       "      <th>id_student</th>\n",
       "      <th colspan=\"3\" halign=\"left\">course_homepage</th>\n",
       "      <th colspan=\"3\" halign=\"left\">course_page</th>\n",
       "      <th colspan=\"3\" halign=\"left\">forum</th>\n",
       "      <th colspan=\"3\" halign=\"left\">resource</th>\n",
       "      <th colspan=\"3\" halign=\"left\">wiki</th>\n",
       "    </tr>\n",
       "    <tr>\n",
       "      <th>cluster_lr</th>\n",
       "      <th></th>\n",
       "      <th>0</th>\n",
       "      <th>1</th>\n",
       "      <th>2</th>\n",
       "      <th>0</th>\n",
       "      <th>1</th>\n",
       "      <th>2</th>\n",
       "      <th>0</th>\n",
       "      <th>1</th>\n",
       "      <th>2</th>\n",
       "      <th>0</th>\n",
       "      <th>1</th>\n",
       "      <th>2</th>\n",
       "      <th>0</th>\n",
       "      <th>1</th>\n",
       "      <th>2</th>\n",
       "    </tr>\n",
       "  </thead>\n",
       "  <tbody>\n",
       "    <tr>\n",
       "      <th>0</th>\n",
       "      <td>41060</td>\n",
       "      <td>80.0</td>\n",
       "      <td>0</td>\n",
       "      <td>0</td>\n",
       "      <td>240.0</td>\n",
       "      <td>0</td>\n",
       "      <td>0</td>\n",
       "      <td>28.0</td>\n",
       "      <td>0</td>\n",
       "      <td>0</td>\n",
       "      <td>30.0</td>\n",
       "      <td>0</td>\n",
       "      <td>0</td>\n",
       "      <td>13.0</td>\n",
       "      <td>0</td>\n",
       "      <td>0</td>\n",
       "    </tr>\n",
       "    <tr>\n",
       "      <th>1</th>\n",
       "      <td>45664</td>\n",
       "      <td>287.0</td>\n",
       "      <td>0</td>\n",
       "      <td>0</td>\n",
       "      <td>387.0</td>\n",
       "      <td>0</td>\n",
       "      <td>0</td>\n",
       "      <td>135.0</td>\n",
       "      <td>0</td>\n",
       "      <td>0</td>\n",
       "      <td>171.0</td>\n",
       "      <td>0</td>\n",
       "      <td>0</td>\n",
       "      <td>46.0</td>\n",
       "      <td>0</td>\n",
       "      <td>0</td>\n",
       "    </tr>\n",
       "    <tr>\n",
       "      <th>2</th>\n",
       "      <td>52014</td>\n",
       "      <td>98.0</td>\n",
       "      <td>0</td>\n",
       "      <td>0</td>\n",
       "      <td>116.0</td>\n",
       "      <td>0</td>\n",
       "      <td>0</td>\n",
       "      <td>37.0</td>\n",
       "      <td>0</td>\n",
       "      <td>0</td>\n",
       "      <td>16.0</td>\n",
       "      <td>0</td>\n",
       "      <td>0</td>\n",
       "      <td>73.0</td>\n",
       "      <td>0</td>\n",
       "      <td>0</td>\n",
       "    </tr>\n",
       "    <tr>\n",
       "      <th>3</th>\n",
       "      <td>53488</td>\n",
       "      <td>311.0</td>\n",
       "      <td>0</td>\n",
       "      <td>0</td>\n",
       "      <td>222.0</td>\n",
       "      <td>0</td>\n",
       "      <td>0</td>\n",
       "      <td>536.0</td>\n",
       "      <td>0</td>\n",
       "      <td>0</td>\n",
       "      <td>115.0</td>\n",
       "      <td>0</td>\n",
       "      <td>0</td>\n",
       "      <td>184.0</td>\n",
       "      <td>0</td>\n",
       "      <td>0</td>\n",
       "    </tr>\n",
       "    <tr>\n",
       "      <th>4</th>\n",
       "      <td>60135</td>\n",
       "      <td>0</td>\n",
       "      <td>0</td>\n",
       "      <td>822.0</td>\n",
       "      <td>0</td>\n",
       "      <td>0</td>\n",
       "      <td>789.0</td>\n",
       "      <td>0</td>\n",
       "      <td>0</td>\n",
       "      <td>613.0</td>\n",
       "      <td>0</td>\n",
       "      <td>0</td>\n",
       "      <td>252.0</td>\n",
       "      <td>0</td>\n",
       "      <td>0</td>\n",
       "      <td>185.0</td>\n",
       "    </tr>\n",
       "  </tbody>\n",
       "</table>\n",
       "</div>"
      ],
      "text/plain": [
       "activity_type id_student course_homepage           course_page            \\\n",
       "cluster_lr                             0  1      2           0  1      2   \n",
       "0                  41060            80.0  0      0       240.0  0      0   \n",
       "1                  45664           287.0  0      0       387.0  0      0   \n",
       "2                  52014            98.0  0      0       116.0  0      0   \n",
       "3                  53488           311.0  0      0       222.0  0      0   \n",
       "4                  60135               0  0  822.0           0  0  789.0   \n",
       "\n",
       "activity_type  forum           resource             wiki            \n",
       "cluster_lr         0  1      2        0  1      2      0  1      2  \n",
       "0               28.0  0      0     30.0  0      0   13.0  0      0  \n",
       "1              135.0  0      0    171.0  0      0   46.0  0      0  \n",
       "2               37.0  0      0     16.0  0      0   73.0  0      0  \n",
       "3              536.0  0      0    115.0  0      0  184.0  0      0  \n",
       "4                  0  0  613.0        0  0  252.0      0  0  185.0  "
      ]
     },
     "execution_count": 172,
     "metadata": {},
     "output_type": "execute_result"
    }
   ],
   "source": [
    "## Your code with comments\n",
    "#Reorganized the data based on cluster group number to provide a descriptive view of the counts of students \n",
    "#accounted-for in each cluster\n",
    "# YOUR CODE HERE\n",
    "lr_clustering_pivoted_pv = pd.pivot_table(lr_clustering_pivoted, index='id_student', columns='cluster_lr', values=['course_homepage', 'course_page', 'forum', 'resource', 'wiki'], aggfunc='sum').fillna('0').reset_index()\n",
    "lr_clustering_pivoted_pv.head()\n",
    "lr_clustering_pivoted_pv.head()\n",
    "\n",
    "#Alternative mean method\n",
    "#lr_clustering_pivoted.iloc[:,1:].groupby(['cluster_lr']).agg(['mean']).round(2).reset_index()"
   ]
  },
  {
   "cell_type": "markdown",
   "metadata": {
    "deletable": false,
    "editable": false,
    "nbgrader": {
     "cell_type": "markdown",
     "checksum": "904feee552a3c469b29ec2287cce0b66",
     "grade": false,
     "grade_id": "cell-53ce542d1a6bc79a",
     "locked": true,
     "schema_version": 3,
     "solution": false,
     "task": false
    }
   },
   "source": [
    "5.7 (2 points) Join data frames from 5.3 and 5.4"
   ]
  },
  {
   "cell_type": "code",
   "execution_count": 173,
   "metadata": {
    "deletable": false,
    "nbgrader": {
     "cell_type": "code",
     "checksum": "abffdde754fb33b083488693044ca5f4",
     "grade": true,
     "grade_id": "cell-a6a5b641f7d25f28",
     "locked": false,
     "points": 0,
     "schema_version": 3,
     "solution": true,
     "task": false
    }
   },
   "outputs": [
    {
     "data": {
      "text/html": [
       "<div>\n",
       "<style scoped>\n",
       "    .dataframe tbody tr th:only-of-type {\n",
       "        vertical-align: middle;\n",
       "    }\n",
       "\n",
       "    .dataframe tbody tr th {\n",
       "        vertical-align: top;\n",
       "    }\n",
       "\n",
       "    .dataframe thead th {\n",
       "        text-align: right;\n",
       "    }\n",
       "</style>\n",
       "<table border=\"1\" class=\"dataframe\">\n",
       "  <thead>\n",
       "    <tr style=\"text-align: right;\">\n",
       "      <th></th>\n",
       "      <th>id_student</th>\n",
       "      <th>Final Exam</th>\n",
       "      <th>Quiz 1</th>\n",
       "      <th>Quiz 2</th>\n",
       "      <th>Quiz 3</th>\n",
       "      <th>Quiz 4</th>\n",
       "      <th>Quiz 5</th>\n",
       "      <th>Quiz 6</th>\n",
       "      <th>Quiz 7</th>\n",
       "      <th>Test 1</th>\n",
       "      <th>...</th>\n",
       "      <th>Test 4</th>\n",
       "      <th>Test 5</th>\n",
       "      <th>Test 6</th>\n",
       "      <th>cluster_qt</th>\n",
       "      <th>course_homepage</th>\n",
       "      <th>course_page</th>\n",
       "      <th>forum</th>\n",
       "      <th>resource</th>\n",
       "      <th>wiki</th>\n",
       "      <th>cluster_lr</th>\n",
       "    </tr>\n",
       "  </thead>\n",
       "  <tbody>\n",
       "    <tr>\n",
       "      <th>0</th>\n",
       "      <td>41060</td>\n",
       "      <td>0.0</td>\n",
       "      <td>154.0</td>\n",
       "      <td>282.0</td>\n",
       "      <td>282.0</td>\n",
       "      <td>388.0</td>\n",
       "      <td>348.0</td>\n",
       "      <td>183.0</td>\n",
       "      <td>0.0</td>\n",
       "      <td>637.5</td>\n",
       "      <td>...</td>\n",
       "      <td>1260.0</td>\n",
       "      <td>840.0</td>\n",
       "      <td>0.0</td>\n",
       "      <td>1</td>\n",
       "      <td>80.0</td>\n",
       "      <td>240.0</td>\n",
       "      <td>28.0</td>\n",
       "      <td>30.0</td>\n",
       "      <td>13.0</td>\n",
       "      <td>0</td>\n",
       "    </tr>\n",
       "    <tr>\n",
       "      <th>1</th>\n",
       "      <td>45664</td>\n",
       "      <td>4000.0</td>\n",
       "      <td>94.0</td>\n",
       "      <td>0.0</td>\n",
       "      <td>150.0</td>\n",
       "      <td>252.0</td>\n",
       "      <td>276.0</td>\n",
       "      <td>174.0</td>\n",
       "      <td>402.0</td>\n",
       "      <td>495.0</td>\n",
       "      <td>...</td>\n",
       "      <td>975.0</td>\n",
       "      <td>825.0</td>\n",
       "      <td>750.0</td>\n",
       "      <td>2</td>\n",
       "      <td>287.0</td>\n",
       "      <td>387.0</td>\n",
       "      <td>135.0</td>\n",
       "      <td>171.0</td>\n",
       "      <td>46.0</td>\n",
       "      <td>0</td>\n",
       "    </tr>\n",
       "    <tr>\n",
       "      <th>2</th>\n",
       "      <td>52014</td>\n",
       "      <td>1300.0</td>\n",
       "      <td>106.0</td>\n",
       "      <td>159.0</td>\n",
       "      <td>126.0</td>\n",
       "      <td>108.0</td>\n",
       "      <td>80.0</td>\n",
       "      <td>0.0</td>\n",
       "      <td>0.0</td>\n",
       "      <td>607.5</td>\n",
       "      <td>...</td>\n",
       "      <td>0.0</td>\n",
       "      <td>540.0</td>\n",
       "      <td>210.0</td>\n",
       "      <td>2</td>\n",
       "      <td>98.0</td>\n",
       "      <td>116.0</td>\n",
       "      <td>37.0</td>\n",
       "      <td>16.0</td>\n",
       "      <td>73.0</td>\n",
       "      <td>0</td>\n",
       "    </tr>\n",
       "    <tr>\n",
       "      <th>3</th>\n",
       "      <td>53488</td>\n",
       "      <td>7300.0</td>\n",
       "      <td>186.0</td>\n",
       "      <td>291.0</td>\n",
       "      <td>300.0</td>\n",
       "      <td>372.0</td>\n",
       "      <td>376.0</td>\n",
       "      <td>291.0</td>\n",
       "      <td>510.0</td>\n",
       "      <td>600.0</td>\n",
       "      <td>...</td>\n",
       "      <td>1185.0</td>\n",
       "      <td>945.0</td>\n",
       "      <td>765.0</td>\n",
       "      <td>1</td>\n",
       "      <td>311.0</td>\n",
       "      <td>222.0</td>\n",
       "      <td>536.0</td>\n",
       "      <td>115.0</td>\n",
       "      <td>184.0</td>\n",
       "      <td>0</td>\n",
       "    </tr>\n",
       "    <tr>\n",
       "      <th>4</th>\n",
       "      <td>60135</td>\n",
       "      <td>4000.0</td>\n",
       "      <td>114.0</td>\n",
       "      <td>258.0</td>\n",
       "      <td>183.0</td>\n",
       "      <td>212.0</td>\n",
       "      <td>260.0</td>\n",
       "      <td>84.0</td>\n",
       "      <td>114.0</td>\n",
       "      <td>570.0</td>\n",
       "      <td>...</td>\n",
       "      <td>0.0</td>\n",
       "      <td>720.0</td>\n",
       "      <td>0.0</td>\n",
       "      <td>2</td>\n",
       "      <td>822.0</td>\n",
       "      <td>789.0</td>\n",
       "      <td>613.0</td>\n",
       "      <td>252.0</td>\n",
       "      <td>185.0</td>\n",
       "      <td>2</td>\n",
       "    </tr>\n",
       "    <tr>\n",
       "      <th>...</th>\n",
       "      <td>...</td>\n",
       "      <td>...</td>\n",
       "      <td>...</td>\n",
       "      <td>...</td>\n",
       "      <td>...</td>\n",
       "      <td>...</td>\n",
       "      <td>...</td>\n",
       "      <td>...</td>\n",
       "      <td>...</td>\n",
       "      <td>...</td>\n",
       "      <td>...</td>\n",
       "      <td>...</td>\n",
       "      <td>...</td>\n",
       "      <td>...</td>\n",
       "      <td>...</td>\n",
       "      <td>...</td>\n",
       "      <td>...</td>\n",
       "      <td>...</td>\n",
       "      <td>...</td>\n",
       "      <td>...</td>\n",
       "      <td>...</td>\n",
       "    </tr>\n",
       "    <tr>\n",
       "      <th>808</th>\n",
       "      <td>2678338</td>\n",
       "      <td>0.0</td>\n",
       "      <td>100.0</td>\n",
       "      <td>267.0</td>\n",
       "      <td>0.0</td>\n",
       "      <td>240.0</td>\n",
       "      <td>0.0</td>\n",
       "      <td>0.0</td>\n",
       "      <td>0.0</td>\n",
       "      <td>562.5</td>\n",
       "      <td>...</td>\n",
       "      <td>465.0</td>\n",
       "      <td>0.0</td>\n",
       "      <td>0.0</td>\n",
       "      <td>2</td>\n",
       "      <td>553.0</td>\n",
       "      <td>343.0</td>\n",
       "      <td>383.0</td>\n",
       "      <td>137.0</td>\n",
       "      <td>179.0</td>\n",
       "      <td>0</td>\n",
       "    </tr>\n",
       "    <tr>\n",
       "      <th>809</th>\n",
       "      <td>2683836</td>\n",
       "      <td>7100.0</td>\n",
       "      <td>160.0</td>\n",
       "      <td>276.0</td>\n",
       "      <td>243.0</td>\n",
       "      <td>328.0</td>\n",
       "      <td>312.0</td>\n",
       "      <td>0.0</td>\n",
       "      <td>408.0</td>\n",
       "      <td>630.0</td>\n",
       "      <td>...</td>\n",
       "      <td>1230.0</td>\n",
       "      <td>1200.0</td>\n",
       "      <td>1170.0</td>\n",
       "      <td>1</td>\n",
       "      <td>177.0</td>\n",
       "      <td>205.0</td>\n",
       "      <td>203.0</td>\n",
       "      <td>72.0</td>\n",
       "      <td>102.0</td>\n",
       "      <td>0</td>\n",
       "    </tr>\n",
       "    <tr>\n",
       "      <th>810</th>\n",
       "      <td>2689536</td>\n",
       "      <td>5800.0</td>\n",
       "      <td>154.0</td>\n",
       "      <td>300.0</td>\n",
       "      <td>0.0</td>\n",
       "      <td>392.0</td>\n",
       "      <td>0.0</td>\n",
       "      <td>0.0</td>\n",
       "      <td>0.0</td>\n",
       "      <td>675.0</td>\n",
       "      <td>...</td>\n",
       "      <td>1290.0</td>\n",
       "      <td>0.0</td>\n",
       "      <td>0.0</td>\n",
       "      <td>2</td>\n",
       "      <td>189.0</td>\n",
       "      <td>343.0</td>\n",
       "      <td>94.0</td>\n",
       "      <td>93.0</td>\n",
       "      <td>25.0</td>\n",
       "      <td>0</td>\n",
       "    </tr>\n",
       "    <tr>\n",
       "      <th>811</th>\n",
       "      <td>2693243</td>\n",
       "      <td>8200.0</td>\n",
       "      <td>194.0</td>\n",
       "      <td>291.0</td>\n",
       "      <td>282.0</td>\n",
       "      <td>388.0</td>\n",
       "      <td>364.0</td>\n",
       "      <td>282.0</td>\n",
       "      <td>522.0</td>\n",
       "      <td>577.5</td>\n",
       "      <td>...</td>\n",
       "      <td>1470.0</td>\n",
       "      <td>1320.0</td>\n",
       "      <td>1305.0</td>\n",
       "      <td>1</td>\n",
       "      <td>590.0</td>\n",
       "      <td>706.0</td>\n",
       "      <td>814.0</td>\n",
       "      <td>344.0</td>\n",
       "      <td>116.0</td>\n",
       "      <td>2</td>\n",
       "    </tr>\n",
       "    <tr>\n",
       "      <th>812</th>\n",
       "      <td>2694933</td>\n",
       "      <td>7300.0</td>\n",
       "      <td>114.0</td>\n",
       "      <td>276.0</td>\n",
       "      <td>183.0</td>\n",
       "      <td>272.0</td>\n",
       "      <td>304.0</td>\n",
       "      <td>225.0</td>\n",
       "      <td>378.0</td>\n",
       "      <td>682.5</td>\n",
       "      <td>...</td>\n",
       "      <td>1095.0</td>\n",
       "      <td>1035.0</td>\n",
       "      <td>1080.0</td>\n",
       "      <td>1</td>\n",
       "      <td>279.0</td>\n",
       "      <td>211.0</td>\n",
       "      <td>222.0</td>\n",
       "      <td>99.0</td>\n",
       "      <td>51.0</td>\n",
       "      <td>0</td>\n",
       "    </tr>\n",
       "  </tbody>\n",
       "</table>\n",
       "<p>813 rows × 22 columns</p>\n",
       "</div>"
      ],
      "text/plain": [
       "     id_student  Final Exam  Quiz 1  Quiz 2  Quiz 3  Quiz 4  Quiz 5  Quiz 6  \\\n",
       "0         41060         0.0   154.0   282.0   282.0   388.0   348.0   183.0   \n",
       "1         45664      4000.0    94.0     0.0   150.0   252.0   276.0   174.0   \n",
       "2         52014      1300.0   106.0   159.0   126.0   108.0    80.0     0.0   \n",
       "3         53488      7300.0   186.0   291.0   300.0   372.0   376.0   291.0   \n",
       "4         60135      4000.0   114.0   258.0   183.0   212.0   260.0    84.0   \n",
       "..          ...         ...     ...     ...     ...     ...     ...     ...   \n",
       "808     2678338         0.0   100.0   267.0     0.0   240.0     0.0     0.0   \n",
       "809     2683836      7100.0   160.0   276.0   243.0   328.0   312.0     0.0   \n",
       "810     2689536      5800.0   154.0   300.0     0.0   392.0     0.0     0.0   \n",
       "811     2693243      8200.0   194.0   291.0   282.0   388.0   364.0   282.0   \n",
       "812     2694933      7300.0   114.0   276.0   183.0   272.0   304.0   225.0   \n",
       "\n",
       "     Quiz 7  Test 1  ...  Test 4  Test 5  Test 6  cluster_qt  course_homepage  \\\n",
       "0       0.0   637.5  ...  1260.0   840.0     0.0           1             80.0   \n",
       "1     402.0   495.0  ...   975.0   825.0   750.0           2            287.0   \n",
       "2       0.0   607.5  ...     0.0   540.0   210.0           2             98.0   \n",
       "3     510.0   600.0  ...  1185.0   945.0   765.0           1            311.0   \n",
       "4     114.0   570.0  ...     0.0   720.0     0.0           2            822.0   \n",
       "..      ...     ...  ...     ...     ...     ...         ...              ...   \n",
       "808     0.0   562.5  ...   465.0     0.0     0.0           2            553.0   \n",
       "809   408.0   630.0  ...  1230.0  1200.0  1170.0           1            177.0   \n",
       "810     0.0   675.0  ...  1290.0     0.0     0.0           2            189.0   \n",
       "811   522.0   577.5  ...  1470.0  1320.0  1305.0           1            590.0   \n",
       "812   378.0   682.5  ...  1095.0  1035.0  1080.0           1            279.0   \n",
       "\n",
       "     course_page  forum resource   wiki cluster_lr  \n",
       "0          240.0   28.0     30.0   13.0          0  \n",
       "1          387.0  135.0    171.0   46.0          0  \n",
       "2          116.0   37.0     16.0   73.0          0  \n",
       "3          222.0  536.0    115.0  184.0          0  \n",
       "4          789.0  613.0    252.0  185.0          2  \n",
       "..           ...    ...      ...    ...        ...  \n",
       "808        343.0  383.0    137.0  179.0          0  \n",
       "809        205.0  203.0     72.0  102.0          0  \n",
       "810        343.0   94.0     93.0   25.0          0  \n",
       "811        706.0  814.0    344.0  116.0          2  \n",
       "812        211.0  222.0     99.0   51.0          0  \n",
       "\n",
       "[813 rows x 22 columns]"
      ]
     },
     "execution_count": 173,
     "metadata": {},
     "output_type": "execute_result"
    }
   ],
   "source": [
    "## Your code with comments\n",
    "# YOUR CODE HERE\n",
    "qt_lr_clustering = qt_clustering_wide.merge(lr_clustering_pivoted, how='inner', right_on='id_student', left_on='id_student')\n",
    "\n",
    "qt_lr_clustering"
   ]
  },
  {
   "cell_type": "code",
   "execution_count": 174,
   "metadata": {},
   "outputs": [
    {
     "data": {
      "text/plain": [
       "(813, 22)"
      ]
     },
     "execution_count": 174,
     "metadata": {},
     "output_type": "execute_result"
    }
   ],
   "source": [
    "qt_lr_clustering.shape"
   ]
  },
  {
   "cell_type": "code",
   "execution_count": 175,
   "metadata": {},
   "outputs": [
    {
     "data": {
      "text/plain": [
       "Index(['id_student', 'Final Exam', 'Quiz 1', 'Quiz 2', 'Quiz 3', 'Quiz 4',\n",
       "       'Quiz 5', 'Quiz 6', 'Quiz 7', 'Test 1', 'Test 2', 'Test 3', 'Test 4',\n",
       "       'Test 5', 'Test 6', 'cluster_qt', 'course_homepage', 'course_page',\n",
       "       'forum', 'resource', 'wiki', 'cluster_lr'],\n",
       "      dtype='object')"
      ]
     },
     "execution_count": 175,
     "metadata": {},
     "output_type": "execute_result"
    }
   ],
   "source": [
    "qt_lr_clustering.columns"
   ]
  },
  {
   "cell_type": "markdown",
   "metadata": {
    "deletable": false,
    "editable": false,
    "nbgrader": {
     "cell_type": "markdown",
     "checksum": "875d9b6e03fab14b931e494a44fbb335",
     "grade": false,
     "grade_id": "cell-398b344a7b4f3cc5",
     "locked": true,
     "schema_version": 3,
     "solution": false,
     "task": false
    }
   },
   "source": [
    "5.8 (2 points) Create a cross-tabulation of quiz- and resource-based cluster labels (i.e., counts of students in each cell)"
   ]
  },
  {
   "cell_type": "code",
   "execution_count": 176,
   "metadata": {
    "deletable": false,
    "nbgrader": {
     "cell_type": "code",
     "checksum": "5a2029832d5f2494edcf4e2e54e948f9",
     "grade": true,
     "grade_id": "cell-f2ebe7912f43ea1e",
     "locked": false,
     "points": 0,
     "schema_version": 3,
     "solution": true,
     "task": false
    }
   },
   "outputs": [
    {
     "data": {
      "text/html": [
       "<div>\n",
       "<style scoped>\n",
       "    .dataframe tbody tr th:only-of-type {\n",
       "        vertical-align: middle;\n",
       "    }\n",
       "\n",
       "    .dataframe tbody tr th {\n",
       "        vertical-align: top;\n",
       "    }\n",
       "\n",
       "    .dataframe thead th {\n",
       "        text-align: right;\n",
       "    }\n",
       "</style>\n",
       "<table border=\"1\" class=\"dataframe\">\n",
       "  <thead>\n",
       "    <tr style=\"text-align: right;\">\n",
       "      <th>cluster_lr</th>\n",
       "      <th>0</th>\n",
       "      <th>1</th>\n",
       "      <th>2</th>\n",
       "    </tr>\n",
       "    <tr>\n",
       "      <th>cluster_qt</th>\n",
       "      <th></th>\n",
       "      <th></th>\n",
       "      <th></th>\n",
       "    </tr>\n",
       "  </thead>\n",
       "  <tbody>\n",
       "    <tr>\n",
       "      <th>0</th>\n",
       "      <td>124</td>\n",
       "      <td>0</td>\n",
       "      <td>3</td>\n",
       "    </tr>\n",
       "    <tr>\n",
       "      <th>1</th>\n",
       "      <td>175</td>\n",
       "      <td>15</td>\n",
       "      <td>180</td>\n",
       "    </tr>\n",
       "    <tr>\n",
       "      <th>2</th>\n",
       "      <td>242</td>\n",
       "      <td>4</td>\n",
       "      <td>70</td>\n",
       "    </tr>\n",
       "  </tbody>\n",
       "</table>\n",
       "</div>"
      ],
      "text/plain": [
       "cluster_lr    0   1    2\n",
       "cluster_qt              \n",
       "0           124   0    3\n",
       "1           175  15  180\n",
       "2           242   4   70"
      ]
     },
     "execution_count": 176,
     "metadata": {},
     "output_type": "execute_result"
    }
   ],
   "source": [
    "## Your code with comments\n",
    "# YOUR CODE HERE\n",
    "\n",
    "cross_tab = pd.crosstab(qt_lr_clustering['cluster_qt'], qt_lr_clustering['cluster_lr'], rownames=['cluster_qt'], colnames=['cluster_lr'])\n",
    "                            \n",
    "cross_tab"
   ]
  },
  {
   "cell_type": "markdown",
   "metadata": {
    "deletable": false,
    "editable": false,
    "nbgrader": {
     "cell_type": "markdown",
     "checksum": "85da7851f86b24fe74497445b0269c38",
     "grade": false,
     "grade_id": "cell-1f57a13f14b0bb9c",
     "locked": true,
     "schema_version": 3,
     "solution": false,
     "task": false
    }
   },
   "source": [
    "5.9 (2 points) Merge `final_result` from `student_info.csv` onto data frame from 5.7"
   ]
  },
  {
   "cell_type": "code",
   "execution_count": 177,
   "metadata": {
    "deletable": false,
    "nbgrader": {
     "cell_type": "code",
     "checksum": "6de3ea76c41a2ce927233ad156e7ecd1",
     "grade": true,
     "grade_id": "cell-91f7aa45b11a1304",
     "locked": false,
     "points": 0,
     "schema_version": 3,
     "solution": true,
     "task": false
    }
   },
   "outputs": [
    {
     "data": {
      "text/html": [
       "<div>\n",
       "<style scoped>\n",
       "    .dataframe tbody tr th:only-of-type {\n",
       "        vertical-align: middle;\n",
       "    }\n",
       "\n",
       "    .dataframe tbody tr th {\n",
       "        vertical-align: top;\n",
       "    }\n",
       "\n",
       "    .dataframe thead th {\n",
       "        text-align: right;\n",
       "    }\n",
       "</style>\n",
       "<table border=\"1\" class=\"dataframe\">\n",
       "  <thead>\n",
       "    <tr style=\"text-align: right;\">\n",
       "      <th></th>\n",
       "      <th>id_student</th>\n",
       "      <th>Final Exam</th>\n",
       "      <th>Quiz 1</th>\n",
       "      <th>Quiz 2</th>\n",
       "      <th>Quiz 3</th>\n",
       "      <th>Quiz 4</th>\n",
       "      <th>Quiz 5</th>\n",
       "      <th>Quiz 6</th>\n",
       "      <th>Quiz 7</th>\n",
       "      <th>Test 1</th>\n",
       "      <th>...</th>\n",
       "      <th>Test 5</th>\n",
       "      <th>Test 6</th>\n",
       "      <th>cluster_qt</th>\n",
       "      <th>course_homepage</th>\n",
       "      <th>course_page</th>\n",
       "      <th>forum</th>\n",
       "      <th>resource</th>\n",
       "      <th>wiki</th>\n",
       "      <th>cluster_lr</th>\n",
       "      <th>final_result</th>\n",
       "    </tr>\n",
       "  </thead>\n",
       "  <tbody>\n",
       "    <tr>\n",
       "      <th>0</th>\n",
       "      <td>41060</td>\n",
       "      <td>0.0</td>\n",
       "      <td>154.0</td>\n",
       "      <td>282.0</td>\n",
       "      <td>282.0</td>\n",
       "      <td>388.0</td>\n",
       "      <td>348.0</td>\n",
       "      <td>183.0</td>\n",
       "      <td>0.0</td>\n",
       "      <td>637.5</td>\n",
       "      <td>...</td>\n",
       "      <td>840.0</td>\n",
       "      <td>0.0</td>\n",
       "      <td>1</td>\n",
       "      <td>80.0</td>\n",
       "      <td>240.0</td>\n",
       "      <td>28.0</td>\n",
       "      <td>30.0</td>\n",
       "      <td>13.0</td>\n",
       "      <td>0</td>\n",
       "      <td>Fail</td>\n",
       "    </tr>\n",
       "    <tr>\n",
       "      <th>1</th>\n",
       "      <td>45664</td>\n",
       "      <td>4000.0</td>\n",
       "      <td>94.0</td>\n",
       "      <td>0.0</td>\n",
       "      <td>150.0</td>\n",
       "      <td>252.0</td>\n",
       "      <td>276.0</td>\n",
       "      <td>174.0</td>\n",
       "      <td>402.0</td>\n",
       "      <td>495.0</td>\n",
       "      <td>...</td>\n",
       "      <td>825.0</td>\n",
       "      <td>750.0</td>\n",
       "      <td>2</td>\n",
       "      <td>287.0</td>\n",
       "      <td>387.0</td>\n",
       "      <td>135.0</td>\n",
       "      <td>171.0</td>\n",
       "      <td>46.0</td>\n",
       "      <td>0</td>\n",
       "      <td>Pass</td>\n",
       "    </tr>\n",
       "    <tr>\n",
       "      <th>2</th>\n",
       "      <td>52014</td>\n",
       "      <td>1300.0</td>\n",
       "      <td>106.0</td>\n",
       "      <td>159.0</td>\n",
       "      <td>126.0</td>\n",
       "      <td>108.0</td>\n",
       "      <td>80.0</td>\n",
       "      <td>0.0</td>\n",
       "      <td>0.0</td>\n",
       "      <td>607.5</td>\n",
       "      <td>...</td>\n",
       "      <td>540.0</td>\n",
       "      <td>210.0</td>\n",
       "      <td>2</td>\n",
       "      <td>98.0</td>\n",
       "      <td>116.0</td>\n",
       "      <td>37.0</td>\n",
       "      <td>16.0</td>\n",
       "      <td>73.0</td>\n",
       "      <td>0</td>\n",
       "      <td>Fail</td>\n",
       "    </tr>\n",
       "    <tr>\n",
       "      <th>3</th>\n",
       "      <td>53488</td>\n",
       "      <td>7300.0</td>\n",
       "      <td>186.0</td>\n",
       "      <td>291.0</td>\n",
       "      <td>300.0</td>\n",
       "      <td>372.0</td>\n",
       "      <td>376.0</td>\n",
       "      <td>291.0</td>\n",
       "      <td>510.0</td>\n",
       "      <td>600.0</td>\n",
       "      <td>...</td>\n",
       "      <td>945.0</td>\n",
       "      <td>765.0</td>\n",
       "      <td>1</td>\n",
       "      <td>311.0</td>\n",
       "      <td>222.0</td>\n",
       "      <td>536.0</td>\n",
       "      <td>115.0</td>\n",
       "      <td>184.0</td>\n",
       "      <td>0</td>\n",
       "      <td>Pass</td>\n",
       "    </tr>\n",
       "    <tr>\n",
       "      <th>4</th>\n",
       "      <td>60135</td>\n",
       "      <td>4000.0</td>\n",
       "      <td>114.0</td>\n",
       "      <td>258.0</td>\n",
       "      <td>183.0</td>\n",
       "      <td>212.0</td>\n",
       "      <td>260.0</td>\n",
       "      <td>84.0</td>\n",
       "      <td>114.0</td>\n",
       "      <td>570.0</td>\n",
       "      <td>...</td>\n",
       "      <td>720.0</td>\n",
       "      <td>0.0</td>\n",
       "      <td>2</td>\n",
       "      <td>822.0</td>\n",
       "      <td>789.0</td>\n",
       "      <td>613.0</td>\n",
       "      <td>252.0</td>\n",
       "      <td>185.0</td>\n",
       "      <td>2</td>\n",
       "      <td>Pass</td>\n",
       "    </tr>\n",
       "  </tbody>\n",
       "</table>\n",
       "<p>5 rows × 23 columns</p>\n",
       "</div>"
      ],
      "text/plain": [
       "   id_student  Final Exam  Quiz 1  Quiz 2  Quiz 3  Quiz 4  Quiz 5  Quiz 6  \\\n",
       "0       41060         0.0   154.0   282.0   282.0   388.0   348.0   183.0   \n",
       "1       45664      4000.0    94.0     0.0   150.0   252.0   276.0   174.0   \n",
       "2       52014      1300.0   106.0   159.0   126.0   108.0    80.0     0.0   \n",
       "3       53488      7300.0   186.0   291.0   300.0   372.0   376.0   291.0   \n",
       "4       60135      4000.0   114.0   258.0   183.0   212.0   260.0    84.0   \n",
       "\n",
       "   Quiz 7  Test 1  ...  Test 5  Test 6  cluster_qt  course_homepage  \\\n",
       "0     0.0   637.5  ...   840.0     0.0           1             80.0   \n",
       "1   402.0   495.0  ...   825.0   750.0           2            287.0   \n",
       "2     0.0   607.5  ...   540.0   210.0           2             98.0   \n",
       "3   510.0   600.0  ...   945.0   765.0           1            311.0   \n",
       "4   114.0   570.0  ...   720.0     0.0           2            822.0   \n",
       "\n",
       "   course_page  forum resource   wiki cluster_lr final_result  \n",
       "0        240.0   28.0     30.0   13.0          0         Fail  \n",
       "1        387.0  135.0    171.0   46.0          0         Pass  \n",
       "2        116.0   37.0     16.0   73.0          0         Fail  \n",
       "3        222.0  536.0    115.0  184.0          0         Pass  \n",
       "4        789.0  613.0    252.0  185.0          2         Pass  \n",
       "\n",
       "[5 rows x 23 columns]"
      ]
     },
     "execution_count": 177,
     "metadata": {},
     "output_type": "execute_result"
    }
   ],
   "source": [
    "## Your code with comments\n",
    "# YOUR CODE HERE\n",
    "qt_lr_clustering['final_result'] = si['final_result']\n",
    "qt_lr_clustering.head()"
   ]
  },
  {
   "cell_type": "code",
   "execution_count": 178,
   "metadata": {},
   "outputs": [
    {
     "data": {
      "text/plain": [
       "(813, 23)"
      ]
     },
     "execution_count": 178,
     "metadata": {},
     "output_type": "execute_result"
    }
   ],
   "source": [
    "qt_lr_clustering.shape"
   ]
  },
  {
   "cell_type": "markdown",
   "metadata": {
    "deletable": false,
    "editable": false,
    "nbgrader": {
     "cell_type": "markdown",
     "checksum": "1b3a379fc79c3bb12eebd317bc162bf0",
     "grade": false,
     "grade_id": "cell-6292b5d287f4c950",
     "locked": true,
     "schema_version": 3,
     "solution": false,
     "task": false
    }
   },
   "source": [
    "5.10 (2 points). Calculate the pass rate (i.e., `final_result`) for each combination of quiz- and resource-based clusters"
   ]
  },
  {
   "cell_type": "code",
   "execution_count": 179,
   "metadata": {
    "deletable": false,
    "nbgrader": {
     "cell_type": "code",
     "checksum": "ae568d1cef28ce63399b829907c973f7",
     "grade": true,
     "grade_id": "cell-3765795c9080c9b9",
     "locked": false,
     "points": 0,
     "schema_version": 3,
     "solution": true,
     "task": false
    }
   },
   "outputs": [],
   "source": [
    "## Your code with comments\n",
    "# YOUR CODE HERE\n",
    "def calculate_pass_rate(qt_lr_clustering):\n",
    "    return str(round(100*len(qt_lr_clustering[qt_lr_clustering['final_result']=='Pass'])/len(qt_lr_clustering['final_result']), 1)) + '%'"
   ]
  },
  {
   "cell_type": "code",
   "execution_count": 180,
   "metadata": {},
   "outputs": [
    {
     "data": {
      "text/plain": [
       "cluster_qt  cluster_lr\n",
       "0           0              0.0%\n",
       "            2              0.0%\n",
       "1           0             95.4%\n",
       "            1             93.3%\n",
       "            2             94.4%\n",
       "2           0             48.8%\n",
       "            1             25.0%\n",
       "            2             57.1%\n",
       "dtype: object"
      ]
     },
     "execution_count": 180,
     "metadata": {},
     "output_type": "execute_result"
    }
   ],
   "source": [
    "qt_lr_clustering.groupby(['cluster_qt', 'cluster_lr']).apply(calculate_pass_rate)"
   ]
  },
  {
   "cell_type": "markdown",
   "metadata": {
    "deletable": false,
    "editable": false,
    "id": "6oMJoLxPMUeL",
    "nbgrader": {
     "cell_type": "markdown",
     "checksum": "2b214fbe95bc910aefb35ee8497e93c7",
     "grade": false,
     "grade_id": "cell-fcea7bbfcbce4df0",
     "locked": true,
     "schema_version": 3,
     "solution": false,
     "task": false
    }
   },
   "source": [
    "# 6. Interpret (10 points)"
   ]
  },
  {
   "cell_type": "markdown",
   "metadata": {
    "deletable": false,
    "editable": false,
    "id": "D-XjyfWfMj98",
    "nbgrader": {
     "cell_type": "markdown",
     "checksum": "6182df92295a63660b59b1bed657cc3f",
     "grade": false,
     "grade_id": "cell-a648100dd962d7c4",
     "locked": true,
     "schema_version": 3,
     "solution": false,
     "task": false
    }
   },
   "source": [
    "In this final section, reflect on how the clusters you developed might be helpful to understanding factors contributing to student success in the course."
   ]
  },
  {
   "cell_type": "markdown",
   "metadata": {
    "deletable": false,
    "editable": false,
    "nbgrader": {
     "cell_type": "markdown",
     "checksum": "e1b62b5c5b7c660e5dd3cfa362c27a4f",
     "grade": false,
     "grade_id": "cell-d115e63b8d897e37",
     "locked": true,
     "schema_version": 3,
     "solution": false,
     "task": false
    }
   },
   "source": [
    "6.1. For each dataset, (`quizzes_tests.csv` and `learning_resources.csv`) provide a high-level summary of the clusters you created. Using the descriptive statistics you developed for each cluster, provide a label or name that describe the membership for each cluster (in some circles, this process is called segmentation). (5 points)"
   ]
  },
  {
   "cell_type": "markdown",
   "metadata": {},
   "source": [
    "The three clusters created were used to group the data from the quizzes_tests (qt) dataframe and the learning_resources (lr) dataframe.  The qt dataframe was rearranged from long to wide format; with the columns specifying the specific quiz/test/assignment titles, and each row containing the sum of average-score for each student.  The lr dataframe was rearranged from long to wide format also, with the columns specifying activity-type and the rows specifying how often each activity-type was utlized by each student. Each set of data was sorted-out using KMeans-clustering, and then merged into a single dataframe.  The crosstab() function was then used to create a frequency table, describing the number of students in each of the three student-clusters created using KMeans. Kmeans-clustering clusters data according to which pieces of data have similar averages/means. These student-clusters created, and the data from the two rearranged dataframes, were then merged into a single dataframe. The merged dataframe was then used to identify the number of students that passed the course, and group the course's passing-rate using the clusters developed earlier with KMeans-clustering. Grouping of the merged data into clusters, using KMeans, provides a method for segmenting/grouping students according to their performances in a course.  This segmentation can be useful when applied to a class of students mid-semester at a school that has many students struggling for various reasons.  Being able to group the students according to their previous performances can help identify students who need more academic support, and address those students' needs before failing of a course becomes inevitable.  Out of the three clusters developed, the first cluster represented the students who failed, or did not complete, any quizzes/tests.  The second cluster represented the high-performing students, with percentage scores in the mid-90%s.  The third cluster represented students performing poorly and failing any quizzes/tests.  The first and third clusters are groups of students that may need more academic support.  Identifying what student population these scores originated from would be the next step in using this data analysis to help improve students' learning experiences. "
   ]
  },
  {
   "cell_type": "markdown",
   "metadata": {
    "deletable": false,
    "editable": false,
    "nbgrader": {
     "cell_type": "markdown",
     "checksum": "b6143d754a8945d1611195ec47fe97d9",
     "grade": false,
     "grade_id": "cell-8192e26ef706bf20",
     "locked": true,
     "schema_version": 3,
     "solution": false,
     "task": false
    }
   },
   "source": [
    "6.2. How might clusters like these be useful for instructors? course designers? administrators? What are the limitations to the clusters you made? (5 points)"
   ]
  },
  {
   "cell_type": "markdown",
   "metadata": {},
   "source": [
    "Course instructors can use these types of clusters to better organize their students' performances, and identify which students need extra academic support at an earlier time period than they could before data science.  Instructors can develop clusters for each course-topic they teach, and use observations from these clusters to determine which course topics need more class-time/attention than others.  Course-designers can also develop clusters for each course-topic they are expected to include in the course, and use these clusters to determine how much material to add under each specific course-topic.  Administrators can use the data-clustering to observe the pass/fail rate of specific groups of students, and from there know what direction improvements/changes need to be administered in the school system. Potential limitations in the clusters developed in this lab include the lack of knowledge available about the learning-environments and level-of-support provided to these students.  External factors should always be considered when attempting to prevent students' course-failings.  The ability to identify the specific students in each cluster created by KMeans clustering is also not possible.  Instead school faculty can only use this cluster-data to provide an oversight of how the student population, or a course-population, is performing; rather than what specific individuals need academic support.  The specific course(s) struggling students are currently located in can be identified, and these specific courses can be provided more easily accessible academic support.  The clusters are also not always 100% accurate, so some students who are performing poorly may be classified as part of the average-scoring group and may not get the attention they need.             "
   ]
  },
  {
   "cell_type": "code",
   "execution_count": null,
   "metadata": {},
   "outputs": [],
   "source": [
    " "
   ]
  }
 ],
 "metadata": {
  "colab": {
   "collapsed_sections": [],
   "name": "Assignment2_source.ipynb",
   "provenance": []
  },
  "coursera": {
   "schema_names": [
    "mads_learning_analytics_v2_assignment2"
   ]
  },
  "kernelspec": {
   "display_name": "Python 3 (ipykernel)",
   "language": "python",
   "name": "python3"
  },
  "language_info": {
   "codemirror_mode": {
    "name": "ipython",
    "version": 3
   },
   "file_extension": ".py",
   "mimetype": "text/x-python",
   "name": "python",
   "nbconvert_exporter": "python",
   "pygments_lexer": "ipython3",
   "version": "3.8.10"
  }
 },
 "nbformat": 4,
 "nbformat_minor": 1
}
