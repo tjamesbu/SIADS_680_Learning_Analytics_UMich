{
 "cells": [
  {
   "cell_type": "markdown",
   "metadata": {
    "deletable": false,
    "editable": false,
    "nbgrader": {
     "cell_type": "markdown",
     "checksum": "adda19f5041360664358af94ab788655",
     "grade": false,
     "grade_id": "cell-57879a1e86b2abe5",
     "locked": true,
     "schema_version": 3,
     "solution": false,
     "task": false
    }
   },
   "source": [
    "<img src=\"https://brand.umich.edu/assets/brand/style-guide/logo-guidelines/U-M_Logo-Horizontal-Hex.png\" alt=\"Drawing\" style=\"width: 300px;\" align=\"left\"/><br>\n",
    "\n",
    "# Week 1: Exploratory Data Analysis"
   ]
  },
  {
   "cell_type": "markdown",
   "metadata": {
    "deletable": false,
    "editable": false,
    "nbgrader": {
     "cell_type": "markdown",
     "checksum": "8b2ea6990fb358344418d5f8014c2def",
     "grade": false,
     "grade_id": "cell-5563682189e0eb2f",
     "locked": true,
     "schema_version": 3,
     "solution": false,
     "task": false
    }
   },
   "source": [
    "A key idea behind data exploration is what John Behrens, who you will read in Week 3, refers to as building a “mental model” of the phenomenon of interest. The phenomenon of interest for the eventual model that you will start building in Week 3 is students' likelihood of not passing an online, self-directed course. In developing a mental model, we want you to think about what might be predictive of eventual course success. Oftentimes, what is predictive is commonsensical: students’ completion and performance on assessments, for example.\n",
    "\n",
    "If you want additional examples, the optional reading by Kuzilek, Hlosta, Herrmannova, Zdrahal, Vaclavek,  & Wolf (2015) illustrates their efforts to build a classification model using Open University data, which is the same source as the data we will be exploring in this notebook.\n",
    "\n",
    "Below are some starter ideas for features to explore. In looking at the list, think about how different actions that students take are translated into data that are collected and stored by the OU online system.\n",
    "- Order of events\n",
    "- Differences from class average / median\n",
    "- % of learning resources accessed from a defined set\n",
    "- Ratios of activities by \"session\" or day\n",
    "- Time between events (i.e., gaps)\n",
    "- Activity in \"first 5 or 10 events\" \n",
    "- Activity that \"starts\" a session or precedes / follows an assessment\n",
    "- Differences from due dates (i.e., early / late)\n",
    "- Scores on assignments\n",
    "- Whether or not an assignment was turned in, regardless of score\n",
    "\n",
    "The data work that we engage in for the purpose of “developing a mental model” in this first notebook will be much simpler as compared to the Notebooks 2 and 3, which are structured around unsupervised and supervised machine learning tasks, respectively. In many ways, this first notebook is intended to get you familiar with a typical “learning analytics” datasets that includes demographic, assessment, and log data."
   ]
  },
  {
   "cell_type": "markdown",
   "metadata": {
    "deletable": false,
    "editable": false,
    "id": "Jt3cNQYJOqvd",
    "nbgrader": {
     "cell_type": "markdown",
     "checksum": "dff855584061644993cd3d34d0ed7de4",
     "grade": false,
     "grade_id": "cell-13c70bd72eb96718",
     "locked": true,
     "schema_version": 3,
     "solution": false,
     "task": false
    }
   },
   "source": [
    "### Dictionary\n",
    "- **student_info.csv**\n",
    "    - **id_student** = numeric; unique identifier for each student in the course\n",
    "    - **gender** = character; M = \"male\", F = \"female\"\n",
    "    - **highest_education** = character; “Some Graduate”, “Some Higher Education”, “High School + Advanced Placement”, “High School”, “No Formal Quals” (Categories ordered from highest documented education level attained to lowest documented education level attained)\n",
    "    - **disability** = character; Y = \"yes\", N = \"no\"\n",
    "    - **final_result** = character; \"Fail\", \"Pass\"\n",
    "\n",
    "\n",
    "- **quizzes_tests.csv**\n",
    "    - **id_student** = numeric; unique identifier for each student in the course\n",
    "    - **assignment_name** = character; name of graded assignment (Quiz 1-7, Test 1-6, Final Exam)\n",
    "    - **due_date** = numeric; date assignment was due (indexed as count in days from start of course, i.e., day 0)\n",
    "    - **weight** = numeric; weight multiplied by score when generating final grade (weight * score / 100)\n",
    "    - **date_submitted** = numeric; date student submitted assigned (indexed as count in days from start of course, i.e., day 0, NaN means students did not submit assignment)\n",
    "    - **score** = numeric; score student earned on assignment (0 means students did not submit assignment)\n",
    "\n",
    "\n",
    "- **learning_resources.csv**\n",
    "    - **id_student** = numeric; unique identifier for each student in the course\n",
    "    - **activity_type** = character; overarching label for learning activity students can access (“course_homepage”, “course_page”, “forum”, ‘resource”, “wiki”)\n",
    "    - **activity_id** = numeric; unique identifier for specific learning activity student accessed within overacting `activity_type`\n",
    "    - **date** = numeric; date student accessed specific `acitivity_id`  (indexed as count in days from start of course, i.e., day 0)\n",
    "    - **sum_click** = numeric; count of clicks for `activity_id` on date"
   ]
  },
  {
   "cell_type": "code",
   "execution_count": 1,
   "metadata": {
    "id": "Kbja8_tNOI_R"
   },
   "outputs": [],
   "source": [
    "import pandas as pd"
   ]
  },
  {
   "cell_type": "code",
   "execution_count": 2,
   "metadata": {},
   "outputs": [],
   "source": [
    "si = pd.read_csv(\"assets/student_info.csv\")\n",
    "qt = pd.read_csv(\"assets/quizzes_tests.csv\")\n",
    "lr = pd.read_csv(\"assets/learning_resources.csv\")"
   ]
  },
  {
   "cell_type": "code",
   "execution_count": 3,
   "metadata": {},
   "outputs": [
    {
     "data": {
      "text/html": [
       "<div>\n",
       "<style scoped>\n",
       "    .dataframe tbody tr th:only-of-type {\n",
       "        vertical-align: middle;\n",
       "    }\n",
       "\n",
       "    .dataframe tbody tr th {\n",
       "        vertical-align: top;\n",
       "    }\n",
       "\n",
       "    .dataframe thead th {\n",
       "        text-align: right;\n",
       "    }\n",
       "</style>\n",
       "<table border=\"1\" class=\"dataframe\">\n",
       "  <thead>\n",
       "    <tr style=\"text-align: right;\">\n",
       "      <th></th>\n",
       "      <th>id_student</th>\n",
       "      <th>gender</th>\n",
       "      <th>highest_education</th>\n",
       "      <th>disability</th>\n",
       "      <th>final_result</th>\n",
       "    </tr>\n",
       "  </thead>\n",
       "  <tbody>\n",
       "    <tr>\n",
       "      <th>0</th>\n",
       "      <td>41060</td>\n",
       "      <td>M</td>\n",
       "      <td>Some Higher Education</td>\n",
       "      <td>N</td>\n",
       "      <td>Fail</td>\n",
       "    </tr>\n",
       "    <tr>\n",
       "      <th>1</th>\n",
       "      <td>45664</td>\n",
       "      <td>M</td>\n",
       "      <td>Some Higher Education</td>\n",
       "      <td>N</td>\n",
       "      <td>Pass</td>\n",
       "    </tr>\n",
       "    <tr>\n",
       "      <th>2</th>\n",
       "      <td>52014</td>\n",
       "      <td>F</td>\n",
       "      <td>High School</td>\n",
       "      <td>N</td>\n",
       "      <td>Fail</td>\n",
       "    </tr>\n",
       "    <tr>\n",
       "      <th>3</th>\n",
       "      <td>53488</td>\n",
       "      <td>F</td>\n",
       "      <td>Some Higher Education</td>\n",
       "      <td>N</td>\n",
       "      <td>Pass</td>\n",
       "    </tr>\n",
       "    <tr>\n",
       "      <th>4</th>\n",
       "      <td>60135</td>\n",
       "      <td>F</td>\n",
       "      <td>High School + Advanced Placement</td>\n",
       "      <td>N</td>\n",
       "      <td>Pass</td>\n",
       "    </tr>\n",
       "  </tbody>\n",
       "</table>\n",
       "</div>"
      ],
      "text/plain": [
       "   id_student gender                 highest_education disability final_result\n",
       "0       41060      M             Some Higher Education          N         Fail\n",
       "1       45664      M             Some Higher Education          N         Pass\n",
       "2       52014      F                       High School          N         Fail\n",
       "3       53488      F             Some Higher Education          N         Pass\n",
       "4       60135      F  High School + Advanced Placement          N         Pass"
      ]
     },
     "execution_count": 3,
     "metadata": {},
     "output_type": "execute_result"
    }
   ],
   "source": [
    "si.head()"
   ]
  },
  {
   "cell_type": "code",
   "execution_count": 4,
   "metadata": {},
   "outputs": [
    {
     "data": {
      "text/html": [
       "<div>\n",
       "<style scoped>\n",
       "    .dataframe tbody tr th:only-of-type {\n",
       "        vertical-align: middle;\n",
       "    }\n",
       "\n",
       "    .dataframe tbody tr th {\n",
       "        vertical-align: top;\n",
       "    }\n",
       "\n",
       "    .dataframe thead th {\n",
       "        text-align: right;\n",
       "    }\n",
       "</style>\n",
       "<table border=\"1\" class=\"dataframe\">\n",
       "  <thead>\n",
       "    <tr style=\"text-align: right;\">\n",
       "      <th></th>\n",
       "      <th>id_student</th>\n",
       "      <th>assignment_name</th>\n",
       "      <th>due_date</th>\n",
       "      <th>weight</th>\n",
       "      <th>date_submitted</th>\n",
       "      <th>score</th>\n",
       "    </tr>\n",
       "  </thead>\n",
       "  <tbody>\n",
       "    <tr>\n",
       "      <th>0</th>\n",
       "      <td>41060</td>\n",
       "      <td>Quiz 1</td>\n",
       "      <td>23</td>\n",
       "      <td>2.0</td>\n",
       "      <td>25.0</td>\n",
       "      <td>77</td>\n",
       "    </tr>\n",
       "    <tr>\n",
       "      <th>1</th>\n",
       "      <td>41060</td>\n",
       "      <td>Test 1</td>\n",
       "      <td>25</td>\n",
       "      <td>7.5</td>\n",
       "      <td>24.0</td>\n",
       "      <td>85</td>\n",
       "    </tr>\n",
       "    <tr>\n",
       "      <th>2</th>\n",
       "      <td>41060</td>\n",
       "      <td>Quiz 2</td>\n",
       "      <td>51</td>\n",
       "      <td>3.0</td>\n",
       "      <td>54.0</td>\n",
       "      <td>94</td>\n",
       "    </tr>\n",
       "    <tr>\n",
       "      <th>3</th>\n",
       "      <td>41060</td>\n",
       "      <td>Test 2</td>\n",
       "      <td>53</td>\n",
       "      <td>10.0</td>\n",
       "      <td>53.0</td>\n",
       "      <td>86</td>\n",
       "    </tr>\n",
       "    <tr>\n",
       "      <th>4</th>\n",
       "      <td>41060</td>\n",
       "      <td>Quiz 3</td>\n",
       "      <td>79</td>\n",
       "      <td>3.0</td>\n",
       "      <td>81.0</td>\n",
       "      <td>94</td>\n",
       "    </tr>\n",
       "  </tbody>\n",
       "</table>\n",
       "</div>"
      ],
      "text/plain": [
       "   id_student assignment_name  due_date  weight  date_submitted  score\n",
       "0       41060          Quiz 1        23     2.0            25.0     77\n",
       "1       41060          Test 1        25     7.5            24.0     85\n",
       "2       41060          Quiz 2        51     3.0            54.0     94\n",
       "3       41060          Test 2        53    10.0            53.0     86\n",
       "4       41060          Quiz 3        79     3.0            81.0     94"
      ]
     },
     "execution_count": 4,
     "metadata": {},
     "output_type": "execute_result"
    }
   ],
   "source": [
    "qt.head()"
   ]
  },
  {
   "cell_type": "code",
   "execution_count": 5,
   "metadata": {},
   "outputs": [
    {
     "data": {
      "text/html": [
       "<div>\n",
       "<style scoped>\n",
       "    .dataframe tbody tr th:only-of-type {\n",
       "        vertical-align: middle;\n",
       "    }\n",
       "\n",
       "    .dataframe tbody tr th {\n",
       "        vertical-align: top;\n",
       "    }\n",
       "\n",
       "    .dataframe thead th {\n",
       "        text-align: right;\n",
       "    }\n",
       "</style>\n",
       "<table border=\"1\" class=\"dataframe\">\n",
       "  <thead>\n",
       "    <tr style=\"text-align: right;\">\n",
       "      <th></th>\n",
       "      <th>id_student</th>\n",
       "      <th>activity_type</th>\n",
       "      <th>activity_id</th>\n",
       "      <th>date</th>\n",
       "      <th>sum_click</th>\n",
       "    </tr>\n",
       "  </thead>\n",
       "  <tbody>\n",
       "    <tr>\n",
       "      <th>0</th>\n",
       "      <td>420388</td>\n",
       "      <td>resource</td>\n",
       "      <td>219</td>\n",
       "      <td>0</td>\n",
       "      <td>1</td>\n",
       "    </tr>\n",
       "    <tr>\n",
       "      <th>1</th>\n",
       "      <td>420388</td>\n",
       "      <td>course_homepage</td>\n",
       "      <td>1</td>\n",
       "      <td>0</td>\n",
       "      <td>3</td>\n",
       "    </tr>\n",
       "    <tr>\n",
       "      <th>2</th>\n",
       "      <td>420388</td>\n",
       "      <td>course_page</td>\n",
       "      <td>87</td>\n",
       "      <td>0</td>\n",
       "      <td>1</td>\n",
       "    </tr>\n",
       "    <tr>\n",
       "      <th>3</th>\n",
       "      <td>420388</td>\n",
       "      <td>resource</td>\n",
       "      <td>229</td>\n",
       "      <td>0</td>\n",
       "      <td>2</td>\n",
       "    </tr>\n",
       "    <tr>\n",
       "      <th>4</th>\n",
       "      <td>420388</td>\n",
       "      <td>course_page</td>\n",
       "      <td>1</td>\n",
       "      <td>0</td>\n",
       "      <td>2</td>\n",
       "    </tr>\n",
       "  </tbody>\n",
       "</table>\n",
       "</div>"
      ],
      "text/plain": [
       "   id_student    activity_type  activity_id  date  sum_click\n",
       "0      420388         resource          219     0          1\n",
       "1      420388  course_homepage            1     0          3\n",
       "2      420388      course_page           87     0          1\n",
       "3      420388         resource          229     0          2\n",
       "4      420388      course_page            1     0          2"
      ]
     },
     "execution_count": 5,
     "metadata": {},
     "output_type": "execute_result"
    }
   ],
   "source": [
    "lr.head()"
   ]
  },
  {
   "cell_type": "markdown",
   "metadata": {
    "deletable": false,
    "editable": false,
    "id": "Z73fmApxaLK4",
    "nbgrader": {
     "cell_type": "markdown",
     "checksum": "a281750a381be0d03a3fae0772233302",
     "grade": false,
     "grade_id": "cell-70b22f84f4a826b7",
     "locked": true,
     "schema_version": 3,
     "solution": false,
     "task": false
    }
   },
   "source": [
    "# 1. Explorations (20 points)"
   ]
  },
  {
   "cell_type": "markdown",
   "metadata": {
    "deletable": false,
    "editable": false,
    "id": "REtTvYvz-mUc",
    "nbgrader": {
     "cell_type": "markdown",
     "checksum": "d2d649ebe3291c11bc16463da9b116a1",
     "grade": false,
     "grade_id": "cell-d2ca0dbdc0e665a9",
     "locked": true,
     "schema_version": 3,
     "solution": false,
     "task": false
    }
   },
   "source": [
    "For our initial explorations, we will load each dataset and get a feel for the variables and the data type for each variable.\n",
    "\n",
    "We have modified Open University data, focusing on a single course as well as simplifying `learning_resources.csv` and `quizzes_tests.csv` to make them easier to work with. Refer to the data dictionary, above, to learn about what is contained in each dataset. \n",
    "\n",
    "For the `quizzes_tests.csv` file, every student should have the same number of rows because each student had the opportunity to take the same quizzes and tests.\n",
    "\n",
    "The `learning_resources.csv` file logs the number of times that a student accessed a specific file (i.e., a webpage, PDF file, or section of the course like Wiki or Forum). Students will have different numbers of rows based on the files they accessed. Under `activity_type`, example files include \"course_homepage\" (i.e., the main landing page for the course), \"course_page\" (i.e., a page with course-related content), “resource” (i.e., a PDF file that blends text, tables, and figures), and interactive sections of the course (i.e., Wiki or Forum).\n",
    "\n",
    "**Note:** For these first tasks, you will be using a lot of `groupby`."
   ]
  },
  {
   "cell_type": "markdown",
   "metadata": {
    "deletable": false,
    "editable": false,
    "nbgrader": {
     "cell_type": "markdown",
     "checksum": "de6a972d828898c95302e2f6a5dc973c",
     "grade": false,
     "grade_id": "cell-be0f0855890dc5e7",
     "locked": true,
     "schema_version": 3,
     "solution": false,
     "task": false
    }
   },
   "source": [
    "### Grading\n",
    "\n",
    "1.1. (2 points) Identify how many students failed and passed the course\n",
    "\n",
    "1.2. (2 points) Calculate course **pass rate** using `final_result` by `disability`\n",
    "\n",
    "1.3. (2 points) Calculate course **pass rate** using `final_result` by `highest_education`\n",
    "\n",
    "1.4. (2 points) Calculate course **pass rate** using `final_result` by `gender`\n",
    "\n",
    "1.5. (2 points) Calculate **completion rate** for each `assignment_name`\n",
    "\n",
    "1.6. (2 points) Identify the median, mean, and standard deviation for each `assignment_name` for all students\n",
    "\n",
    "1.7. (2 points) Identify the median, mean, and standard deviation for each `assignment_name` for **only submitted** assignments\n",
    "\n",
    "1.8. (2 points) Identify the top 10 most accessed learning resources by summing `sum_clicks`, grouped by `activity_type` and `activity_id`\n",
    "\n",
    "1.9. (2 points) Create a data frame that represents the **number of unique students** who accessed any resource for each date\n",
    "\n",
    "1.10. (2 points) Visualize the data frame from 1.9 as a line plot"
   ]
  },
  {
   "cell_type": "markdown",
   "metadata": {
    "deletable": false,
    "editable": false,
    "nbgrader": {
     "cell_type": "markdown",
     "checksum": "770a972b863f572fb255da4c3c0971fa",
     "grade": false,
     "grade_id": "cell-b0ebd33e8e2b1ef9",
     "locked": true,
     "schema_version": 3,
     "solution": false,
     "task": false
    }
   },
   "source": [
    "## Student information"
   ]
  },
  {
   "cell_type": "markdown",
   "metadata": {
    "deletable": false,
    "editable": false,
    "nbgrader": {
     "cell_type": "markdown",
     "checksum": "8ebf126e54dd7bc6ce6dea28e8f2eb4e",
     "grade": false,
     "grade_id": "cell-4348e492b65c73c1",
     "locked": true,
     "schema_version": 3,
     "solution": false,
     "task": false
    }
   },
   "source": [
    "Let's start with the student information data. Each row is a unique student. First, identify the number of students who failed or passed the course."
   ]
  },
  {
   "cell_type": "markdown",
   "metadata": {
    "deletable": false,
    "editable": false,
    "nbgrader": {
     "cell_type": "markdown",
     "checksum": "73c63ee03585b0bdbcb8d72fa0357e36",
     "grade": false,
     "grade_id": "cell-a8d27cf485cf8e01",
     "locked": true,
     "schema_version": 3,
     "solution": false,
     "task": false
    }
   },
   "source": [
    "1.1. (1 point) Identify how many students failed and passed the course"
   ]
  },
  {
   "cell_type": "code",
   "execution_count": 6,
   "metadata": {},
   "outputs": [
    {
     "data": {
      "text/plain": [
       "813"
      ]
     },
     "execution_count": 6,
     "metadata": {},
     "output_type": "execute_result"
    }
   ],
   "source": [
    "len(si['final_result'])"
   ]
  },
  {
   "cell_type": "code",
   "execution_count": 7,
   "metadata": {
    "deletable": false,
    "nbgrader": {
     "cell_type": "code",
     "checksum": "0dc555fd22a4a8235187ef5e75c3b20f",
     "grade": true,
     "grade_id": "cell-b8cc91c5410db6a6",
     "locked": false,
     "points": 0,
     "schema_version": 3,
     "solution": true,
     "task": false
    }
   },
   "outputs": [
    {
     "name": "stdout",
     "output_type": "stream",
     "text": [
      "Number of students that failed = 303\n"
     ]
    }
   ],
   "source": [
    "## Your code with comments\n",
    "#Number of Students that Failed\n",
    "# YOUR CODE HERE\n",
    "Fail_filter = si[si['final_result']=='Fail']\n",
    "print(\"Number of students that failed =\", len(Fail_filter))"
   ]
  },
  {
   "cell_type": "code",
   "execution_count": 8,
   "metadata": {},
   "outputs": [
    {
     "name": "stdout",
     "output_type": "stream",
     "text": [
      "Number of students that passed = 510\n"
     ]
    }
   ],
   "source": [
    "#Number of Students that Passed\n",
    "Pass_filter = si[si['final_result']=='Pass']\n",
    "print(\"Number of students that passed =\", len(Pass_filter))"
   ]
  },
  {
   "cell_type": "code",
   "execution_count": 9,
   "metadata": {},
   "outputs": [
    {
     "data": {
      "text/html": [
       "<div>\n",
       "<style scoped>\n",
       "    .dataframe tbody tr th:only-of-type {\n",
       "        vertical-align: middle;\n",
       "    }\n",
       "\n",
       "    .dataframe tbody tr th {\n",
       "        vertical-align: top;\n",
       "    }\n",
       "\n",
       "    .dataframe thead th {\n",
       "        text-align: right;\n",
       "    }\n",
       "</style>\n",
       "<table border=\"1\" class=\"dataframe\">\n",
       "  <thead>\n",
       "    <tr style=\"text-align: right;\">\n",
       "      <th></th>\n",
       "      <th>Passed</th>\n",
       "      <th>Failed</th>\n",
       "    </tr>\n",
       "  </thead>\n",
       "  <tbody>\n",
       "    <tr>\n",
       "      <th>0</th>\n",
       "      <td>510</td>\n",
       "      <td>303</td>\n",
       "    </tr>\n",
       "  </tbody>\n",
       "</table>\n",
       "</div>"
      ],
      "text/plain": [
       "   Passed  Failed\n",
       "0     510     303"
      ]
     },
     "execution_count": 9,
     "metadata": {},
     "output_type": "execute_result"
    }
   ],
   "source": [
    "pass_fail_dict = {'Passed':[510], 'Failed':[303]}\n",
    "pass_fail_df = pd.DataFrame(data=pass_fail_dict, columns=['Passed', 'Failed'])\n",
    "pass_fail_df.head()"
   ]
  },
  {
   "cell_type": "markdown",
   "metadata": {
    "deletable": false,
    "editable": false,
    "nbgrader": {
     "cell_type": "markdown",
     "checksum": "9ce99b2ac6cfcd0d91871775df7b45e9",
     "grade": false,
     "grade_id": "cell-c3b36bbf56610cbc",
     "locked": true,
     "schema_version": 3,
     "solution": false,
     "task": false
    }
   },
   "source": [
    "Next, we want to see if there are differences by `disability`, `highest_education`, and `gender` based on `final_result`. Because these groups have different overall counts, calculate percentages."
   ]
  },
  {
   "cell_type": "markdown",
   "metadata": {
    "deletable": false,
    "editable": false,
    "nbgrader": {
     "cell_type": "markdown",
     "checksum": "664d82bfee1ed582d96ae8dcfa8ca2b0",
     "grade": false,
     "grade_id": "cell-47972dc498748ac6",
     "locked": true,
     "schema_version": 3,
     "solution": false,
     "task": false
    }
   },
   "source": [
    "1.2. (2 points) Calculate pass rate using `final_result` by `disability`"
   ]
  },
  {
   "cell_type": "code",
   "execution_count": 10,
   "metadata": {
    "deletable": false,
    "nbgrader": {
     "cell_type": "code",
     "checksum": "15c738128d7ad3e9cf9e519eee17b688",
     "grade": true,
     "grade_id": "cell-b6fecd3ed65c5405",
     "locked": false,
     "points": 0,
     "schema_version": 3,
     "solution": true,
     "task": false
    }
   },
   "outputs": [
    {
     "data": {
      "text/html": [
       "<div>\n",
       "<style scoped>\n",
       "    .dataframe tbody tr th:only-of-type {\n",
       "        vertical-align: middle;\n",
       "    }\n",
       "\n",
       "    .dataframe tbody tr th {\n",
       "        vertical-align: top;\n",
       "    }\n",
       "\n",
       "    .dataframe thead th {\n",
       "        text-align: right;\n",
       "    }\n",
       "</style>\n",
       "<table border=\"1\" class=\"dataframe\">\n",
       "  <thead>\n",
       "    <tr style=\"text-align: right;\">\n",
       "      <th></th>\n",
       "      <th>id_student</th>\n",
       "      <th>gender</th>\n",
       "      <th>highest_education</th>\n",
       "      <th>disability</th>\n",
       "      <th>final_result</th>\n",
       "    </tr>\n",
       "  </thead>\n",
       "  <tbody>\n",
       "    <tr>\n",
       "      <th>7</th>\n",
       "      <td>67785</td>\n",
       "      <td>F</td>\n",
       "      <td>High School</td>\n",
       "      <td>Y</td>\n",
       "      <td>Pass</td>\n",
       "    </tr>\n",
       "    <tr>\n",
       "      <th>11</th>\n",
       "      <td>81351</td>\n",
       "      <td>M</td>\n",
       "      <td>Some Higher Education</td>\n",
       "      <td>Y</td>\n",
       "      <td>Fail</td>\n",
       "    </tr>\n",
       "    <tr>\n",
       "      <th>14</th>\n",
       "      <td>89051</td>\n",
       "      <td>M</td>\n",
       "      <td>High School + Advanced Placement</td>\n",
       "      <td>Y</td>\n",
       "      <td>Pass</td>\n",
       "    </tr>\n",
       "    <tr>\n",
       "      <th>15</th>\n",
       "      <td>92775</td>\n",
       "      <td>F</td>\n",
       "      <td>High School</td>\n",
       "      <td>Y</td>\n",
       "      <td>Fail</td>\n",
       "    </tr>\n",
       "    <tr>\n",
       "      <th>23</th>\n",
       "      <td>121000</td>\n",
       "      <td>F</td>\n",
       "      <td>High School</td>\n",
       "      <td>Y</td>\n",
       "      <td>Fail</td>\n",
       "    </tr>\n",
       "  </tbody>\n",
       "</table>\n",
       "</div>"
      ],
      "text/plain": [
       "    id_student gender                 highest_education disability  \\\n",
       "7        67785      F                       High School          Y   \n",
       "11       81351      M             Some Higher Education          Y   \n",
       "14       89051      M  High School + Advanced Placement          Y   \n",
       "15       92775      F                       High School          Y   \n",
       "23      121000      F                       High School          Y   \n",
       "\n",
       "   final_result  \n",
       "7          Pass  \n",
       "11         Fail  \n",
       "14         Pass  \n",
       "15         Fail  \n",
       "23         Fail  "
      ]
     },
     "execution_count": 10,
     "metadata": {},
     "output_type": "execute_result"
    }
   ],
   "source": [
    "## Your code with comments\n",
    "# YOUR CODE HERE\n",
    "disability_filter = si[si['disability']=='Y']\n",
    "disability_filter.head()"
   ]
  },
  {
   "cell_type": "code",
   "execution_count": 11,
   "metadata": {},
   "outputs": [
    {
     "data": {
      "text/plain": [
       "(81, 5)"
      ]
     },
     "execution_count": 11,
     "metadata": {},
     "output_type": "execute_result"
    }
   ],
   "source": [
    "disability_filter.shape"
   ]
  },
  {
   "cell_type": "code",
   "execution_count": 12,
   "metadata": {},
   "outputs": [
    {
     "data": {
      "text/plain": [
       "52"
      ]
     },
     "execution_count": 12,
     "metadata": {},
     "output_type": "execute_result"
    }
   ],
   "source": [
    "#Calculating the quantity of the variable\n",
    "fr_by_dis = disability_filter[disability_filter['final_result']=='Pass']\n",
    "len(fr_by_dis)"
   ]
  },
  {
   "cell_type": "code",
   "execution_count": 13,
   "metadata": {},
   "outputs": [
    {
     "name": "stdout",
     "output_type": "stream",
     "text": [
      "The pass rate for students with a disability is = 64 %\n"
     ]
    }
   ],
   "source": [
    "disability_pass_rate = 52/81 * 100\n",
    "dis_pass_rate = round(disability_pass_rate)\n",
    "print(\"The pass rate for students with a disability is =\", dis_pass_rate, \"%\")"
   ]
  },
  {
   "cell_type": "markdown",
   "metadata": {
    "deletable": false,
    "editable": false,
    "nbgrader": {
     "cell_type": "markdown",
     "checksum": "6e1c1dff473f0548fa73faaf5b6e3479",
     "grade": false,
     "grade_id": "cell-a0050444fe1d1d56",
     "locked": true,
     "schema_version": 3,
     "solution": false,
     "task": false
    }
   },
   "source": [
    "1.3. (2 points) Calculate pass rate using `final_result` by `highest_education`"
   ]
  },
  {
   "cell_type": "code",
   "execution_count": 14,
   "metadata": {},
   "outputs": [
    {
     "data": {
      "text/plain": [
       "813"
      ]
     },
     "execution_count": 14,
     "metadata": {},
     "output_type": "execute_result"
    }
   ],
   "source": [
    "len(si['final_result'])"
   ]
  },
  {
   "cell_type": "code",
   "execution_count": 15,
   "metadata": {},
   "outputs": [
    {
     "data": {
      "text/plain": [
       "array(['Some Higher Education', 'High School',\n",
       "       'High School + Advanced Placement', 'Some Graduate',\n",
       "       'No Formal Quals'], dtype=object)"
      ]
     },
     "execution_count": 15,
     "metadata": {},
     "output_type": "execute_result"
    }
   ],
   "source": [
    "#Determing the variables\n",
    "unique = si['highest_education'].unique()\n",
    "unique"
   ]
  },
  {
   "cell_type": "code",
   "execution_count": 16,
   "metadata": {},
   "outputs": [],
   "source": [
    "def calc_pass_rate(df):\n",
    "    return str(round(100*len(df[df['final_result']=='Pass'])/len(df['final_result']), 1)) + \"%\""
   ]
  },
  {
   "cell_type": "code",
   "execution_count": 17,
   "metadata": {
    "deletable": false,
    "nbgrader": {
     "cell_type": "code",
     "checksum": "4617ced759eddfc78dddbf4de6218ea6",
     "grade": true,
     "grade_id": "cell-c4cd576cc8de6307",
     "locked": false,
     "points": 0,
     "schema_version": 3,
     "solution": true,
     "task": false
    }
   },
   "outputs": [
    {
     "data": {
      "text/plain": [
       "highest_education\n",
       "High School                         48.0%\n",
       "High School + Advanced Placement    69.1%\n",
       "No Formal Quals                     66.7%\n",
       "Some Graduate                       91.7%\n",
       "Some Higher Education               71.0%\n",
       "dtype: object"
      ]
     },
     "execution_count": 17,
     "metadata": {},
     "output_type": "execute_result"
    }
   ],
   "source": [
    "final_result_by_highest_ed = si.groupby('highest_education').apply(calc_pass_rate)\n",
    "final_result_by_highest_ed.head()"
   ]
  },
  {
   "cell_type": "markdown",
   "metadata": {
    "deletable": false,
    "editable": false,
    "nbgrader": {
     "cell_type": "markdown",
     "checksum": "8c96888e3f3d6814e6bd73c578dbc849",
     "grade": false,
     "grade_id": "cell-42352e76a36ce07c",
     "locked": true,
     "schema_version": 3,
     "solution": false,
     "task": false
    }
   },
   "source": [
    "1.4. (2 points) Calculate pass rate using `final_result` by `gender`"
   ]
  },
  {
   "cell_type": "code",
   "execution_count": 18,
   "metadata": {
    "deletable": false,
    "nbgrader": {
     "cell_type": "code",
     "checksum": "93abbdd0629321520f6412ec86e3ff41",
     "grade": true,
     "grade_id": "cell-b9427c04ddc993cb",
     "locked": false,
     "points": 0,
     "schema_version": 3,
     "solution": true,
     "task": false
    }
   },
   "outputs": [
    {
     "data": {
      "text/plain": [
       "gender\n",
       "F    64.0%\n",
       "M    61.9%\n",
       "dtype: object"
      ]
     },
     "execution_count": 18,
     "metadata": {},
     "output_type": "execute_result"
    }
   ],
   "source": [
    "## Your code with comments\n",
    "#Calculating the quantity of the variable\n",
    "# YOUR CODE HERE\n",
    "final_result_by_gender = si.groupby('gender').apply(calc_pass_rate)\n",
    "final_result_by_gender.head()"
   ]
  },
  {
   "cell_type": "markdown",
   "metadata": {
    "deletable": false,
    "editable": false,
    "nbgrader": {
     "cell_type": "markdown",
     "checksum": "eb49f4b321578206aae751285db7ee11",
     "grade": false,
     "grade_id": "cell-3e060b094c5f1f76",
     "locked": true,
     "schema_version": 3,
     "solution": false,
     "task": false
    }
   },
   "source": [
    "## Quizzes and tests"
   ]
  },
  {
   "cell_type": "markdown",
   "metadata": {
    "deletable": false,
    "editable": false,
    "nbgrader": {
     "cell_type": "markdown",
     "checksum": "6c8b6b7b413e7e6e1e41fbee771cba9a",
     "grade": false,
     "grade_id": "cell-b34061bfee7c51d1",
     "locked": true,
     "schema_version": 3,
     "solution": false,
     "task": false
    }
   },
   "source": [
    "For `quizzes_tests.csv`, we want to examine which assignments had high incompletes as well as the average scores for each assignment. To calculate incompletes, you will need to work with the `date_submitted` column. If a student did not submit an assignment, they will have an \"NaN\" under the `date_submitted`."
   ]
  },
  {
   "cell_type": "markdown",
   "metadata": {
    "deletable": false,
    "editable": false,
    "nbgrader": {
     "cell_type": "markdown",
     "checksum": "7086c8920b14c930452e419e0cc544c3",
     "grade": false,
     "grade_id": "cell-ba95bd43e6dac8e9",
     "locked": true,
     "schema_version": 3,
     "solution": false,
     "task": false
    }
   },
   "source": [
    "1.5. (2 points) Calculate **completion rate** for each `assignment_name`"
   ]
  },
  {
   "cell_type": "markdown",
   "metadata": {
    "deletable": false,
    "editable": false,
    "nbgrader": {
     "cell_type": "markdown",
     "checksum": "a8607a237e1f61b49685a2ccefde3bb0",
     "grade": false,
     "grade_id": "cell-e5ff9278aec1a0c8",
     "locked": true,
     "schema_version": 3,
     "solution": false,
     "task": false
    }
   },
   "source": [
    "The final table should be organized with 1 row per `assignment_name` and another column that calculates the percent of students who **submitted** the assignment."
   ]
  },
  {
   "cell_type": "code",
   "execution_count": 19,
   "metadata": {
    "deletable": false,
    "nbgrader": {
     "cell_type": "code",
     "checksum": "7792026b8bb6c8ab8d17ff93bdcc3f17",
     "grade": true,
     "grade_id": "cell-917b0dac067b0d0e",
     "locked": false,
     "points": 0,
     "schema_version": 3,
     "solution": true,
     "task": false
    }
   },
   "outputs": [
    {
     "data": {
      "text/html": [
       "<div>\n",
       "<style scoped>\n",
       "    .dataframe tbody tr th:only-of-type {\n",
       "        vertical-align: middle;\n",
       "    }\n",
       "\n",
       "    .dataframe tbody tr th {\n",
       "        vertical-align: top;\n",
       "    }\n",
       "\n",
       "    .dataframe thead th {\n",
       "        text-align: right;\n",
       "    }\n",
       "</style>\n",
       "<table border=\"1\" class=\"dataframe\">\n",
       "  <thead>\n",
       "    <tr style=\"text-align: right;\">\n",
       "      <th></th>\n",
       "      <th>id_student</th>\n",
       "      <th>assignment_name</th>\n",
       "      <th>due_date</th>\n",
       "      <th>weight</th>\n",
       "      <th>date_submitted</th>\n",
       "      <th>score</th>\n",
       "    </tr>\n",
       "  </thead>\n",
       "  <tbody>\n",
       "    <tr>\n",
       "      <th>0</th>\n",
       "      <td>41060</td>\n",
       "      <td>Quiz 1</td>\n",
       "      <td>23</td>\n",
       "      <td>2.0</td>\n",
       "      <td>25.0</td>\n",
       "      <td>77</td>\n",
       "    </tr>\n",
       "    <tr>\n",
       "      <th>1</th>\n",
       "      <td>41060</td>\n",
       "      <td>Test 1</td>\n",
       "      <td>25</td>\n",
       "      <td>7.5</td>\n",
       "      <td>24.0</td>\n",
       "      <td>85</td>\n",
       "    </tr>\n",
       "    <tr>\n",
       "      <th>2</th>\n",
       "      <td>41060</td>\n",
       "      <td>Quiz 2</td>\n",
       "      <td>51</td>\n",
       "      <td>3.0</td>\n",
       "      <td>54.0</td>\n",
       "      <td>94</td>\n",
       "    </tr>\n",
       "    <tr>\n",
       "      <th>3</th>\n",
       "      <td>41060</td>\n",
       "      <td>Test 2</td>\n",
       "      <td>53</td>\n",
       "      <td>10.0</td>\n",
       "      <td>53.0</td>\n",
       "      <td>86</td>\n",
       "    </tr>\n",
       "    <tr>\n",
       "      <th>4</th>\n",
       "      <td>41060</td>\n",
       "      <td>Quiz 3</td>\n",
       "      <td>79</td>\n",
       "      <td>3.0</td>\n",
       "      <td>81.0</td>\n",
       "      <td>94</td>\n",
       "    </tr>\n",
       "    <tr>\n",
       "      <th>...</th>\n",
       "      <td>...</td>\n",
       "      <td>...</td>\n",
       "      <td>...</td>\n",
       "      <td>...</td>\n",
       "      <td>...</td>\n",
       "      <td>...</td>\n",
       "    </tr>\n",
       "    <tr>\n",
       "      <th>11377</th>\n",
       "      <td>2694933</td>\n",
       "      <td>Test 5</td>\n",
       "      <td>151</td>\n",
       "      <td>15.0</td>\n",
       "      <td>158.0</td>\n",
       "      <td>69</td>\n",
       "    </tr>\n",
       "    <tr>\n",
       "      <th>11378</th>\n",
       "      <td>2694933</td>\n",
       "      <td>Quiz 6</td>\n",
       "      <td>170</td>\n",
       "      <td>3.0</td>\n",
       "      <td>173.0</td>\n",
       "      <td>75</td>\n",
       "    </tr>\n",
       "    <tr>\n",
       "      <th>11379</th>\n",
       "      <td>2694933</td>\n",
       "      <td>Test 6</td>\n",
       "      <td>200</td>\n",
       "      <td>15.0</td>\n",
       "      <td>200.0</td>\n",
       "      <td>72</td>\n",
       "    </tr>\n",
       "    <tr>\n",
       "      <th>11380</th>\n",
       "      <td>2694933</td>\n",
       "      <td>Quiz 7</td>\n",
       "      <td>206</td>\n",
       "      <td>6.0</td>\n",
       "      <td>209.0</td>\n",
       "      <td>63</td>\n",
       "    </tr>\n",
       "    <tr>\n",
       "      <th>11381</th>\n",
       "      <td>2694933</td>\n",
       "      <td>Final Exam</td>\n",
       "      <td>240</td>\n",
       "      <td>100.0</td>\n",
       "      <td>230.0</td>\n",
       "      <td>73</td>\n",
       "    </tr>\n",
       "  </tbody>\n",
       "</table>\n",
       "<p>11382 rows × 6 columns</p>\n",
       "</div>"
      ],
      "text/plain": [
       "       id_student assignment_name  due_date  weight  date_submitted  score\n",
       "0           41060          Quiz 1        23     2.0            25.0     77\n",
       "1           41060          Test 1        25     7.5            24.0     85\n",
       "2           41060          Quiz 2        51     3.0            54.0     94\n",
       "3           41060          Test 2        53    10.0            53.0     86\n",
       "4           41060          Quiz 3        79     3.0            81.0     94\n",
       "...           ...             ...       ...     ...             ...    ...\n",
       "11377     2694933          Test 5       151    15.0           158.0     69\n",
       "11378     2694933          Quiz 6       170     3.0           173.0     75\n",
       "11379     2694933          Test 6       200    15.0           200.0     72\n",
       "11380     2694933          Quiz 7       206     6.0           209.0     63\n",
       "11381     2694933      Final Exam       240   100.0           230.0     73\n",
       "\n",
       "[11382 rows x 6 columns]"
      ]
     },
     "execution_count": 19,
     "metadata": {},
     "output_type": "execute_result"
    }
   ],
   "source": [
    "## Your code with comments\n",
    "# YOUR CODE HERE\n",
    "qt"
   ]
  },
  {
   "cell_type": "code",
   "execution_count": 20,
   "metadata": {},
   "outputs": [
    {
     "data": {
      "text/html": [
       "<div>\n",
       "<style scoped>\n",
       "    .dataframe tbody tr th:only-of-type {\n",
       "        vertical-align: middle;\n",
       "    }\n",
       "\n",
       "    .dataframe tbody tr th {\n",
       "        vertical-align: top;\n",
       "    }\n",
       "\n",
       "    .dataframe thead th {\n",
       "        text-align: right;\n",
       "    }\n",
       "</style>\n",
       "<table border=\"1\" class=\"dataframe\">\n",
       "  <thead>\n",
       "    <tr style=\"text-align: right;\">\n",
       "      <th></th>\n",
       "      <th>id_student</th>\n",
       "      <th>assignment_name</th>\n",
       "      <th>due_date</th>\n",
       "      <th>weight</th>\n",
       "      <th>date_submitted</th>\n",
       "      <th>score</th>\n",
       "    </tr>\n",
       "  </thead>\n",
       "  <tbody>\n",
       "    <tr>\n",
       "      <th>11</th>\n",
       "      <td>41060</td>\n",
       "      <td>Test 6</td>\n",
       "      <td>200</td>\n",
       "      <td>15.0</td>\n",
       "      <td>NaN</td>\n",
       "      <td>0</td>\n",
       "    </tr>\n",
       "    <tr>\n",
       "      <th>12</th>\n",
       "      <td>41060</td>\n",
       "      <td>Quiz 7</td>\n",
       "      <td>206</td>\n",
       "      <td>6.0</td>\n",
       "      <td>NaN</td>\n",
       "      <td>0</td>\n",
       "    </tr>\n",
       "    <tr>\n",
       "      <th>13</th>\n",
       "      <td>41060</td>\n",
       "      <td>Final Exam</td>\n",
       "      <td>240</td>\n",
       "      <td>100.0</td>\n",
       "      <td>NaN</td>\n",
       "      <td>0</td>\n",
       "    </tr>\n",
       "    <tr>\n",
       "      <th>16</th>\n",
       "      <td>45664</td>\n",
       "      <td>Quiz 2</td>\n",
       "      <td>51</td>\n",
       "      <td>3.0</td>\n",
       "      <td>NaN</td>\n",
       "      <td>0</td>\n",
       "    </tr>\n",
       "    <tr>\n",
       "      <th>38</th>\n",
       "      <td>52014</td>\n",
       "      <td>Quiz 6</td>\n",
       "      <td>170</td>\n",
       "      <td>3.0</td>\n",
       "      <td>NaN</td>\n",
       "      <td>0</td>\n",
       "    </tr>\n",
       "    <tr>\n",
       "      <th>...</th>\n",
       "      <td>...</td>\n",
       "      <td>...</td>\n",
       "      <td>...</td>\n",
       "      <td>...</td>\n",
       "      <td>...</td>\n",
       "      <td>...</td>\n",
       "    </tr>\n",
       "    <tr>\n",
       "      <th>11348</th>\n",
       "      <td>2689536</td>\n",
       "      <td>Quiz 5</td>\n",
       "      <td>149</td>\n",
       "      <td>4.0</td>\n",
       "      <td>NaN</td>\n",
       "      <td>0</td>\n",
       "    </tr>\n",
       "    <tr>\n",
       "      <th>11349</th>\n",
       "      <td>2689536</td>\n",
       "      <td>Test 5</td>\n",
       "      <td>151</td>\n",
       "      <td>15.0</td>\n",
       "      <td>NaN</td>\n",
       "      <td>0</td>\n",
       "    </tr>\n",
       "    <tr>\n",
       "      <th>11350</th>\n",
       "      <td>2689536</td>\n",
       "      <td>Quiz 6</td>\n",
       "      <td>170</td>\n",
       "      <td>3.0</td>\n",
       "      <td>NaN</td>\n",
       "      <td>0</td>\n",
       "    </tr>\n",
       "    <tr>\n",
       "      <th>11351</th>\n",
       "      <td>2689536</td>\n",
       "      <td>Test 6</td>\n",
       "      <td>200</td>\n",
       "      <td>15.0</td>\n",
       "      <td>NaN</td>\n",
       "      <td>0</td>\n",
       "    </tr>\n",
       "    <tr>\n",
       "      <th>11352</th>\n",
       "      <td>2689536</td>\n",
       "      <td>Quiz 7</td>\n",
       "      <td>206</td>\n",
       "      <td>6.0</td>\n",
       "      <td>NaN</td>\n",
       "      <td>0</td>\n",
       "    </tr>\n",
       "  </tbody>\n",
       "</table>\n",
       "<p>2202 rows × 6 columns</p>\n",
       "</div>"
      ],
      "text/plain": [
       "       id_student assignment_name  due_date  weight  date_submitted  score\n",
       "11          41060          Test 6       200    15.0             NaN      0\n",
       "12          41060          Quiz 7       206     6.0             NaN      0\n",
       "13          41060      Final Exam       240   100.0             NaN      0\n",
       "16          45664          Quiz 2        51     3.0             NaN      0\n",
       "38          52014          Quiz 6       170     3.0             NaN      0\n",
       "...           ...             ...       ...     ...             ...    ...\n",
       "11348     2689536          Quiz 5       149     4.0             NaN      0\n",
       "11349     2689536          Test 5       151    15.0             NaN      0\n",
       "11350     2689536          Quiz 6       170     3.0             NaN      0\n",
       "11351     2689536          Test 6       200    15.0             NaN      0\n",
       "11352     2689536          Quiz 7       206     6.0             NaN      0\n",
       "\n",
       "[2202 rows x 6 columns]"
      ]
     },
     "execution_count": 20,
     "metadata": {},
     "output_type": "execute_result"
    }
   ],
   "source": [
    "incomplete_filter = qt[qt['date_submitted'].isnull()]\n",
    "incomplete_filter"
   ]
  },
  {
   "cell_type": "code",
   "execution_count": 21,
   "metadata": {},
   "outputs": [
    {
     "data": {
      "text/plain": [
       "array(['Test 6', 'Quiz 7', 'Final Exam', 'Quiz 2', 'Quiz 6', 'Test 4',\n",
       "       'Quiz 3', 'Test 3', 'Quiz 4', 'Quiz 5', 'Test 5', 'Test 2',\n",
       "       'Quiz 1', 'Test 1'], dtype=object)"
      ]
     },
     "execution_count": 21,
     "metadata": {},
     "output_type": "execute_result"
    }
   ],
   "source": [
    "unique = incomplete_filter['assignment_name'].unique()\n",
    "unique"
   ]
  },
  {
   "cell_type": "code",
   "execution_count": 22,
   "metadata": {},
   "outputs": [
    {
     "data": {
      "text/plain": [
       "319"
      ]
     },
     "execution_count": 22,
     "metadata": {},
     "output_type": "execute_result"
    }
   ],
   "source": [
    "#Determine the number of incompletes for Test 6\n",
    "test_6_incomp_filter = incomplete_filter[incomplete_filter['assignment_name']=='Test 6']\n",
    "len(test_6_incomp_filter)"
   ]
  },
  {
   "cell_type": "code",
   "execution_count": 23,
   "metadata": {},
   "outputs": [
    {
     "data": {
      "text/plain": [
       "813"
      ]
     },
     "execution_count": 23,
     "metadata": {},
     "output_type": "execute_result"
    }
   ],
   "source": [
    "#Calculate number of students who took Test 6\n",
    "test_6_filter = qt[qt['assignment_name']=='Test 6']\n",
    "len(test_6_filter)"
   ]
  },
  {
   "cell_type": "code",
   "execution_count": 24,
   "metadata": {},
   "outputs": [
    {
     "data": {
      "text/plain": [
       "61"
      ]
     },
     "execution_count": 24,
     "metadata": {},
     "output_type": "execute_result"
    }
   ],
   "source": [
    "#Calculate the percentage of completes for Test 6\n",
    "a = 813 - 319\n",
    "b = a/813\n",
    "T6_percentage = round(b*100)\n",
    "T6_percentage"
   ]
  },
  {
   "cell_type": "code",
   "execution_count": 25,
   "metadata": {},
   "outputs": [
    {
     "data": {
      "text/plain": [
       "304"
      ]
     },
     "execution_count": 25,
     "metadata": {},
     "output_type": "execute_result"
    }
   ],
   "source": [
    "#Determine the number of incompletes for Quiz 7\n",
    "quiz_7_incomp_filter = incomplete_filter[incomplete_filter['assignment_name']=='Quiz 7']\n",
    "len(quiz_7_incomp_filter)"
   ]
  },
  {
   "cell_type": "code",
   "execution_count": 26,
   "metadata": {},
   "outputs": [
    {
     "data": {
      "text/plain": [
       "813"
      ]
     },
     "execution_count": 26,
     "metadata": {},
     "output_type": "execute_result"
    }
   ],
   "source": [
    "#Calculate number of students who took Quiz 7\n",
    "quiz_7_filter = qt[qt['assignment_name']=='Quiz 7']\n",
    "len(quiz_7_filter)"
   ]
  },
  {
   "cell_type": "code",
   "execution_count": 27,
   "metadata": {},
   "outputs": [
    {
     "data": {
      "text/plain": [
       "63"
      ]
     },
     "execution_count": 27,
     "metadata": {},
     "output_type": "execute_result"
    }
   ],
   "source": [
    "#Calculate the percentage of completes for Quiz 7\n",
    "a = 813 - 304\n",
    "b = a/813\n",
    "Q7_percentage = round(b*100)\n",
    "Q7_percentage"
   ]
  },
  {
   "cell_type": "code",
   "execution_count": 28,
   "metadata": {},
   "outputs": [
    {
     "data": {
      "text/plain": [
       "211"
      ]
     },
     "execution_count": 28,
     "metadata": {},
     "output_type": "execute_result"
    }
   ],
   "source": [
    "#Determine the number of incompletes for Final Exam\n",
    "Final_Exam_incomp_filter = incomplete_filter[incomplete_filter['assignment_name']=='Final Exam']\n",
    "len(Final_Exam_incomp_filter)"
   ]
  },
  {
   "cell_type": "code",
   "execution_count": 29,
   "metadata": {},
   "outputs": [
    {
     "data": {
      "text/plain": [
       "813"
      ]
     },
     "execution_count": 29,
     "metadata": {},
     "output_type": "execute_result"
    }
   ],
   "source": [
    "#Calculate number of students who took Final Exam\n",
    "Final_Exam_filter = qt[qt['assignment_name']=='Final Exam']\n",
    "len(Final_Exam_filter)"
   ]
  },
  {
   "cell_type": "code",
   "execution_count": 30,
   "metadata": {},
   "outputs": [
    {
     "data": {
      "text/plain": [
       "74"
      ]
     },
     "execution_count": 30,
     "metadata": {},
     "output_type": "execute_result"
    }
   ],
   "source": [
    "#Calculate the percentage of completes for Final Exam\n",
    "a = 813 - 211\n",
    "b = a/813\n",
    "FE_percentage = round(b*100)\n",
    "FE_percentage"
   ]
  },
  {
   "cell_type": "code",
   "execution_count": 31,
   "metadata": {},
   "outputs": [
    {
     "data": {
      "text/plain": [
       "72"
      ]
     },
     "execution_count": 31,
     "metadata": {},
     "output_type": "execute_result"
    }
   ],
   "source": [
    "#Determine the number of incompletes for Quiz 2\n",
    "Quiz_2_incomp_filter = incomplete_filter[incomplete_filter['assignment_name']=='Quiz 2']\n",
    "len(Quiz_2_incomp_filter)"
   ]
  },
  {
   "cell_type": "code",
   "execution_count": 32,
   "metadata": {},
   "outputs": [
    {
     "data": {
      "text/plain": [
       "813"
      ]
     },
     "execution_count": 32,
     "metadata": {},
     "output_type": "execute_result"
    }
   ],
   "source": [
    "#Calculate number of students who took Quiz 2\n",
    "Quiz_2_filter = qt[qt['assignment_name']=='Quiz 2']\n",
    "len(Quiz_2_filter)"
   ]
  },
  {
   "cell_type": "code",
   "execution_count": 33,
   "metadata": {},
   "outputs": [
    {
     "data": {
      "text/plain": [
       "91"
      ]
     },
     "execution_count": 33,
     "metadata": {},
     "output_type": "execute_result"
    }
   ],
   "source": [
    "#Calculate the percentage of completes for Quiz 2\n",
    "a = 813 - 72\n",
    "b = a/813\n",
    "Q2_percentage = round(b*100)\n",
    "Q2_percentage"
   ]
  },
  {
   "cell_type": "code",
   "execution_count": 34,
   "metadata": {},
   "outputs": [
    {
     "data": {
      "text/plain": [
       "257"
      ]
     },
     "execution_count": 34,
     "metadata": {},
     "output_type": "execute_result"
    }
   ],
   "source": [
    "#Determine the number of incompletes for Quiz 6\n",
    "Quiz_6_incomp_filter = incomplete_filter[incomplete_filter['assignment_name']=='Quiz 6']\n",
    "len(Quiz_6_incomp_filter)"
   ]
  },
  {
   "cell_type": "code",
   "execution_count": 35,
   "metadata": {},
   "outputs": [
    {
     "data": {
      "text/plain": [
       "813"
      ]
     },
     "execution_count": 35,
     "metadata": {},
     "output_type": "execute_result"
    }
   ],
   "source": [
    "#Calculate number of students who took Quiz 6\n",
    "Quiz_6_filter = qt[qt['assignment_name']=='Quiz 6']\n",
    "len(Quiz_6_filter)"
   ]
  },
  {
   "cell_type": "code",
   "execution_count": 36,
   "metadata": {},
   "outputs": [
    {
     "data": {
      "text/plain": [
       "68"
      ]
     },
     "execution_count": 36,
     "metadata": {},
     "output_type": "execute_result"
    }
   ],
   "source": [
    "#Calculate the percentage of completes for Quiz 6\n",
    "a = 813 - 257\n",
    "b = a/813\n",
    "Q6_percentage = round(b*100)\n",
    "Q6_percentage"
   ]
  },
  {
   "cell_type": "code",
   "execution_count": 37,
   "metadata": {},
   "outputs": [
    {
     "data": {
      "text/plain": [
       "149"
      ]
     },
     "execution_count": 37,
     "metadata": {},
     "output_type": "execute_result"
    }
   ],
   "source": [
    "#Determine the number of incompletes for Test 4\n",
    "Test_4_incomp_filter = incomplete_filter[incomplete_filter['assignment_name']=='Test 4']\n",
    "len(Test_4_incomp_filter)"
   ]
  },
  {
   "cell_type": "code",
   "execution_count": 38,
   "metadata": {},
   "outputs": [
    {
     "data": {
      "text/plain": [
       "813"
      ]
     },
     "execution_count": 38,
     "metadata": {},
     "output_type": "execute_result"
    }
   ],
   "source": [
    "#Calculate number of students who took Test 4\n",
    "Test_4_filter = qt[qt['assignment_name']=='Test 4']\n",
    "len(Test_4_filter)"
   ]
  },
  {
   "cell_type": "code",
   "execution_count": 39,
   "metadata": {},
   "outputs": [
    {
     "data": {
      "text/plain": [
       "82"
      ]
     },
     "execution_count": 39,
     "metadata": {},
     "output_type": "execute_result"
    }
   ],
   "source": [
    "#Calculate the percentage of completes for Test 4\n",
    "a = 813 - 149\n",
    "b = a/813\n",
    "T4_percentage = round(b*100)\n",
    "T4_percentage"
   ]
  },
  {
   "cell_type": "code",
   "execution_count": 40,
   "metadata": {},
   "outputs": [
    {
     "data": {
      "text/plain": [
       "100"
      ]
     },
     "execution_count": 40,
     "metadata": {},
     "output_type": "execute_result"
    }
   ],
   "source": [
    "#Determine the number of incompletes for Quiz 3\n",
    "Quiz_3_incomp_filter = incomplete_filter[incomplete_filter['assignment_name']=='Quiz 3']\n",
    "len(Quiz_3_incomp_filter)"
   ]
  },
  {
   "cell_type": "code",
   "execution_count": 41,
   "metadata": {},
   "outputs": [
    {
     "data": {
      "text/plain": [
       "813"
      ]
     },
     "execution_count": 41,
     "metadata": {},
     "output_type": "execute_result"
    }
   ],
   "source": [
    "#Calculate number of students who took Quiz 3\n",
    "Quiz_3_filter = qt[qt['assignment_name']=='Quiz 3']\n",
    "len(Quiz_3_filter)"
   ]
  },
  {
   "cell_type": "code",
   "execution_count": 42,
   "metadata": {},
   "outputs": [
    {
     "data": {
      "text/plain": [
       "88"
      ]
     },
     "execution_count": 42,
     "metadata": {},
     "output_type": "execute_result"
    }
   ],
   "source": [
    "#Calculate the percentage of completes for Quiz 3\n",
    "a = 813 - 100\n",
    "b = a/813\n",
    "Q3_percentage = round(b*100)\n",
    "Q3_percentage"
   ]
  },
  {
   "cell_type": "code",
   "execution_count": 43,
   "metadata": {},
   "outputs": [
    {
     "data": {
      "text/plain": [
       "109"
      ]
     },
     "execution_count": 43,
     "metadata": {},
     "output_type": "execute_result"
    }
   ],
   "source": [
    "#Determine the number of incompletes for Test 3\n",
    "Test_3_incomp_filter = incomplete_filter[incomplete_filter['assignment_name']=='Test 3']\n",
    "len(Test_3_incomp_filter)"
   ]
  },
  {
   "cell_type": "code",
   "execution_count": 44,
   "metadata": {},
   "outputs": [
    {
     "data": {
      "text/plain": [
       "813"
      ]
     },
     "execution_count": 44,
     "metadata": {},
     "output_type": "execute_result"
    }
   ],
   "source": [
    "#Calculate number of students who took Test 3\n",
    "Test_3_filter = qt[qt['assignment_name']=='Test 3']\n",
    "len(Test_3_filter)"
   ]
  },
  {
   "cell_type": "code",
   "execution_count": 45,
   "metadata": {},
   "outputs": [
    {
     "data": {
      "text/plain": [
       "87"
      ]
     },
     "execution_count": 45,
     "metadata": {},
     "output_type": "execute_result"
    }
   ],
   "source": [
    "#Calculate the percentage of completes for Test 3\n",
    "a = 813 - 109\n",
    "b = a/813\n",
    "T3_percentage = round(b*100)\n",
    "T3_percentage"
   ]
  },
  {
   "cell_type": "code",
   "execution_count": 46,
   "metadata": {},
   "outputs": [
    {
     "data": {
      "text/plain": [
       "133"
      ]
     },
     "execution_count": 46,
     "metadata": {},
     "output_type": "execute_result"
    }
   ],
   "source": [
    "#Determine the number of incompletes for Quiz 4\n",
    "Quiz_4_incomp_filter = incomplete_filter[incomplete_filter['assignment_name']=='Quiz 4']\n",
    "len(Quiz_4_incomp_filter)"
   ]
  },
  {
   "cell_type": "code",
   "execution_count": 47,
   "metadata": {},
   "outputs": [
    {
     "data": {
      "text/plain": [
       "813"
      ]
     },
     "execution_count": 47,
     "metadata": {},
     "output_type": "execute_result"
    }
   ],
   "source": [
    "#Calculate number of students who took Quiz 4\n",
    "Quiz_4_filter = qt[qt['assignment_name']=='Quiz 4']\n",
    "len(Quiz_4_filter)"
   ]
  },
  {
   "cell_type": "code",
   "execution_count": 48,
   "metadata": {},
   "outputs": [
    {
     "data": {
      "text/plain": [
       "84"
      ]
     },
     "execution_count": 48,
     "metadata": {},
     "output_type": "execute_result"
    }
   ],
   "source": [
    "#Calculate the percentage of completes for Quiz 4\n",
    "a = 813 - 133\n",
    "b = a/813\n",
    "Q4_percentage = round(b*100)\n",
    "Q4_percentage"
   ]
  },
  {
   "cell_type": "code",
   "execution_count": 49,
   "metadata": {},
   "outputs": [
    {
     "data": {
      "text/plain": [
       "195"
      ]
     },
     "execution_count": 49,
     "metadata": {},
     "output_type": "execute_result"
    }
   ],
   "source": [
    "#Determine the number of incompletes for Quiz 5\n",
    "Quiz_5_incomp_filter = incomplete_filter[incomplete_filter['assignment_name']=='Quiz 5']\n",
    "len(Quiz_5_incomp_filter)"
   ]
  },
  {
   "cell_type": "code",
   "execution_count": 50,
   "metadata": {},
   "outputs": [
    {
     "data": {
      "text/plain": [
       "813"
      ]
     },
     "execution_count": 50,
     "metadata": {},
     "output_type": "execute_result"
    }
   ],
   "source": [
    "#Calculate number of students who took Quiz 5\n",
    "Quiz_5_filter = qt[qt['assignment_name']=='Quiz 5']\n",
    "len(Quiz_5_filter)"
   ]
  },
  {
   "cell_type": "code",
   "execution_count": 51,
   "metadata": {},
   "outputs": [
    {
     "data": {
      "text/plain": [
       "76"
      ]
     },
     "execution_count": 51,
     "metadata": {},
     "output_type": "execute_result"
    }
   ],
   "source": [
    "#Calculate the percentage of completes for Quiz 5\n",
    "a = 813 - 195\n",
    "b = a/813\n",
    "Q5_percentage = round(b*100)\n",
    "Q5_percentage"
   ]
  },
  {
   "cell_type": "code",
   "execution_count": 52,
   "metadata": {},
   "outputs": [
    {
     "data": {
      "text/plain": [
       "223"
      ]
     },
     "execution_count": 52,
     "metadata": {},
     "output_type": "execute_result"
    }
   ],
   "source": [
    "#Determine the number of incompletes for Test 5\n",
    "Test_5_incomp_filter = incomplete_filter[incomplete_filter['assignment_name']=='Test 5']\n",
    "len(Test_5_incomp_filter)"
   ]
  },
  {
   "cell_type": "code",
   "execution_count": 53,
   "metadata": {},
   "outputs": [
    {
     "data": {
      "text/plain": [
       "813"
      ]
     },
     "execution_count": 53,
     "metadata": {},
     "output_type": "execute_result"
    }
   ],
   "source": [
    "#Calculate number of students who took Test 5\n",
    "Test_5_filter = qt[qt['assignment_name']=='Test 5']\n",
    "len(Test_5_filter)"
   ]
  },
  {
   "cell_type": "code",
   "execution_count": 54,
   "metadata": {},
   "outputs": [
    {
     "data": {
      "text/plain": [
       "73"
      ]
     },
     "execution_count": 54,
     "metadata": {},
     "output_type": "execute_result"
    }
   ],
   "source": [
    "#Calculate the percentage of completes for Test 5\n",
    "a = 813 - 223\n",
    "b = a/813\n",
    "T5_percentage = round(b*100)\n",
    "T5_percentage"
   ]
  },
  {
   "cell_type": "code",
   "execution_count": 55,
   "metadata": {},
   "outputs": [
    {
     "data": {
      "text/plain": [
       "74"
      ]
     },
     "execution_count": 55,
     "metadata": {},
     "output_type": "execute_result"
    }
   ],
   "source": [
    "#Determine the number of incompletes for Test 2\n",
    "Test_2_incomp_filter = incomplete_filter[incomplete_filter['assignment_name']=='Test 2']\n",
    "len(Test_2_incomp_filter)"
   ]
  },
  {
   "cell_type": "code",
   "execution_count": 56,
   "metadata": {},
   "outputs": [
    {
     "data": {
      "text/plain": [
       "813"
      ]
     },
     "execution_count": 56,
     "metadata": {},
     "output_type": "execute_result"
    }
   ],
   "source": [
    "#Calculate number of students who took Test 2\n",
    "Test_2_filter = qt[qt['assignment_name']=='Test 2']\n",
    "len(Test_2_filter)"
   ]
  },
  {
   "cell_type": "code",
   "execution_count": 57,
   "metadata": {},
   "outputs": [
    {
     "data": {
      "text/plain": [
       "91"
      ]
     },
     "execution_count": 57,
     "metadata": {},
     "output_type": "execute_result"
    }
   ],
   "source": [
    "#Calculate the percentage of completes for Test 2\n",
    "a = 813 - 74\n",
    "b = a/813\n",
    "T2_percentage = round(b*100)\n",
    "T2_percentage"
   ]
  },
  {
   "cell_type": "code",
   "execution_count": 58,
   "metadata": {},
   "outputs": [
    {
     "data": {
      "text/plain": [
       "31"
      ]
     },
     "execution_count": 58,
     "metadata": {},
     "output_type": "execute_result"
    }
   ],
   "source": [
    "#Determine the number of incompletes for Quiz 1\n",
    "Quiz_1_incomp_filter = incomplete_filter[incomplete_filter['assignment_name']=='Quiz 1']\n",
    "len(Quiz_1_incomp_filter)"
   ]
  },
  {
   "cell_type": "code",
   "execution_count": 59,
   "metadata": {},
   "outputs": [
    {
     "data": {
      "text/plain": [
       "813"
      ]
     },
     "execution_count": 59,
     "metadata": {},
     "output_type": "execute_result"
    }
   ],
   "source": [
    "#Calculate number of students who took Quiz 1\n",
    "Quiz_1_filter = qt[qt['assignment_name']=='Quiz 1']\n",
    "len(Quiz_1_filter)"
   ]
  },
  {
   "cell_type": "code",
   "execution_count": 60,
   "metadata": {},
   "outputs": [
    {
     "data": {
      "text/plain": [
       "96"
      ]
     },
     "execution_count": 60,
     "metadata": {},
     "output_type": "execute_result"
    }
   ],
   "source": [
    "#Calculate the percentage of completes for Quiz 1\n",
    "a = 813 - 31\n",
    "b = a/813\n",
    "Q1_percentage = round(b*100)\n",
    "Q1_percentage"
   ]
  },
  {
   "cell_type": "code",
   "execution_count": 61,
   "metadata": {},
   "outputs": [
    {
     "data": {
      "text/plain": [
       "25"
      ]
     },
     "execution_count": 61,
     "metadata": {},
     "output_type": "execute_result"
    }
   ],
   "source": [
    "#Determine the number of incompletes for Test 1\n",
    "Test_1_incomp_filter = incomplete_filter[incomplete_filter['assignment_name']=='Test 1']\n",
    "len(Test_1_incomp_filter)"
   ]
  },
  {
   "cell_type": "code",
   "execution_count": 62,
   "metadata": {},
   "outputs": [
    {
     "data": {
      "text/plain": [
       "813"
      ]
     },
     "execution_count": 62,
     "metadata": {},
     "output_type": "execute_result"
    }
   ],
   "source": [
    "#Calculate number of students who took Test 1\n",
    "Test_1_filter = qt[qt['assignment_name']=='Test 1']\n",
    "len(Test_1_filter)"
   ]
  },
  {
   "cell_type": "code",
   "execution_count": 63,
   "metadata": {},
   "outputs": [
    {
     "data": {
      "text/plain": [
       "97"
      ]
     },
     "execution_count": 63,
     "metadata": {},
     "output_type": "execute_result"
    }
   ],
   "source": [
    "#Calculate the percentage of completes for Test 1\n",
    "a = 813 - 25\n",
    "b = a/813\n",
    "T1_percentage = round(b*100)\n",
    "T1_percentage"
   ]
  },
  {
   "cell_type": "code",
   "execution_count": 64,
   "metadata": {},
   "outputs": [
    {
     "data": {
      "text/html": [
       "<div>\n",
       "<style scoped>\n",
       "    .dataframe tbody tr th:only-of-type {\n",
       "        vertical-align: middle;\n",
       "    }\n",
       "\n",
       "    .dataframe tbody tr th {\n",
       "        vertical-align: top;\n",
       "    }\n",
       "\n",
       "    .dataframe thead th {\n",
       "        text-align: right;\n",
       "    }\n",
       "</style>\n",
       "<table border=\"1\" class=\"dataframe\">\n",
       "  <thead>\n",
       "    <tr style=\"text-align: right;\">\n",
       "      <th></th>\n",
       "      <th>assignment_name</th>\n",
       "      <th>percent_submitted</th>\n",
       "    </tr>\n",
       "  </thead>\n",
       "  <tbody>\n",
       "    <tr>\n",
       "      <th>0</th>\n",
       "      <td>Quiz 1</td>\n",
       "      <td>96</td>\n",
       "    </tr>\n",
       "    <tr>\n",
       "      <th>1</th>\n",
       "      <td>Quiz 2</td>\n",
       "      <td>91</td>\n",
       "    </tr>\n",
       "    <tr>\n",
       "      <th>2</th>\n",
       "      <td>Quiz 3</td>\n",
       "      <td>88</td>\n",
       "    </tr>\n",
       "    <tr>\n",
       "      <th>3</th>\n",
       "      <td>Quiz 4</td>\n",
       "      <td>84</td>\n",
       "    </tr>\n",
       "    <tr>\n",
       "      <th>4</th>\n",
       "      <td>Quiz 5</td>\n",
       "      <td>76</td>\n",
       "    </tr>\n",
       "    <tr>\n",
       "      <th>5</th>\n",
       "      <td>Quiz 6</td>\n",
       "      <td>68</td>\n",
       "    </tr>\n",
       "    <tr>\n",
       "      <th>6</th>\n",
       "      <td>Quiz 7</td>\n",
       "      <td>63</td>\n",
       "    </tr>\n",
       "    <tr>\n",
       "      <th>7</th>\n",
       "      <td>Test 1</td>\n",
       "      <td>97</td>\n",
       "    </tr>\n",
       "    <tr>\n",
       "      <th>8</th>\n",
       "      <td>Test 2</td>\n",
       "      <td>91</td>\n",
       "    </tr>\n",
       "    <tr>\n",
       "      <th>9</th>\n",
       "      <td>Test 3</td>\n",
       "      <td>87</td>\n",
       "    </tr>\n",
       "    <tr>\n",
       "      <th>10</th>\n",
       "      <td>Test 4</td>\n",
       "      <td>82</td>\n",
       "    </tr>\n",
       "    <tr>\n",
       "      <th>11</th>\n",
       "      <td>Test 5</td>\n",
       "      <td>73</td>\n",
       "    </tr>\n",
       "    <tr>\n",
       "      <th>12</th>\n",
       "      <td>Test 6</td>\n",
       "      <td>61</td>\n",
       "    </tr>\n",
       "    <tr>\n",
       "      <th>13</th>\n",
       "      <td>Final Exam</td>\n",
       "      <td>74</td>\n",
       "    </tr>\n",
       "  </tbody>\n",
       "</table>\n",
       "</div>"
      ],
      "text/plain": [
       "   assignment_name  percent_submitted\n",
       "0           Quiz 1                 96\n",
       "1           Quiz 2                 91\n",
       "2           Quiz 3                 88\n",
       "3           Quiz 4                 84\n",
       "4           Quiz 5                 76\n",
       "5           Quiz 6                 68\n",
       "6           Quiz 7                 63\n",
       "7           Test 1                 97\n",
       "8           Test 2                 91\n",
       "9           Test 3                 87\n",
       "10          Test 4                 82\n",
       "11          Test 5                 73\n",
       "12          Test 6                 61\n",
       "13      Final Exam                 74"
      ]
     },
     "execution_count": 64,
     "metadata": {},
     "output_type": "execute_result"
    }
   ],
   "source": [
    "d = {'assignment_name':['Quiz 1', 'Quiz 2', 'Quiz 3', 'Quiz 4', 'Quiz 5', 'Quiz 6', 'Quiz 7', 'Test 1', 'Test 2', 'Test 3', 'Test 4', 'Test 5', 'Test 6', 'Final Exam'], 'percent_submitted':[96, 91, 88, 84, 76, 68, 63, 97, 91, 87, 82, 73, 61, 74]}\n",
    "completed_assignments_df = pd.DataFrame(data=d)\n",
    "completed_assignments_df"
   ]
  },
  {
   "cell_type": "markdown",
   "metadata": {
    "deletable": false,
    "editable": false,
    "nbgrader": {
     "cell_type": "markdown",
     "checksum": "39900bbba2124903d5c6f5abf09bf672",
     "grade": false,
     "grade_id": "cell-503425d98a29e8f5",
     "locked": true,
     "schema_version": 3,
     "solution": false,
     "task": false
    }
   },
   "source": [
    "Using a similar organization as the table above, i.e., 1 row per assignment, calculate the median, mean, and standard deviation for each assignment `score`. We will do this twice. Once for all students and another for **only students who submitted an assignment**. The `score` column is \"0\" for students who did not turn in an assignment, i.e., `date_submitted` equals \"NaN\". Thus, for the first table, you will include students with “NaN in `date_submitted`, and for the second table, you will remove students with \"NaN\" before calculating median, mean, and standard deviation."
   ]
  },
  {
   "cell_type": "markdown",
   "metadata": {
    "deletable": false,
    "editable": false,
    "nbgrader": {
     "cell_type": "markdown",
     "checksum": "5097738c5a56549f1f032c4aaae724a0",
     "grade": false,
     "grade_id": "cell-1175830f481a4618",
     "locked": true,
     "schema_version": 3,
     "solution": false,
     "task": false
    }
   },
   "source": [
    "1.6. (2 points) Identify the median, mean, and standard deviation for each `assignment_name` for all students"
   ]
  },
  {
   "cell_type": "code",
   "execution_count": 65,
   "metadata": {
    "deletable": false,
    "nbgrader": {
     "cell_type": "code",
     "checksum": "257eccd7f20dc1fa6093e0c64f164a26",
     "grade": true,
     "grade_id": "cell-9972fd368ad738ac",
     "locked": false,
     "points": 0,
     "schema_version": 3,
     "solution": true,
     "task": false
    }
   },
   "outputs": [
    {
     "data": {
      "text/html": [
       "<div>\n",
       "<style scoped>\n",
       "    .dataframe tbody tr th:only-of-type {\n",
       "        vertical-align: middle;\n",
       "    }\n",
       "\n",
       "    .dataframe tbody tr th {\n",
       "        vertical-align: top;\n",
       "    }\n",
       "\n",
       "    .dataframe thead th {\n",
       "        text-align: right;\n",
       "    }\n",
       "</style>\n",
       "<table border=\"1\" class=\"dataframe\">\n",
       "  <thead>\n",
       "    <tr style=\"text-align: right;\">\n",
       "      <th></th>\n",
       "      <th>mean_test_1</th>\n",
       "      <th>median_test_1</th>\n",
       "      <th>sd_test_1</th>\n",
       "    </tr>\n",
       "    <tr>\n",
       "      <th>assignment_name</th>\n",
       "      <th></th>\n",
       "      <th></th>\n",
       "      <th></th>\n",
       "    </tr>\n",
       "  </thead>\n",
       "  <tbody>\n",
       "    <tr>\n",
       "      <th>Final Exam</th>\n",
       "      <td>41.73</td>\n",
       "      <td>47.0</td>\n",
       "      <td>28.80</td>\n",
       "    </tr>\n",
       "    <tr>\n",
       "      <th>Quiz 1</th>\n",
       "      <td>66.57</td>\n",
       "      <td>70.0</td>\n",
       "      <td>22.86</td>\n",
       "    </tr>\n",
       "    <tr>\n",
       "      <th>Quiz 2</th>\n",
       "      <td>75.22</td>\n",
       "      <td>83.0</td>\n",
       "      <td>27.88</td>\n",
       "    </tr>\n",
       "    <tr>\n",
       "      <th>Quiz 3</th>\n",
       "      <td>63.54</td>\n",
       "      <td>72.0</td>\n",
       "      <td>30.38</td>\n",
       "    </tr>\n",
       "    <tr>\n",
       "      <th>Quiz 4</th>\n",
       "      <td>61.41</td>\n",
       "      <td>72.0</td>\n",
       "      <td>32.36</td>\n",
       "    </tr>\n",
       "    <tr>\n",
       "      <th>Quiz 5</th>\n",
       "      <td>57.75</td>\n",
       "      <td>74.0</td>\n",
       "      <td>36.36</td>\n",
       "    </tr>\n",
       "    <tr>\n",
       "      <th>Quiz 6</th>\n",
       "      <td>48.21</td>\n",
       "      <td>61.0</td>\n",
       "      <td>36.63</td>\n",
       "    </tr>\n",
       "    <tr>\n",
       "      <th>Quiz 7</th>\n",
       "      <td>40.10</td>\n",
       "      <td>45.0</td>\n",
       "      <td>35.40</td>\n",
       "    </tr>\n",
       "    <tr>\n",
       "      <th>Test 1</th>\n",
       "      <td>71.08</td>\n",
       "      <td>76.0</td>\n",
       "      <td>20.02</td>\n",
       "    </tr>\n",
       "    <tr>\n",
       "      <th>Test 2</th>\n",
       "      <td>66.99</td>\n",
       "      <td>75.0</td>\n",
       "      <td>26.69</td>\n",
       "    </tr>\n",
       "    <tr>\n",
       "      <th>Test 3</th>\n",
       "      <td>67.55</td>\n",
       "      <td>80.0</td>\n",
       "      <td>31.51</td>\n",
       "    </tr>\n",
       "    <tr>\n",
       "      <th>Test 4</th>\n",
       "      <td>56.23</td>\n",
       "      <td>67.0</td>\n",
       "      <td>33.24</td>\n",
       "    </tr>\n",
       "    <tr>\n",
       "      <th>Test 5</th>\n",
       "      <td>47.73</td>\n",
       "      <td>58.0</td>\n",
       "      <td>34.17</td>\n",
       "    </tr>\n",
       "    <tr>\n",
       "      <th>Test 6</th>\n",
       "      <td>36.35</td>\n",
       "      <td>35.0</td>\n",
       "      <td>34.21</td>\n",
       "    </tr>\n",
       "  </tbody>\n",
       "</table>\n",
       "</div>"
      ],
      "text/plain": [
       "                 mean_test_1  median_test_1  sd_test_1\n",
       "assignment_name                                       \n",
       "Final Exam             41.73           47.0      28.80\n",
       "Quiz 1                 66.57           70.0      22.86\n",
       "Quiz 2                 75.22           83.0      27.88\n",
       "Quiz 3                 63.54           72.0      30.38\n",
       "Quiz 4                 61.41           72.0      32.36\n",
       "Quiz 5                 57.75           74.0      36.36\n",
       "Quiz 6                 48.21           61.0      36.63\n",
       "Quiz 7                 40.10           45.0      35.40\n",
       "Test 1                 71.08           76.0      20.02\n",
       "Test 2                 66.99           75.0      26.69\n",
       "Test 3                 67.55           80.0      31.51\n",
       "Test 4                 56.23           67.0      33.24\n",
       "Test 5                 47.73           58.0      34.17\n",
       "Test 6                 36.35           35.0      34.21"
      ]
     },
     "execution_count": 65,
     "metadata": {},
     "output_type": "execute_result"
    }
   ],
   "source": [
    "## Your code with comments\n",
    "# YOUR CODE HERE\n",
    "test_1_score_filter = qt.groupby(['assignment_name'])['score']\n",
    "mean_test_1 = test_1_score_filter.mean()\n",
    "mean_test_1 = round(mean_test_1, 2)\n",
    "median_test_1 = test_1_score_filter.median()\n",
    "sd_test_1 = test_1_score_filter.std()\n",
    "sd_test_1 = round(sd_test_1, 2)\n",
    "all_student_calcs = {'mean_test_1': mean_test_1, 'median_test_1': median_test_1, 'sd_test_1': sd_test_1}\n",
    "all_student_calcs_df = pd.DataFrame(all_student_calcs)\n",
    "all_student_calcs_df"
   ]
  },
  {
   "cell_type": "markdown",
   "metadata": {
    "deletable": false,
    "editable": false,
    "nbgrader": {
     "cell_type": "markdown",
     "checksum": "265c51fce137efe53df90c54103c6d33",
     "grade": false,
     "grade_id": "cell-e97a943c954141c8",
     "locked": true,
     "schema_version": 3,
     "solution": false,
     "task": false
    }
   },
   "source": [
    "1.7. (2 points) Identify the median, mean, and standard deviation for each `assignment_name` for **only submitted** assignments"
   ]
  },
  {
   "cell_type": "code",
   "execution_count": 66,
   "metadata": {
    "deletable": false,
    "nbgrader": {
     "cell_type": "code",
     "checksum": "add54e852b00fc4cb7935a4f9605492a",
     "grade": true,
     "grade_id": "cell-7e3c6827eee08b7b",
     "locked": false,
     "points": 0,
     "schema_version": 3,
     "solution": true,
     "task": false
    }
   },
   "outputs": [
    {
     "data": {
      "text/html": [
       "<div>\n",
       "<style scoped>\n",
       "    .dataframe tbody tr th:only-of-type {\n",
       "        vertical-align: middle;\n",
       "    }\n",
       "\n",
       "    .dataframe tbody tr th {\n",
       "        vertical-align: top;\n",
       "    }\n",
       "\n",
       "    .dataframe thead th {\n",
       "        text-align: right;\n",
       "    }\n",
       "</style>\n",
       "<table border=\"1\" class=\"dataframe\">\n",
       "  <thead>\n",
       "    <tr style=\"text-align: right;\">\n",
       "      <th></th>\n",
       "      <th>mean_test_1</th>\n",
       "      <th>median_test_1</th>\n",
       "      <th>sd_test_1</th>\n",
       "    </tr>\n",
       "    <tr>\n",
       "      <th>assignment_name</th>\n",
       "      <th></th>\n",
       "      <th></th>\n",
       "      <th></th>\n",
       "    </tr>\n",
       "  </thead>\n",
       "  <tbody>\n",
       "    <tr>\n",
       "      <th>Final Exam</th>\n",
       "      <td>56.35</td>\n",
       "      <td>56.0</td>\n",
       "      <td>17.19</td>\n",
       "    </tr>\n",
       "    <tr>\n",
       "      <th>Quiz 1</th>\n",
       "      <td>69.21</td>\n",
       "      <td>70.0</td>\n",
       "      <td>18.99</td>\n",
       "    </tr>\n",
       "    <tr>\n",
       "      <th>Quiz 2</th>\n",
       "      <td>82.53</td>\n",
       "      <td>86.0</td>\n",
       "      <td>15.77</td>\n",
       "    </tr>\n",
       "    <tr>\n",
       "      <th>Quiz 3</th>\n",
       "      <td>72.45</td>\n",
       "      <td>75.0</td>\n",
       "      <td>20.16</td>\n",
       "    </tr>\n",
       "    <tr>\n",
       "      <th>Quiz 4</th>\n",
       "      <td>73.42</td>\n",
       "      <td>78.0</td>\n",
       "      <td>19.21</td>\n",
       "    </tr>\n",
       "    <tr>\n",
       "      <th>Quiz 5</th>\n",
       "      <td>75.97</td>\n",
       "      <td>81.0</td>\n",
       "      <td>18.80</td>\n",
       "    </tr>\n",
       "    <tr>\n",
       "      <th>Quiz 6</th>\n",
       "      <td>70.50</td>\n",
       "      <td>73.5</td>\n",
       "      <td>19.74</td>\n",
       "    </tr>\n",
       "    <tr>\n",
       "      <th>Quiz 7</th>\n",
       "      <td>64.05</td>\n",
       "      <td>68.0</td>\n",
       "      <td>21.59</td>\n",
       "    </tr>\n",
       "    <tr>\n",
       "      <th>Test 1</th>\n",
       "      <td>73.34</td>\n",
       "      <td>77.0</td>\n",
       "      <td>15.74</td>\n",
       "    </tr>\n",
       "    <tr>\n",
       "      <th>Test 2</th>\n",
       "      <td>73.70</td>\n",
       "      <td>77.0</td>\n",
       "      <td>16.99</td>\n",
       "    </tr>\n",
       "    <tr>\n",
       "      <th>Test 3</th>\n",
       "      <td>78.01</td>\n",
       "      <td>84.0</td>\n",
       "      <td>18.15</td>\n",
       "    </tr>\n",
       "    <tr>\n",
       "      <th>Test 4</th>\n",
       "      <td>68.84</td>\n",
       "      <td>74.0</td>\n",
       "      <td>21.98</td>\n",
       "    </tr>\n",
       "    <tr>\n",
       "      <th>Test 5</th>\n",
       "      <td>65.78</td>\n",
       "      <td>69.0</td>\n",
       "      <td>20.51</td>\n",
       "    </tr>\n",
       "    <tr>\n",
       "      <th>Test 6</th>\n",
       "      <td>59.83</td>\n",
       "      <td>65.0</td>\n",
       "      <td>22.81</td>\n",
       "    </tr>\n",
       "  </tbody>\n",
       "</table>\n",
       "</div>"
      ],
      "text/plain": [
       "                 mean_test_1  median_test_1  sd_test_1\n",
       "assignment_name                                       \n",
       "Final Exam             56.35           56.0      17.19\n",
       "Quiz 1                 69.21           70.0      18.99\n",
       "Quiz 2                 82.53           86.0      15.77\n",
       "Quiz 3                 72.45           75.0      20.16\n",
       "Quiz 4                 73.42           78.0      19.21\n",
       "Quiz 5                 75.97           81.0      18.80\n",
       "Quiz 6                 70.50           73.5      19.74\n",
       "Quiz 7                 64.05           68.0      21.59\n",
       "Test 1                 73.34           77.0      15.74\n",
       "Test 2                 73.70           77.0      16.99\n",
       "Test 3                 78.01           84.0      18.15\n",
       "Test 4                 68.84           74.0      21.98\n",
       "Test 5                 65.78           69.0      20.51\n",
       "Test 6                 59.83           65.0      22.81"
      ]
     },
     "execution_count": 66,
     "metadata": {},
     "output_type": "execute_result"
    }
   ],
   "source": [
    "## Your code with comments\n",
    "# YOUR CODE HERE\n",
    "qt = qt.dropna()\n",
    "test_1_score_filter = qt.groupby(['assignment_name'])['score']\n",
    "mean_test_1 = test_1_score_filter.mean()\n",
    "mean_test_1 = round(mean_test_1, 2)\n",
    "median_test_1 = test_1_score_filter.median()\n",
    "sd_test_1 = test_1_score_filter.std()\n",
    "sd_test_1 = round(sd_test_1, 2)\n",
    "submitted_calcs = {'mean_test_1': mean_test_1, 'median_test_1': median_test_1, 'sd_test_1': sd_test_1}\n",
    "submitted_calcs_df = pd.DataFrame(submitted_calcs)\n",
    "submitted_calcs_df"
   ]
  },
  {
   "cell_type": "markdown",
   "metadata": {
    "deletable": false,
    "editable": false,
    "id": "AQVZ6EMcaf4n",
    "nbgrader": {
     "cell_type": "markdown",
     "checksum": "8dcad812433deff43428b25c2166f944",
     "grade": false,
     "grade_id": "cell-6b974e7669ec6793",
     "locked": true,
     "schema_version": 3,
     "solution": false,
     "task": false
    }
   },
   "source": [
    "## Learning resources"
   ]
  },
  {
   "cell_type": "markdown",
   "metadata": {
    "deletable": false,
    "editable": false,
    "nbgrader": {
     "cell_type": "markdown",
     "checksum": "e3f45c68bef3b2fe12478ef7764aa892",
     "grade": false,
     "grade_id": "cell-a4cb062e1620787c",
     "locked": true,
     "schema_version": 3,
     "solution": false,
     "task": false
    }
   },
   "source": [
    "The `learning_resources.csv` file is the largest yet perhaps most equivocal dataset that we will work with. For these first manipulations, we will look at the top 10 most accessed resources and then students' total activity by `date`."
   ]
  },
  {
   "cell_type": "markdown",
   "metadata": {
    "deletable": false,
    "editable": false,
    "nbgrader": {
     "cell_type": "markdown",
     "checksum": "c5fc8f6f61b6fbff7c029e875ddef229",
     "grade": false,
     "grade_id": "cell-6a6a0b7b1059420d",
     "locked": true,
     "schema_version": 3,
     "solution": false,
     "task": false
    }
   },
   "source": [
    "To generate the top 10 list, we will use `groupby` across the entire dataset by `activity_type` and `activity_id`. The reason we need to use both columns in our `groupby` is that `activity_id` names the specific learning resource within an `activity_type`. For top 10 most accessed list, we will sum the `sum_click` column."
   ]
  },
  {
   "cell_type": "markdown",
   "metadata": {
    "deletable": false,
    "editable": false,
    "nbgrader": {
     "cell_type": "markdown",
     "checksum": "7506b7bb6140168e8862e38a6fbdfce3",
     "grade": false,
     "grade_id": "cell-89889b58f1777d90",
     "locked": true,
     "schema_version": 3,
     "solution": false,
     "task": false
    }
   },
   "source": [
    "1.8. (2 points) Identify the top 10 most accessed learning resources by summing `sum_clicks`, grouped by `activity_type` and `activity_id`"
   ]
  },
  {
   "cell_type": "code",
   "execution_count": 67,
   "metadata": {},
   "outputs": [
    {
     "data": {
      "text/html": [
       "<div>\n",
       "<style scoped>\n",
       "    .dataframe tbody tr th:only-of-type {\n",
       "        vertical-align: middle;\n",
       "    }\n",
       "\n",
       "    .dataframe tbody tr th {\n",
       "        vertical-align: top;\n",
       "    }\n",
       "\n",
       "    .dataframe thead th {\n",
       "        text-align: right;\n",
       "    }\n",
       "</style>\n",
       "<table border=\"1\" class=\"dataframe\">\n",
       "  <thead>\n",
       "    <tr style=\"text-align: right;\">\n",
       "      <th></th>\n",
       "      <th>id_student</th>\n",
       "      <th>activity_type</th>\n",
       "      <th>activity_id</th>\n",
       "      <th>date</th>\n",
       "      <th>sum_click</th>\n",
       "    </tr>\n",
       "  </thead>\n",
       "  <tbody>\n",
       "    <tr>\n",
       "      <th>0</th>\n",
       "      <td>420388</td>\n",
       "      <td>resource</td>\n",
       "      <td>219</td>\n",
       "      <td>0</td>\n",
       "      <td>1</td>\n",
       "    </tr>\n",
       "    <tr>\n",
       "      <th>1</th>\n",
       "      <td>420388</td>\n",
       "      <td>course_homepage</td>\n",
       "      <td>1</td>\n",
       "      <td>0</td>\n",
       "      <td>3</td>\n",
       "    </tr>\n",
       "    <tr>\n",
       "      <th>2</th>\n",
       "      <td>420388</td>\n",
       "      <td>course_page</td>\n",
       "      <td>87</td>\n",
       "      <td>0</td>\n",
       "      <td>1</td>\n",
       "    </tr>\n",
       "    <tr>\n",
       "      <th>3</th>\n",
       "      <td>420388</td>\n",
       "      <td>resource</td>\n",
       "      <td>229</td>\n",
       "      <td>0</td>\n",
       "      <td>2</td>\n",
       "    </tr>\n",
       "    <tr>\n",
       "      <th>4</th>\n",
       "      <td>420388</td>\n",
       "      <td>course_page</td>\n",
       "      <td>1</td>\n",
       "      <td>0</td>\n",
       "      <td>2</td>\n",
       "    </tr>\n",
       "    <tr>\n",
       "      <th>...</th>\n",
       "      <td>...</td>\n",
       "      <td>...</td>\n",
       "      <td>...</td>\n",
       "      <td>...</td>\n",
       "      <td>...</td>\n",
       "    </tr>\n",
       "    <tr>\n",
       "      <th>443331</th>\n",
       "      <td>536170</td>\n",
       "      <td>resource</td>\n",
       "      <td>135</td>\n",
       "      <td>240</td>\n",
       "      <td>2</td>\n",
       "    </tr>\n",
       "    <tr>\n",
       "      <th>443332</th>\n",
       "      <td>536926</td>\n",
       "      <td>course_homepage</td>\n",
       "      <td>1</td>\n",
       "      <td>240</td>\n",
       "      <td>1</td>\n",
       "    </tr>\n",
       "    <tr>\n",
       "      <th>443333</th>\n",
       "      <td>556295</td>\n",
       "      <td>course_homepage</td>\n",
       "      <td>1</td>\n",
       "      <td>240</td>\n",
       "      <td>3</td>\n",
       "    </tr>\n",
       "    <tr>\n",
       "      <th>443334</th>\n",
       "      <td>556780</td>\n",
       "      <td>course_homepage</td>\n",
       "      <td>1</td>\n",
       "      <td>240</td>\n",
       "      <td>1</td>\n",
       "    </tr>\n",
       "    <tr>\n",
       "      <th>443335</th>\n",
       "      <td>556918</td>\n",
       "      <td>course_homepage</td>\n",
       "      <td>1</td>\n",
       "      <td>240</td>\n",
       "      <td>2</td>\n",
       "    </tr>\n",
       "  </tbody>\n",
       "</table>\n",
       "<p>443336 rows × 5 columns</p>\n",
       "</div>"
      ],
      "text/plain": [
       "        id_student    activity_type  activity_id  date  sum_click\n",
       "0           420388         resource          219     0          1\n",
       "1           420388  course_homepage            1     0          3\n",
       "2           420388      course_page           87     0          1\n",
       "3           420388         resource          229     0          2\n",
       "4           420388      course_page            1     0          2\n",
       "...            ...              ...          ...   ...        ...\n",
       "443331      536170         resource          135   240          2\n",
       "443332      536926  course_homepage            1   240          1\n",
       "443333      556295  course_homepage            1   240          3\n",
       "443334      556780  course_homepage            1   240          1\n",
       "443335      556918  course_homepage            1   240          2\n",
       "\n",
       "[443336 rows x 5 columns]"
      ]
     },
     "execution_count": 67,
     "metadata": {},
     "output_type": "execute_result"
    }
   ],
   "source": [
    "lr"
   ]
  },
  {
   "cell_type": "code",
   "execution_count": 68,
   "metadata": {},
   "outputs": [
    {
     "data": {
      "text/plain": [
       "array(['resource', 'course_homepage', 'course_page', 'forum', 'wiki'],\n",
       "      dtype=object)"
      ]
     },
     "execution_count": 68,
     "metadata": {},
     "output_type": "execute_result"
    }
   ],
   "source": [
    "lr['activity_type'].unique()"
   ]
  },
  {
   "cell_type": "code",
   "execution_count": 69,
   "metadata": {
    "deletable": false,
    "nbgrader": {
     "cell_type": "code",
     "checksum": "46ba8766e6e2e468dd8a9710ad3b48f9",
     "grade": true,
     "grade_id": "cell-0cdd24148acefb12",
     "locked": false,
     "points": 0,
     "schema_version": 3,
     "solution": true,
     "task": false
    }
   },
   "outputs": [
    {
     "data": {
      "text/html": [
       "<div>\n",
       "<style scoped>\n",
       "    .dataframe tbody tr th:only-of-type {\n",
       "        vertical-align: middle;\n",
       "    }\n",
       "\n",
       "    .dataframe tbody tr th {\n",
       "        vertical-align: top;\n",
       "    }\n",
       "\n",
       "    .dataframe thead th {\n",
       "        text-align: right;\n",
       "    }\n",
       "</style>\n",
       "<table border=\"1\" class=\"dataframe\">\n",
       "  <thead>\n",
       "    <tr style=\"text-align: right;\">\n",
       "      <th></th>\n",
       "      <th>activity_type</th>\n",
       "      <th>activity_id</th>\n",
       "      <th>sum_click</th>\n",
       "    </tr>\n",
       "  </thead>\n",
       "  <tbody>\n",
       "    <tr>\n",
       "      <th>0</th>\n",
       "      <td>course_homepage</td>\n",
       "      <td>1</td>\n",
       "      <td>328573</td>\n",
       "    </tr>\n",
       "    <tr>\n",
       "      <th>124</th>\n",
       "      <td>forum</td>\n",
       "      <td>4</td>\n",
       "      <td>211088</td>\n",
       "    </tr>\n",
       "    <tr>\n",
       "      <th>394</th>\n",
       "      <td>wiki</td>\n",
       "      <td>7</td>\n",
       "      <td>45076</td>\n",
       "    </tr>\n",
       "    <tr>\n",
       "      <th>5</th>\n",
       "      <td>course_page</td>\n",
       "      <td>5</td>\n",
       "      <td>30820</td>\n",
       "    </tr>\n",
       "    <tr>\n",
       "      <th>393</th>\n",
       "      <td>wiki</td>\n",
       "      <td>6</td>\n",
       "      <td>27679</td>\n",
       "    </tr>\n",
       "    <tr>\n",
       "      <th>127</th>\n",
       "      <td>forum</td>\n",
       "      <td>7</td>\n",
       "      <td>25740</td>\n",
       "    </tr>\n",
       "    <tr>\n",
       "      <th>103</th>\n",
       "      <td>course_page</td>\n",
       "      <td>103</td>\n",
       "      <td>25285</td>\n",
       "    </tr>\n",
       "    <tr>\n",
       "      <th>2</th>\n",
       "      <td>course_page</td>\n",
       "      <td>2</td>\n",
       "      <td>23695</td>\n",
       "    </tr>\n",
       "    <tr>\n",
       "      <th>6</th>\n",
       "      <td>course_page</td>\n",
       "      <td>6</td>\n",
       "      <td>22991</td>\n",
       "    </tr>\n",
       "    <tr>\n",
       "      <th>7</th>\n",
       "      <td>course_page</td>\n",
       "      <td>7</td>\n",
       "      <td>22297</td>\n",
       "    </tr>\n",
       "  </tbody>\n",
       "</table>\n",
       "</div>"
      ],
      "text/plain": [
       "       activity_type  activity_id  sum_click\n",
       "0    course_homepage            1     328573\n",
       "124            forum            4     211088\n",
       "394             wiki            7      45076\n",
       "5        course_page            5      30820\n",
       "393             wiki            6      27679\n",
       "127            forum            7      25740\n",
       "103      course_page          103      25285\n",
       "2        course_page            2      23695\n",
       "6        course_page            6      22991\n",
       "7        course_page            7      22297"
      ]
     },
     "execution_count": 69,
     "metadata": {},
     "output_type": "execute_result"
    }
   ],
   "source": [
    "## Your code with comments\n",
    "# YOUR CODE HERE\n",
    "activity_group = lr.groupby(['activity_type','activity_id'])['sum_click'].sum()\n",
    "activity_group = pd.DataFrame(activity_group)\n",
    "activity_group = activity_group.reset_index()\n",
    "activity_group_sorted_by_sum_click = activity_group.sort_values('sum_click', ascending=False)\n",
    "top_10_sum_click = activity_group_sorted_by_sum_click.nlargest(n=10, columns=['sum_click'])\n",
    "top_10_sum_click"
   ]
  },
  {
   "cell_type": "markdown",
   "metadata": {
    "deletable": false,
    "editable": false,
    "nbgrader": {
     "cell_type": "markdown",
     "checksum": "8961dc96e0efb16423ae8bff917464fd",
     "grade": false,
     "grade_id": "cell-3add057f4580b2ba",
     "locked": true,
     "schema_version": 3,
     "solution": false,
     "task": false
    }
   },
   "source": [
    "Next, we want to see how many students are active each day. Using `learning_resources` create a data frame that represents the number of unique students who accessed any resource for each date and visualize it at as a line plot."
   ]
  },
  {
   "cell_type": "markdown",
   "metadata": {
    "deletable": false,
    "editable": false,
    "nbgrader": {
     "cell_type": "markdown",
     "checksum": "0239f6bd577d919c4ea5668cabfc35ff",
     "grade": false,
     "grade_id": "cell-39c246bd64c6e4ac",
     "locked": true,
     "schema_version": 3,
     "solution": false,
     "task": false
    }
   },
   "source": [
    "1.9. (2 points) Create a data frame that represents the **number of unique students** who accessed any resource for each date"
   ]
  },
  {
   "cell_type": "code",
   "execution_count": 70,
   "metadata": {
    "deletable": false,
    "nbgrader": {
     "cell_type": "code",
     "checksum": "5652e9510e2653f1e187009deb8ad05c",
     "grade": true,
     "grade_id": "cell-258466801528a439",
     "locked": false,
     "points": 0,
     "schema_version": 3,
     "solution": true,
     "task": false
    }
   },
   "outputs": [
    {
     "data": {
      "text/html": [
       "<div>\n",
       "<style scoped>\n",
       "    .dataframe tbody tr th:only-of-type {\n",
       "        vertical-align: middle;\n",
       "    }\n",
       "\n",
       "    .dataframe tbody tr th {\n",
       "        vertical-align: top;\n",
       "    }\n",
       "\n",
       "    .dataframe thead th {\n",
       "        text-align: right;\n",
       "    }\n",
       "</style>\n",
       "<table border=\"1\" class=\"dataframe\">\n",
       "  <thead>\n",
       "    <tr style=\"text-align: right;\">\n",
       "      <th></th>\n",
       "      <th>id_student</th>\n",
       "    </tr>\n",
       "    <tr>\n",
       "      <th>date</th>\n",
       "      <th></th>\n",
       "    </tr>\n",
       "  </thead>\n",
       "  <tbody>\n",
       "    <tr>\n",
       "      <th>0</th>\n",
       "      <td>752</td>\n",
       "    </tr>\n",
       "    <tr>\n",
       "      <th>1</th>\n",
       "      <td>360</td>\n",
       "    </tr>\n",
       "    <tr>\n",
       "      <th>2</th>\n",
       "      <td>434</td>\n",
       "    </tr>\n",
       "    <tr>\n",
       "      <th>3</th>\n",
       "      <td>445</td>\n",
       "    </tr>\n",
       "    <tr>\n",
       "      <th>4</th>\n",
       "      <td>394</td>\n",
       "    </tr>\n",
       "    <tr>\n",
       "      <th>...</th>\n",
       "      <td>...</td>\n",
       "    </tr>\n",
       "    <tr>\n",
       "      <th>236</th>\n",
       "      <td>129</td>\n",
       "    </tr>\n",
       "    <tr>\n",
       "      <th>237</th>\n",
       "      <td>93</td>\n",
       "    </tr>\n",
       "    <tr>\n",
       "      <th>238</th>\n",
       "      <td>60</td>\n",
       "    </tr>\n",
       "    <tr>\n",
       "      <th>239</th>\n",
       "      <td>80</td>\n",
       "    </tr>\n",
       "    <tr>\n",
       "      <th>240</th>\n",
       "      <td>109</td>\n",
       "    </tr>\n",
       "  </tbody>\n",
       "</table>\n",
       "<p>241 rows × 1 columns</p>\n",
       "</div>"
      ],
      "text/plain": [
       "      id_student\n",
       "date            \n",
       "0            752\n",
       "1            360\n",
       "2            434\n",
       "3            445\n",
       "4            394\n",
       "...          ...\n",
       "236          129\n",
       "237           93\n",
       "238           60\n",
       "239           80\n",
       "240          109\n",
       "\n",
       "[241 rows x 1 columns]"
      ]
     },
     "execution_count": 70,
     "metadata": {},
     "output_type": "execute_result"
    }
   ],
   "source": [
    "## Your code with comments\n",
    "# YOUR CODE HERE\n",
    "grouped = lr.groupby(['date'])['id_student'].nunique()\n",
    "grouped_df = pd.DataFrame(grouped)\n",
    "grouped_df"
   ]
  },
  {
   "cell_type": "markdown",
   "metadata": {
    "deletable": false,
    "editable": false,
    "nbgrader": {
     "cell_type": "markdown",
     "checksum": "5ab7c2c09e1f148ac3232798726ac849",
     "grade": false,
     "grade_id": "cell-5e1368a3882bcb35",
     "locked": true,
     "schema_version": 3,
     "solution": false,
     "task": false
    }
   },
   "source": [
    "1.10. (2 points) Visualize the data frame from 1.9 as a line plot"
   ]
  },
  {
   "cell_type": "code",
   "execution_count": 71,
   "metadata": {
    "deletable": false,
    "nbgrader": {
     "cell_type": "code",
     "checksum": "99bcaf3d402cf01ba3a41697d2feaf8d",
     "grade": true,
     "grade_id": "cell-a18265568bd11dff",
     "locked": false,
     "points": 0,
     "schema_version": 3,
     "solution": true,
     "task": false
    }
   },
   "outputs": [
    {
     "data": {
      "text/plain": [
       "[<matplotlib.lines.Line2D at 0x7fdec808cc70>]"
      ]
     },
     "execution_count": 71,
     "metadata": {},
     "output_type": "execute_result"
    },
    {
     "data": {
      "image/png": "[encoded data removed]",
      "text/plain": [
       "<Figure size 432x288 with 1 Axes>"
      ]
     },
     "metadata": {
      "needs_background": "light"
     },
     "output_type": "display_data"
    }
   ],
   "source": [
    "## Your code with comments\n",
    "# YOUR CODE HERE\n",
    "import matplotlib.pyplot as plt\n",
    "\n",
    "fig, ax = plt.subplots()\n",
    "#fig = plt.figure(figsize=(12,7))\n",
    "\n",
    "#date = grouped_df['date']\n",
    "#id_student = grouped_df['id_student']\n",
    "\n",
    "# Set common labels\n",
    "ax.set_xlabel('date')\n",
    "ax.set_ylabel('id_student')\n",
    "\n",
    "ax.set_title('Number of Unique Students Accessing Resources by Date')\n",
    "\n",
    "ax.plot(grouped_df)"
   ]
  },
  {
   "cell_type": "markdown",
   "metadata": {
    "deletable": false,
    "editable": false,
    "nbgrader": {
     "cell_type": "markdown",
     "checksum": "6af916751638b42a2fda5f0dfedf47e2",
     "grade": false,
     "grade_id": "cell-505caf08ff16ecab",
     "locked": true,
     "schema_version": 3,
     "solution": false,
     "task": false
    }
   },
   "source": [
    "# 2. Joins (20 points)"
   ]
  },
  {
   "cell_type": "markdown",
   "metadata": {
    "deletable": false,
    "editable": false,
    "nbgrader": {
     "cell_type": "markdown",
     "checksum": "cd9c7a4cc4c4649b54232b22c9006134",
     "grade": false,
     "grade_id": "cell-cb6dc0ce2e8af062",
     "locked": true,
     "schema_version": 3,
     "solution": false,
     "task": false
    }
   },
   "source": [
    "After examining each file and carrying out a few manipulations, you should have a good idea of what is represented in each dataset. Now, you will join these files together.\n",
    "\n",
    "In joining files together, you will largely leave `student_info.csv` as is. `quizzes_tests.csv` and `learning_resources.csv`, however, are long-form, which means that you will need to be strategic in combining `student_info.csv`, which is wide-form."
   ]
  },
  {
   "cell_type": "markdown",
   "metadata": {
    "deletable": false,
    "editable": false,
    "nbgrader": {
     "cell_type": "markdown",
     "checksum": "65b140285aedc446111ecb8e8ff7abd1",
     "grade": false,
     "grade_id": "cell-c2557c1c78161517",
     "locked": true,
     "schema_version": 3,
     "solution": false,
     "task": false
    }
   },
   "source": [
    "## Grading\n",
    "\n",
    "2.1. (2 points) Filter `quizzes_tests.csv` to include only “Quiz 1”, “Quiz 2”, “Test 1”, and “Test 2”\n",
    "\n",
    "2.2. (2 points) Join data frame from 2.1 onto `student_info.csv` by `id_student`\n",
    "\n",
    "2.3. (5 points) Create a grouped box plot with weighted score (`weight` * `score`/100) on the y-axis and \"Quiz 1”, “Quiz 2”, “Test 1”, and “Test 2” on the x-axis; use `final_result` to color each box plot, one for \"fail\" and one for \"pass\"\n",
    "\n",
    "2.4. (2 points) Filter `learning_resources.csv` to include only \"Resource\" `activity_type`\n",
    "\n",
    "2.5. (2 points) Sum `sum_clicks` by `activity_type` per student \n",
    "\n",
    "2.6. (2 points) Join data frame from 2.5 onto `student_info.csv` by `id_student`\n",
    "\n",
    "2.7. (5 points) Using data frame from 2.6, create a box plot with `sum_clicks` on the y-axis and `activity_type` (i.e., “course_homepage”, “course_page”, “forum”, \"resource”, and “wiki”) on the x-axis; use `final_result` to color each box plot, one for \"fail\" and one for \"pass\""
   ]
  },
  {
   "cell_type": "markdown",
   "metadata": {
    "deletable": false,
    "editable": false,
    "nbgrader": {
     "cell_type": "markdown",
     "checksum": "1ea635c513dfb130800fd4d0b48b3e3c",
     "grade": false,
     "grade_id": "cell-b35ad35257b1cc8f",
     "locked": true,
     "schema_version": 3,
     "solution": false,
     "task": false
    }
   },
   "source": [
    "For `quizzes_tests.csv`, we are going to select \"Quiz 1\" and \"Quiz 2\" and \"Test 1\" and \"Test 2\" for each student. Then, we are going to join on `student_info`."
   ]
  },
  {
   "cell_type": "markdown",
   "metadata": {
    "deletable": false,
    "editable": false,
    "nbgrader": {
     "cell_type": "markdown",
     "checksum": "9cf5c9b39f0ed829b56e980fbfc3c1e8",
     "grade": false,
     "grade_id": "cell-e11ba77102e89ff5",
     "locked": true,
     "schema_version": 3,
     "solution": false,
     "task": false
    }
   },
   "source": [
    "2.1. (2 points) Filter `quizzes_tests.csv` to include only “Quiz 1”, “Quiz 2”, “Test 1”, and “Test 2”"
   ]
  },
  {
   "cell_type": "code",
   "execution_count": 72,
   "metadata": {},
   "outputs": [
    {
     "data": {
      "text/html": [
       "<div>\n",
       "<style scoped>\n",
       "    .dataframe tbody tr th:only-of-type {\n",
       "        vertical-align: middle;\n",
       "    }\n",
       "\n",
       "    .dataframe tbody tr th {\n",
       "        vertical-align: top;\n",
       "    }\n",
       "\n",
       "    .dataframe thead th {\n",
       "        text-align: right;\n",
       "    }\n",
       "</style>\n",
       "<table border=\"1\" class=\"dataframe\">\n",
       "  <thead>\n",
       "    <tr style=\"text-align: right;\">\n",
       "      <th></th>\n",
       "      <th>id_student</th>\n",
       "      <th>assignment_name</th>\n",
       "      <th>due_date</th>\n",
       "      <th>weight</th>\n",
       "      <th>date_submitted</th>\n",
       "      <th>score</th>\n",
       "    </tr>\n",
       "  </thead>\n",
       "  <tbody>\n",
       "    <tr>\n",
       "      <th>0</th>\n",
       "      <td>41060</td>\n",
       "      <td>Quiz 1</td>\n",
       "      <td>23</td>\n",
       "      <td>2.0</td>\n",
       "      <td>25.0</td>\n",
       "      <td>77</td>\n",
       "    </tr>\n",
       "    <tr>\n",
       "      <th>1</th>\n",
       "      <td>41060</td>\n",
       "      <td>Test 1</td>\n",
       "      <td>25</td>\n",
       "      <td>7.5</td>\n",
       "      <td>24.0</td>\n",
       "      <td>85</td>\n",
       "    </tr>\n",
       "    <tr>\n",
       "      <th>2</th>\n",
       "      <td>41060</td>\n",
       "      <td>Quiz 2</td>\n",
       "      <td>51</td>\n",
       "      <td>3.0</td>\n",
       "      <td>54.0</td>\n",
       "      <td>94</td>\n",
       "    </tr>\n",
       "    <tr>\n",
       "      <th>3</th>\n",
       "      <td>41060</td>\n",
       "      <td>Test 2</td>\n",
       "      <td>53</td>\n",
       "      <td>10.0</td>\n",
       "      <td>53.0</td>\n",
       "      <td>86</td>\n",
       "    </tr>\n",
       "    <tr>\n",
       "      <th>4</th>\n",
       "      <td>41060</td>\n",
       "      <td>Quiz 3</td>\n",
       "      <td>79</td>\n",
       "      <td>3.0</td>\n",
       "      <td>81.0</td>\n",
       "      <td>94</td>\n",
       "    </tr>\n",
       "  </tbody>\n",
       "</table>\n",
       "</div>"
      ],
      "text/plain": [
       "   id_student assignment_name  due_date  weight  date_submitted  score\n",
       "0       41060          Quiz 1        23     2.0            25.0     77\n",
       "1       41060          Test 1        25     7.5            24.0     85\n",
       "2       41060          Quiz 2        51     3.0            54.0     94\n",
       "3       41060          Test 2        53    10.0            53.0     86\n",
       "4       41060          Quiz 3        79     3.0            81.0     94"
      ]
     },
     "execution_count": 72,
     "metadata": {},
     "output_type": "execute_result"
    }
   ],
   "source": [
    "qt.head()"
   ]
  },
  {
   "cell_type": "code",
   "execution_count": 73,
   "metadata": {
    "deletable": false,
    "nbgrader": {
     "cell_type": "code",
     "checksum": "15de6df85fece0dda776885906b1a23f",
     "grade": true,
     "grade_id": "cell-4dff34db60721a67",
     "locked": false,
     "points": 0,
     "schema_version": 3,
     "solution": true,
     "task": false
    }
   },
   "outputs": [
    {
     "data": {
      "text/html": [
       "<div>\n",
       "<style scoped>\n",
       "    .dataframe tbody tr th:only-of-type {\n",
       "        vertical-align: middle;\n",
       "    }\n",
       "\n",
       "    .dataframe tbody tr th {\n",
       "        vertical-align: top;\n",
       "    }\n",
       "\n",
       "    .dataframe thead th {\n",
       "        text-align: right;\n",
       "    }\n",
       "</style>\n",
       "<table border=\"1\" class=\"dataframe\">\n",
       "  <thead>\n",
       "    <tr style=\"text-align: right;\">\n",
       "      <th></th>\n",
       "      <th>id_student</th>\n",
       "      <th>assignment_name</th>\n",
       "      <th>due_date</th>\n",
       "      <th>weight</th>\n",
       "      <th>date_submitted</th>\n",
       "      <th>score</th>\n",
       "    </tr>\n",
       "  </thead>\n",
       "  <tbody>\n",
       "    <tr>\n",
       "      <th>0</th>\n",
       "      <td>41060</td>\n",
       "      <td>Quiz 1</td>\n",
       "      <td>23</td>\n",
       "      <td>2.0</td>\n",
       "      <td>25.0</td>\n",
       "      <td>77</td>\n",
       "    </tr>\n",
       "    <tr>\n",
       "      <th>14</th>\n",
       "      <td>45664</td>\n",
       "      <td>Quiz 1</td>\n",
       "      <td>23</td>\n",
       "      <td>2.0</td>\n",
       "      <td>25.0</td>\n",
       "      <td>47</td>\n",
       "    </tr>\n",
       "    <tr>\n",
       "      <th>28</th>\n",
       "      <td>52014</td>\n",
       "      <td>Quiz 1</td>\n",
       "      <td>23</td>\n",
       "      <td>2.0</td>\n",
       "      <td>25.0</td>\n",
       "      <td>53</td>\n",
       "    </tr>\n",
       "    <tr>\n",
       "      <th>42</th>\n",
       "      <td>53488</td>\n",
       "      <td>Quiz 1</td>\n",
       "      <td>23</td>\n",
       "      <td>2.0</td>\n",
       "      <td>25.0</td>\n",
       "      <td>93</td>\n",
       "    </tr>\n",
       "    <tr>\n",
       "      <th>56</th>\n",
       "      <td>60135</td>\n",
       "      <td>Quiz 1</td>\n",
       "      <td>23</td>\n",
       "      <td>2.0</td>\n",
       "      <td>25.0</td>\n",
       "      <td>57</td>\n",
       "    </tr>\n",
       "    <tr>\n",
       "      <th>...</th>\n",
       "      <td>...</td>\n",
       "      <td>...</td>\n",
       "      <td>...</td>\n",
       "      <td>...</td>\n",
       "      <td>...</td>\n",
       "      <td>...</td>\n",
       "    </tr>\n",
       "    <tr>\n",
       "      <th>11315</th>\n",
       "      <td>2678338</td>\n",
       "      <td>Test 2</td>\n",
       "      <td>53</td>\n",
       "      <td>10.0</td>\n",
       "      <td>53.0</td>\n",
       "      <td>72</td>\n",
       "    </tr>\n",
       "    <tr>\n",
       "      <th>11329</th>\n",
       "      <td>2683836</td>\n",
       "      <td>Test 2</td>\n",
       "      <td>53</td>\n",
       "      <td>10.0</td>\n",
       "      <td>46.0</td>\n",
       "      <td>78</td>\n",
       "    </tr>\n",
       "    <tr>\n",
       "      <th>11343</th>\n",
       "      <td>2689536</td>\n",
       "      <td>Test 2</td>\n",
       "      <td>53</td>\n",
       "      <td>10.0</td>\n",
       "      <td>52.0</td>\n",
       "      <td>86</td>\n",
       "    </tr>\n",
       "    <tr>\n",
       "      <th>11357</th>\n",
       "      <td>2693243</td>\n",
       "      <td>Test 2</td>\n",
       "      <td>53</td>\n",
       "      <td>10.0</td>\n",
       "      <td>52.0</td>\n",
       "      <td>75</td>\n",
       "    </tr>\n",
       "    <tr>\n",
       "      <th>11371</th>\n",
       "      <td>2694933</td>\n",
       "      <td>Test 2</td>\n",
       "      <td>53</td>\n",
       "      <td>10.0</td>\n",
       "      <td>52.0</td>\n",
       "      <td>89</td>\n",
       "    </tr>\n",
       "  </tbody>\n",
       "</table>\n",
       "<p>3050 rows × 6 columns</p>\n",
       "</div>"
      ],
      "text/plain": [
       "       id_student assignment_name  due_date  weight  date_submitted  score\n",
       "0           41060          Quiz 1        23     2.0            25.0     77\n",
       "14          45664          Quiz 1        23     2.0            25.0     47\n",
       "28          52014          Quiz 1        23     2.0            25.0     53\n",
       "42          53488          Quiz 1        23     2.0            25.0     93\n",
       "56          60135          Quiz 1        23     2.0            25.0     57\n",
       "...           ...             ...       ...     ...             ...    ...\n",
       "11315     2678338          Test 2        53    10.0            53.0     72\n",
       "11329     2683836          Test 2        53    10.0            46.0     78\n",
       "11343     2689536          Test 2        53    10.0            52.0     86\n",
       "11357     2693243          Test 2        53    10.0            52.0     75\n",
       "11371     2694933          Test 2        53    10.0            52.0     89\n",
       "\n",
       "[3050 rows x 6 columns]"
      ]
     },
     "execution_count": 73,
     "metadata": {},
     "output_type": "execute_result"
    }
   ],
   "source": [
    "## Your code with comments\n",
    "# YOUR CODE HERE\n",
    "filter_q1_df = qt[qt['assignment_name']=='Quiz 1']\n",
    "filter_q2_df = qt[qt['assignment_name']=='Quiz 2']\n",
    "filter_t1_df = qt[qt['assignment_name']=='Test 1']\n",
    "filter_t2_df = qt[qt['assignment_name']=='Test 2']\n",
    "df_list = [filter_q1_df, filter_q2_df, filter_t1_df, filter_t2_df]\n",
    "df = pd.concat(df_list)\n",
    "df\n"
   ]
  },
  {
   "cell_type": "markdown",
   "metadata": {
    "deletable": false,
    "editable": false,
    "nbgrader": {
     "cell_type": "markdown",
     "checksum": "2857fc4e1d38341bba845b2f16f55d28",
     "grade": false,
     "grade_id": "cell-8a3a63fa709ca9f1",
     "locked": true,
     "schema_version": 3,
     "solution": false,
     "task": false
    }
   },
   "source": [
    "2.2. (2 points) Join data frame from 2.1 onto `student_info.csv` by `id_student`"
   ]
  },
  {
   "cell_type": "code",
   "execution_count": 74,
   "metadata": {
    "deletable": false,
    "nbgrader": {
     "cell_type": "code",
     "checksum": "f887475e415e120ef1a8a7a290116219",
     "grade": true,
     "grade_id": "cell-e23fa77833c25f31",
     "locked": false,
     "points": 0,
     "schema_version": 3,
     "solution": true,
     "task": false
    }
   },
   "outputs": [
    {
     "data": {
      "text/html": [
       "<div>\n",
       "<style scoped>\n",
       "    .dataframe tbody tr th:only-of-type {\n",
       "        vertical-align: middle;\n",
       "    }\n",
       "\n",
       "    .dataframe tbody tr th {\n",
       "        vertical-align: top;\n",
       "    }\n",
       "\n",
       "    .dataframe thead th {\n",
       "        text-align: right;\n",
       "    }\n",
       "</style>\n",
       "<table border=\"1\" class=\"dataframe\">\n",
       "  <thead>\n",
       "    <tr style=\"text-align: right;\">\n",
       "      <th></th>\n",
       "      <th>id_student</th>\n",
       "      <th>gender</th>\n",
       "      <th>highest_education</th>\n",
       "      <th>disability</th>\n",
       "      <th>final_result</th>\n",
       "      <th>assignment_name</th>\n",
       "      <th>due_date</th>\n",
       "      <th>weight</th>\n",
       "      <th>date_submitted</th>\n",
       "      <th>score</th>\n",
       "    </tr>\n",
       "  </thead>\n",
       "  <tbody>\n",
       "    <tr>\n",
       "      <th>0</th>\n",
       "      <td>41060</td>\n",
       "      <td>M</td>\n",
       "      <td>Some Higher Education</td>\n",
       "      <td>N</td>\n",
       "      <td>Fail</td>\n",
       "      <td>Quiz 1</td>\n",
       "      <td>23</td>\n",
       "      <td>2.0</td>\n",
       "      <td>25.0</td>\n",
       "      <td>77</td>\n",
       "    </tr>\n",
       "    <tr>\n",
       "      <th>1</th>\n",
       "      <td>45664</td>\n",
       "      <td>M</td>\n",
       "      <td>Some Higher Education</td>\n",
       "      <td>N</td>\n",
       "      <td>Pass</td>\n",
       "      <td>Quiz 1</td>\n",
       "      <td>23</td>\n",
       "      <td>2.0</td>\n",
       "      <td>25.0</td>\n",
       "      <td>47</td>\n",
       "    </tr>\n",
       "    <tr>\n",
       "      <th>2</th>\n",
       "      <td>52014</td>\n",
       "      <td>F</td>\n",
       "      <td>High School</td>\n",
       "      <td>N</td>\n",
       "      <td>Fail</td>\n",
       "      <td>Quiz 1</td>\n",
       "      <td>23</td>\n",
       "      <td>2.0</td>\n",
       "      <td>25.0</td>\n",
       "      <td>53</td>\n",
       "    </tr>\n",
       "    <tr>\n",
       "      <th>3</th>\n",
       "      <td>53488</td>\n",
       "      <td>F</td>\n",
       "      <td>Some Higher Education</td>\n",
       "      <td>N</td>\n",
       "      <td>Pass</td>\n",
       "      <td>Quiz 1</td>\n",
       "      <td>23</td>\n",
       "      <td>2.0</td>\n",
       "      <td>25.0</td>\n",
       "      <td>93</td>\n",
       "    </tr>\n",
       "    <tr>\n",
       "      <th>4</th>\n",
       "      <td>60135</td>\n",
       "      <td>F</td>\n",
       "      <td>High School + Advanced Placement</td>\n",
       "      <td>N</td>\n",
       "      <td>Pass</td>\n",
       "      <td>Quiz 1</td>\n",
       "      <td>23</td>\n",
       "      <td>2.0</td>\n",
       "      <td>25.0</td>\n",
       "      <td>57</td>\n",
       "    </tr>\n",
       "  </tbody>\n",
       "</table>\n",
       "</div>"
      ],
      "text/plain": [
       "   id_student gender                 highest_education disability  \\\n",
       "0       41060      M             Some Higher Education          N   \n",
       "1       45664      M             Some Higher Education          N   \n",
       "2       52014      F                       High School          N   \n",
       "3       53488      F             Some Higher Education          N   \n",
       "4       60135      F  High School + Advanced Placement          N   \n",
       "\n",
       "  final_result assignment_name  due_date  weight  date_submitted  score  \n",
       "0         Fail          Quiz 1        23     2.0            25.0     77  \n",
       "1         Pass          Quiz 1        23     2.0            25.0     47  \n",
       "2         Fail          Quiz 1        23     2.0            25.0     53  \n",
       "3         Pass          Quiz 1        23     2.0            25.0     93  \n",
       "4         Pass          Quiz 1        23     2.0            25.0     57  "
      ]
     },
     "execution_count": 74,
     "metadata": {},
     "output_type": "execute_result"
    }
   ],
   "source": [
    "## Your code with comments\n",
    "# YOUR CODE HERE\n",
    "df_merged = si.merge(df, how=\"right\", on=[\"id_student\"])\n",
    "df_merged.head()"
   ]
  },
  {
   "cell_type": "markdown",
   "metadata": {
    "deletable": false,
    "editable": false,
    "nbgrader": {
     "cell_type": "markdown",
     "checksum": "7a352ebe376b841f860031514cc1c0b6",
     "grade": false,
     "grade_id": "cell-8f8482536df2dbc2",
     "locked": true,
     "schema_version": 3,
     "solution": false,
     "task": false
    }
   },
   "source": [
    "2.3. (5 points) Create a grouped box plot with weighted score (`weight` * `score`/100) on the y-axis and \"Quiz 1”, “Quiz 2”, “Test 1”, and “Test 2” on the x-axis; use `final_result` to color each box plot, one for \"fail\" and one for \"pass\""
   ]
  },
  {
   "cell_type": "code",
   "execution_count": 75,
   "metadata": {
    "deletable": false,
    "nbgrader": {
     "cell_type": "code",
     "checksum": "01ebee897886f5d0cfb57f25ed479bf2",
     "grade": true,
     "grade_id": "cell-47a1fb469a119ed0",
     "locked": false,
     "points": 0,
     "schema_version": 3,
     "solution": true,
     "task": false
    }
   },
   "outputs": [
    {
     "data": {
      "text/plain": [
       "<AxesSubplot:xlabel='assignment_name'>"
      ]
     },
     "execution_count": 75,
     "metadata": {},
     "output_type": "execute_result"
    },
    {
     "data": {
      "image/png": "[encoded data removed]",
      "text/plain": [
       "<Figure size 864x504 with 1 Axes>"
      ]
     },
     "metadata": {
      "needs_background": "light"
     },
     "output_type": "display_data"
    }
   ],
   "source": [
    "## Your code with comments\n",
    "# YOUR CODE HERE\n",
    "import seaborn as sns\n",
    "fig = plt.figure(figsize=(12,7))\n",
    "score = df_merged['score']\n",
    "weight = df_merged['weight']\n",
    "sns.boxplot(x = df_merged['assignment_name'],\n",
    "            y = weight*score/100,\n",
    "            hue = df_merged['final_result'])"
   ]
  },
  {
   "cell_type": "markdown",
   "metadata": {
    "deletable": false,
    "editable": false,
    "nbgrader": {
     "cell_type": "markdown",
     "checksum": "da15dc7cce690b1b4d5eb71c1319c9fe",
     "grade": false,
     "grade_id": "cell-31a683420f10a1b3",
     "locked": true,
     "schema_version": 3,
     "solution": false,
     "task": false
    }
   },
   "source": [
    "2.4. (2 points) Filter `learning_resources.csv` to include only \"Resource\" `activity_type`"
   ]
  },
  {
   "cell_type": "code",
   "execution_count": 76,
   "metadata": {
    "deletable": false,
    "nbgrader": {
     "cell_type": "code",
     "checksum": "7764d151994c30481231c73a5bbb24d0",
     "grade": true,
     "grade_id": "cell-2e4d0cf7037ae410",
     "locked": false,
     "points": 0,
     "schema_version": 3,
     "solution": true,
     "task": false
    }
   },
   "outputs": [
    {
     "data": {
      "text/html": [
       "<div>\n",
       "<style scoped>\n",
       "    .dataframe tbody tr th:only-of-type {\n",
       "        vertical-align: middle;\n",
       "    }\n",
       "\n",
       "    .dataframe tbody tr th {\n",
       "        vertical-align: top;\n",
       "    }\n",
       "\n",
       "    .dataframe thead th {\n",
       "        text-align: right;\n",
       "    }\n",
       "</style>\n",
       "<table border=\"1\" class=\"dataframe\">\n",
       "  <thead>\n",
       "    <tr style=\"text-align: right;\">\n",
       "      <th></th>\n",
       "      <th>id_student</th>\n",
       "      <th>activity_type</th>\n",
       "      <th>activity_id</th>\n",
       "      <th>date</th>\n",
       "      <th>sum_click</th>\n",
       "    </tr>\n",
       "  </thead>\n",
       "  <tbody>\n",
       "    <tr>\n",
       "      <th>0</th>\n",
       "      <td>420388</td>\n",
       "      <td>resource</td>\n",
       "      <td>219</td>\n",
       "      <td>0</td>\n",
       "      <td>1</td>\n",
       "    </tr>\n",
       "    <tr>\n",
       "      <th>3</th>\n",
       "      <td>420388</td>\n",
       "      <td>resource</td>\n",
       "      <td>229</td>\n",
       "      <td>0</td>\n",
       "      <td>2</td>\n",
       "    </tr>\n",
       "    <tr>\n",
       "      <th>8</th>\n",
       "      <td>409109</td>\n",
       "      <td>resource</td>\n",
       "      <td>219</td>\n",
       "      <td>0</td>\n",
       "      <td>1</td>\n",
       "    </tr>\n",
       "    <tr>\n",
       "      <th>9</th>\n",
       "      <td>409109</td>\n",
       "      <td>resource</td>\n",
       "      <td>229</td>\n",
       "      <td>0</td>\n",
       "      <td>2</td>\n",
       "    </tr>\n",
       "    <tr>\n",
       "      <th>11</th>\n",
       "      <td>409109</td>\n",
       "      <td>resource</td>\n",
       "      <td>246</td>\n",
       "      <td>0</td>\n",
       "      <td>1</td>\n",
       "    </tr>\n",
       "    <tr>\n",
       "      <th>...</th>\n",
       "      <td>...</td>\n",
       "      <td>...</td>\n",
       "      <td>...</td>\n",
       "      <td>...</td>\n",
       "      <td>...</td>\n",
       "    </tr>\n",
       "    <tr>\n",
       "      <th>443308</th>\n",
       "      <td>544839</td>\n",
       "      <td>resource</td>\n",
       "      <td>246</td>\n",
       "      <td>240</td>\n",
       "      <td>3</td>\n",
       "    </tr>\n",
       "    <tr>\n",
       "      <th>443311</th>\n",
       "      <td>557742</td>\n",
       "      <td>resource</td>\n",
       "      <td>246</td>\n",
       "      <td>240</td>\n",
       "      <td>1</td>\n",
       "    </tr>\n",
       "    <tr>\n",
       "      <th>443314</th>\n",
       "      <td>560444</td>\n",
       "      <td>resource</td>\n",
       "      <td>246</td>\n",
       "      <td>240</td>\n",
       "      <td>3</td>\n",
       "    </tr>\n",
       "    <tr>\n",
       "      <th>443321</th>\n",
       "      <td>535831</td>\n",
       "      <td>resource</td>\n",
       "      <td>246</td>\n",
       "      <td>240</td>\n",
       "      <td>1</td>\n",
       "    </tr>\n",
       "    <tr>\n",
       "      <th>443331</th>\n",
       "      <td>536170</td>\n",
       "      <td>resource</td>\n",
       "      <td>135</td>\n",
       "      <td>240</td>\n",
       "      <td>2</td>\n",
       "    </tr>\n",
       "  </tbody>\n",
       "</table>\n",
       "<p>90735 rows × 5 columns</p>\n",
       "</div>"
      ],
      "text/plain": [
       "        id_student activity_type  activity_id  date  sum_click\n",
       "0           420388      resource          219     0          1\n",
       "3           420388      resource          229     0          2\n",
       "8           409109      resource          219     0          1\n",
       "9           409109      resource          229     0          2\n",
       "11          409109      resource          246     0          1\n",
       "...            ...           ...          ...   ...        ...\n",
       "443308      544839      resource          246   240          3\n",
       "443311      557742      resource          246   240          1\n",
       "443314      560444      resource          246   240          3\n",
       "443321      535831      resource          246   240          1\n",
       "443331      536170      resource          135   240          2\n",
       "\n",
       "[90735 rows x 5 columns]"
      ]
     },
     "execution_count": 76,
     "metadata": {},
     "output_type": "execute_result"
    }
   ],
   "source": [
    "## Your code with comments\n",
    "# YOUR CODE HERE\n",
    "resource_filter = lr[lr['activity_type']=='resource']\n",
    "resource_filter"
   ]
  },
  {
   "cell_type": "markdown",
   "metadata": {},
   "source": [
    "2.5. (2 points) Sum `sum_clicks` by `activity_type` per student "
   ]
  },
  {
   "cell_type": "code",
   "execution_count": 77,
   "metadata": {},
   "outputs": [],
   "source": [
    "lr = pd.read_csv(\"assets/learning_resources.csv\")"
   ]
  },
  {
   "cell_type": "code",
   "execution_count": 78,
   "metadata": {},
   "outputs": [
    {
     "data": {
      "text/plain": [
       "array(['resource', 'course_homepage', 'course_page', 'forum', 'wiki'],\n",
       "      dtype=object)"
      ]
     },
     "execution_count": 78,
     "metadata": {},
     "output_type": "execute_result"
    }
   ],
   "source": [
    "lr.activity_type.unique()"
   ]
  },
  {
   "cell_type": "code",
   "execution_count": 79,
   "metadata": {},
   "outputs": [
    {
     "data": {
      "text/html": [
       "<div>\n",
       "<style scoped>\n",
       "    .dataframe tbody tr th:only-of-type {\n",
       "        vertical-align: middle;\n",
       "    }\n",
       "\n",
       "    .dataframe tbody tr th {\n",
       "        vertical-align: top;\n",
       "    }\n",
       "\n",
       "    .dataframe thead th {\n",
       "        text-align: right;\n",
       "    }\n",
       "</style>\n",
       "<table border=\"1\" class=\"dataframe\">\n",
       "  <thead>\n",
       "    <tr style=\"text-align: right;\">\n",
       "      <th></th>\n",
       "      <th>id_student</th>\n",
       "      <th>activity_type</th>\n",
       "      <th>activity_id</th>\n",
       "      <th>date</th>\n",
       "      <th>sum_click</th>\n",
       "    </tr>\n",
       "  </thead>\n",
       "  <tbody>\n",
       "    <tr>\n",
       "      <th>0</th>\n",
       "      <td>420388</td>\n",
       "      <td>resource</td>\n",
       "      <td>219</td>\n",
       "      <td>0</td>\n",
       "      <td>1</td>\n",
       "    </tr>\n",
       "    <tr>\n",
       "      <th>1</th>\n",
       "      <td>420388</td>\n",
       "      <td>course_homepage</td>\n",
       "      <td>1</td>\n",
       "      <td>0</td>\n",
       "      <td>3</td>\n",
       "    </tr>\n",
       "    <tr>\n",
       "      <th>2</th>\n",
       "      <td>420388</td>\n",
       "      <td>course_page</td>\n",
       "      <td>87</td>\n",
       "      <td>0</td>\n",
       "      <td>1</td>\n",
       "    </tr>\n",
       "    <tr>\n",
       "      <th>3</th>\n",
       "      <td>420388</td>\n",
       "      <td>resource</td>\n",
       "      <td>229</td>\n",
       "      <td>0</td>\n",
       "      <td>2</td>\n",
       "    </tr>\n",
       "    <tr>\n",
       "      <th>4</th>\n",
       "      <td>420388</td>\n",
       "      <td>course_page</td>\n",
       "      <td>1</td>\n",
       "      <td>0</td>\n",
       "      <td>2</td>\n",
       "    </tr>\n",
       "    <tr>\n",
       "      <th>...</th>\n",
       "      <td>...</td>\n",
       "      <td>...</td>\n",
       "      <td>...</td>\n",
       "      <td>...</td>\n",
       "      <td>...</td>\n",
       "    </tr>\n",
       "    <tr>\n",
       "      <th>443331</th>\n",
       "      <td>536170</td>\n",
       "      <td>resource</td>\n",
       "      <td>135</td>\n",
       "      <td>240</td>\n",
       "      <td>2</td>\n",
       "    </tr>\n",
       "    <tr>\n",
       "      <th>443332</th>\n",
       "      <td>536926</td>\n",
       "      <td>course_homepage</td>\n",
       "      <td>1</td>\n",
       "      <td>240</td>\n",
       "      <td>1</td>\n",
       "    </tr>\n",
       "    <tr>\n",
       "      <th>443333</th>\n",
       "      <td>556295</td>\n",
       "      <td>course_homepage</td>\n",
       "      <td>1</td>\n",
       "      <td>240</td>\n",
       "      <td>3</td>\n",
       "    </tr>\n",
       "    <tr>\n",
       "      <th>443334</th>\n",
       "      <td>556780</td>\n",
       "      <td>course_homepage</td>\n",
       "      <td>1</td>\n",
       "      <td>240</td>\n",
       "      <td>1</td>\n",
       "    </tr>\n",
       "    <tr>\n",
       "      <th>443335</th>\n",
       "      <td>556918</td>\n",
       "      <td>course_homepage</td>\n",
       "      <td>1</td>\n",
       "      <td>240</td>\n",
       "      <td>2</td>\n",
       "    </tr>\n",
       "  </tbody>\n",
       "</table>\n",
       "<p>443336 rows × 5 columns</p>\n",
       "</div>"
      ],
      "text/plain": [
       "        id_student    activity_type  activity_id  date  sum_click\n",
       "0           420388         resource          219     0          1\n",
       "1           420388  course_homepage            1     0          3\n",
       "2           420388      course_page           87     0          1\n",
       "3           420388         resource          229     0          2\n",
       "4           420388      course_page            1     0          2\n",
       "...            ...              ...          ...   ...        ...\n",
       "443331      536170         resource          135   240          2\n",
       "443332      536926  course_homepage            1   240          1\n",
       "443333      556295  course_homepage            1   240          3\n",
       "443334      556780  course_homepage            1   240          1\n",
       "443335      556918  course_homepage            1   240          2\n",
       "\n",
       "[443336 rows x 5 columns]"
      ]
     },
     "execution_count": 79,
     "metadata": {},
     "output_type": "execute_result"
    }
   ],
   "source": [
    "lr"
   ]
  },
  {
   "cell_type": "code",
   "execution_count": 80,
   "metadata": {},
   "outputs": [
    {
     "data": {
      "text/html": [
       "<div>\n",
       "<style scoped>\n",
       "    .dataframe tbody tr th:only-of-type {\n",
       "        vertical-align: middle;\n",
       "    }\n",
       "\n",
       "    .dataframe tbody tr th {\n",
       "        vertical-align: top;\n",
       "    }\n",
       "\n",
       "    .dataframe thead th {\n",
       "        text-align: right;\n",
       "    }\n",
       "</style>\n",
       "<table border=\"1\" class=\"dataframe\">\n",
       "  <thead>\n",
       "    <tr style=\"text-align: right;\">\n",
       "      <th></th>\n",
       "      <th>id_student</th>\n",
       "      <th>activity_type</th>\n",
       "      <th>activity_id</th>\n",
       "      <th>date</th>\n",
       "      <th>sum_click</th>\n",
       "    </tr>\n",
       "  </thead>\n",
       "  <tbody>\n",
       "    <tr>\n",
       "      <th>0</th>\n",
       "      <td>420388</td>\n",
       "      <td>resource</td>\n",
       "      <td>219</td>\n",
       "      <td>0</td>\n",
       "      <td>1</td>\n",
       "    </tr>\n",
       "    <tr>\n",
       "      <th>1</th>\n",
       "      <td>420388</td>\n",
       "      <td>course_homepage</td>\n",
       "      <td>1</td>\n",
       "      <td>0</td>\n",
       "      <td>3</td>\n",
       "    </tr>\n",
       "    <tr>\n",
       "      <th>2</th>\n",
       "      <td>420388</td>\n",
       "      <td>course_page</td>\n",
       "      <td>87</td>\n",
       "      <td>0</td>\n",
       "      <td>1</td>\n",
       "    </tr>\n",
       "    <tr>\n",
       "      <th>3</th>\n",
       "      <td>420388</td>\n",
       "      <td>resource</td>\n",
       "      <td>229</td>\n",
       "      <td>0</td>\n",
       "      <td>2</td>\n",
       "    </tr>\n",
       "    <tr>\n",
       "      <th>4</th>\n",
       "      <td>420388</td>\n",
       "      <td>course_page</td>\n",
       "      <td>1</td>\n",
       "      <td>0</td>\n",
       "      <td>2</td>\n",
       "    </tr>\n",
       "    <tr>\n",
       "      <th>...</th>\n",
       "      <td>...</td>\n",
       "      <td>...</td>\n",
       "      <td>...</td>\n",
       "      <td>...</td>\n",
       "      <td>...</td>\n",
       "    </tr>\n",
       "    <tr>\n",
       "      <th>443331</th>\n",
       "      <td>536170</td>\n",
       "      <td>resource</td>\n",
       "      <td>135</td>\n",
       "      <td>240</td>\n",
       "      <td>2</td>\n",
       "    </tr>\n",
       "    <tr>\n",
       "      <th>443332</th>\n",
       "      <td>536926</td>\n",
       "      <td>course_homepage</td>\n",
       "      <td>1</td>\n",
       "      <td>240</td>\n",
       "      <td>1</td>\n",
       "    </tr>\n",
       "    <tr>\n",
       "      <th>443333</th>\n",
       "      <td>556295</td>\n",
       "      <td>course_homepage</td>\n",
       "      <td>1</td>\n",
       "      <td>240</td>\n",
       "      <td>3</td>\n",
       "    </tr>\n",
       "    <tr>\n",
       "      <th>443334</th>\n",
       "      <td>556780</td>\n",
       "      <td>course_homepage</td>\n",
       "      <td>1</td>\n",
       "      <td>240</td>\n",
       "      <td>1</td>\n",
       "    </tr>\n",
       "    <tr>\n",
       "      <th>443335</th>\n",
       "      <td>556918</td>\n",
       "      <td>course_homepage</td>\n",
       "      <td>1</td>\n",
       "      <td>240</td>\n",
       "      <td>2</td>\n",
       "    </tr>\n",
       "  </tbody>\n",
       "</table>\n",
       "<p>443336 rows × 5 columns</p>\n",
       "</div>"
      ],
      "text/plain": [
       "        id_student    activity_type  activity_id  date  sum_click\n",
       "0           420388         resource          219     0          1\n",
       "1           420388  course_homepage            1     0          3\n",
       "2           420388      course_page           87     0          1\n",
       "3           420388         resource          229     0          2\n",
       "4           420388      course_page            1     0          2\n",
       "...            ...              ...          ...   ...        ...\n",
       "443331      536170         resource          135   240          2\n",
       "443332      536926  course_homepage            1   240          1\n",
       "443333      556295  course_homepage            1   240          3\n",
       "443334      556780  course_homepage            1   240          1\n",
       "443335      556918  course_homepage            1   240          2\n",
       "\n",
       "[443336 rows x 5 columns]"
      ]
     },
     "execution_count": 80,
     "metadata": {},
     "output_type": "execute_result"
    }
   ],
   "source": [
    "l = pd.read_csv(\"assets/learning_resources.csv\")\n",
    "l"
   ]
  },
  {
   "cell_type": "code",
   "execution_count": 81,
   "metadata": {},
   "outputs": [
    {
     "data": {
      "text/plain": [
       "(3969, 3)"
      ]
     },
     "execution_count": 81,
     "metadata": {},
     "output_type": "execute_result"
    }
   ],
   "source": [
    "sum_click_activity_type_per_student1 = l.groupby(['activity_type','id_student'])['sum_click'].sum()\n",
    "sum_click_activity_type_per_student1 = pd.DataFrame(sum_click_activity_type_per_student1)\n",
    "sum_click_activity_type_per_student1 = sum_click_activity_type_per_student1.reset_index()\n",
    "sum_click_activity_type_per_student1.shape"
   ]
  },
  {
   "cell_type": "markdown",
   "metadata": {
    "deletable": false,
    "editable": false,
    "nbgrader": {
     "cell_type": "markdown",
     "checksum": "8e772cbb00915a158832dc7d87fcae4c",
     "grade": false,
     "grade_id": "cell-9de6823f826511a6",
     "locked": true,
     "schema_version": 3,
     "solution": false,
     "task": false
    }
   },
   "source": [
    "2.6. (2 points) Join data frame from 2.5 onto `student_info.csv` by `id_student`"
   ]
  },
  {
   "cell_type": "code",
   "execution_count": 82,
   "metadata": {},
   "outputs": [
    {
     "data": {
      "text/html": [
       "<div>\n",
       "<style scoped>\n",
       "    .dataframe tbody tr th:only-of-type {\n",
       "        vertical-align: middle;\n",
       "    }\n",
       "\n",
       "    .dataframe tbody tr th {\n",
       "        vertical-align: top;\n",
       "    }\n",
       "\n",
       "    .dataframe thead th {\n",
       "        text-align: right;\n",
       "    }\n",
       "</style>\n",
       "<table border=\"1\" class=\"dataframe\">\n",
       "  <thead>\n",
       "    <tr style=\"text-align: right;\">\n",
       "      <th></th>\n",
       "      <th>id_student</th>\n",
       "      <th>gender</th>\n",
       "      <th>highest_education</th>\n",
       "      <th>disability</th>\n",
       "      <th>final_result</th>\n",
       "    </tr>\n",
       "  </thead>\n",
       "  <tbody>\n",
       "    <tr>\n",
       "      <th>0</th>\n",
       "      <td>41060</td>\n",
       "      <td>M</td>\n",
       "      <td>Some Higher Education</td>\n",
       "      <td>N</td>\n",
       "      <td>Fail</td>\n",
       "    </tr>\n",
       "    <tr>\n",
       "      <th>1</th>\n",
       "      <td>45664</td>\n",
       "      <td>M</td>\n",
       "      <td>Some Higher Education</td>\n",
       "      <td>N</td>\n",
       "      <td>Pass</td>\n",
       "    </tr>\n",
       "    <tr>\n",
       "      <th>2</th>\n",
       "      <td>52014</td>\n",
       "      <td>F</td>\n",
       "      <td>High School</td>\n",
       "      <td>N</td>\n",
       "      <td>Fail</td>\n",
       "    </tr>\n",
       "    <tr>\n",
       "      <th>3</th>\n",
       "      <td>53488</td>\n",
       "      <td>F</td>\n",
       "      <td>Some Higher Education</td>\n",
       "      <td>N</td>\n",
       "      <td>Pass</td>\n",
       "    </tr>\n",
       "    <tr>\n",
       "      <th>4</th>\n",
       "      <td>60135</td>\n",
       "      <td>F</td>\n",
       "      <td>High School + Advanced Placement</td>\n",
       "      <td>N</td>\n",
       "      <td>Pass</td>\n",
       "    </tr>\n",
       "  </tbody>\n",
       "</table>\n",
       "</div>"
      ],
      "text/plain": [
       "   id_student gender                 highest_education disability final_result\n",
       "0       41060      M             Some Higher Education          N         Fail\n",
       "1       45664      M             Some Higher Education          N         Pass\n",
       "2       52014      F                       High School          N         Fail\n",
       "3       53488      F             Some Higher Education          N         Pass\n",
       "4       60135      F  High School + Advanced Placement          N         Pass"
      ]
     },
     "execution_count": 82,
     "metadata": {},
     "output_type": "execute_result"
    }
   ],
   "source": [
    "si.head()"
   ]
  },
  {
   "cell_type": "code",
   "execution_count": 83,
   "metadata": {
    "deletable": false,
    "nbgrader": {
     "cell_type": "code",
     "checksum": "955b38f0ef5a957c44783b955cd5ba08",
     "grade": true,
     "grade_id": "cell-986c222b177b6811",
     "locked": false,
     "points": 0,
     "schema_version": 3,
     "solution": true,
     "task": false
    }
   },
   "outputs": [
    {
     "data": {
      "text/html": [
       "<div>\n",
       "<style scoped>\n",
       "    .dataframe tbody tr th:only-of-type {\n",
       "        vertical-align: middle;\n",
       "    }\n",
       "\n",
       "    .dataframe tbody tr th {\n",
       "        vertical-align: top;\n",
       "    }\n",
       "\n",
       "    .dataframe thead th {\n",
       "        text-align: right;\n",
       "    }\n",
       "</style>\n",
       "<table border=\"1\" class=\"dataframe\">\n",
       "  <thead>\n",
       "    <tr style=\"text-align: right;\">\n",
       "      <th></th>\n",
       "      <th>id_student</th>\n",
       "      <th>gender</th>\n",
       "      <th>highest_education</th>\n",
       "      <th>disability</th>\n",
       "      <th>final_result</th>\n",
       "      <th>activity_type</th>\n",
       "      <th>sum_click</th>\n",
       "    </tr>\n",
       "  </thead>\n",
       "  <tbody>\n",
       "    <tr>\n",
       "      <th>0</th>\n",
       "      <td>41060</td>\n",
       "      <td>M</td>\n",
       "      <td>Some Higher Education</td>\n",
       "      <td>N</td>\n",
       "      <td>Fail</td>\n",
       "      <td>course_homepage</td>\n",
       "      <td>80</td>\n",
       "    </tr>\n",
       "    <tr>\n",
       "      <th>1</th>\n",
       "      <td>45664</td>\n",
       "      <td>M</td>\n",
       "      <td>Some Higher Education</td>\n",
       "      <td>N</td>\n",
       "      <td>Pass</td>\n",
       "      <td>course_homepage</td>\n",
       "      <td>287</td>\n",
       "    </tr>\n",
       "    <tr>\n",
       "      <th>2</th>\n",
       "      <td>52014</td>\n",
       "      <td>F</td>\n",
       "      <td>High School</td>\n",
       "      <td>N</td>\n",
       "      <td>Fail</td>\n",
       "      <td>course_homepage</td>\n",
       "      <td>98</td>\n",
       "    </tr>\n",
       "    <tr>\n",
       "      <th>3</th>\n",
       "      <td>53488</td>\n",
       "      <td>F</td>\n",
       "      <td>Some Higher Education</td>\n",
       "      <td>N</td>\n",
       "      <td>Pass</td>\n",
       "      <td>course_homepage</td>\n",
       "      <td>311</td>\n",
       "    </tr>\n",
       "    <tr>\n",
       "      <th>4</th>\n",
       "      <td>60135</td>\n",
       "      <td>F</td>\n",
       "      <td>High School + Advanced Placement</td>\n",
       "      <td>N</td>\n",
       "      <td>Pass</td>\n",
       "      <td>course_homepage</td>\n",
       "      <td>822</td>\n",
       "    </tr>\n",
       "  </tbody>\n",
       "</table>\n",
       "</div>"
      ],
      "text/plain": [
       "   id_student gender                 highest_education disability  \\\n",
       "0       41060      M             Some Higher Education          N   \n",
       "1       45664      M             Some Higher Education          N   \n",
       "2       52014      F                       High School          N   \n",
       "3       53488      F             Some Higher Education          N   \n",
       "4       60135      F  High School + Advanced Placement          N   \n",
       "\n",
       "  final_result    activity_type  sum_click  \n",
       "0         Fail  course_homepage         80  \n",
       "1         Pass  course_homepage        287  \n",
       "2         Fail  course_homepage         98  \n",
       "3         Pass  course_homepage        311  \n",
       "4         Pass  course_homepage        822  "
      ]
     },
     "execution_count": 83,
     "metadata": {},
     "output_type": "execute_result"
    }
   ],
   "source": [
    "## Your code with comments\n",
    "# YOUR CODE HERE\n",
    "join_2 = si.merge(sum_click_activity_type_per_student1, how='right', on=['id_student'])\n",
    "join_2.head()"
   ]
  },
  {
   "cell_type": "markdown",
   "metadata": {
    "deletable": false,
    "editable": false,
    "nbgrader": {
     "cell_type": "markdown",
     "checksum": "1c1b08b89fd4f2662e73498c87f50108",
     "grade": false,
     "grade_id": "cell-8d3cec47ea34f4fa",
     "locked": true,
     "schema_version": 3,
     "solution": false,
     "task": false
    }
   },
   "source": [
    "2.7. (5 points) Using data frame from 2.6, create a box plot with `sum_clicks` on the y-axis and `activity_type` (i.e., “course_homepage”, “course_page”, “forum”, \"resource”, and “wiki”) on the x-axis; use `final_result` to color each box plot, one for \"fail\" and one for \"pass\""
   ]
  },
  {
   "cell_type": "code",
   "execution_count": 84,
   "metadata": {
    "deletable": false,
    "nbgrader": {
     "cell_type": "code",
     "checksum": "2707a42e32cf5e031c1383b4bd04d2b6",
     "grade": true,
     "grade_id": "cell-8596077fab825fce",
     "locked": false,
     "points": 0,
     "schema_version": 3,
     "solution": true,
     "task": false
    }
   },
   "outputs": [
    {
     "data": {
      "text/plain": [
       "<AxesSubplot:xlabel='activity_type', ylabel='sum_click'>"
      ]
     },
     "execution_count": 84,
     "metadata": {},
     "output_type": "execute_result"
    },
    {
     "data": {
      "image/png": "[encoded data removed]",
      "text/plain": [
       "<Figure size 864x504 with 1 Axes>"
      ]
     },
     "metadata": {
      "needs_background": "light"
     },
     "output_type": "display_data"
    }
   ],
   "source": [
    "## Your code with comments\n",
    "# YOUR CODE HERE\n",
    "import seaborn as sns\n",
    "fig = plt.figure(figsize=(12,7))\n",
    "activity = join_2['activity_type']\n",
    "sum_clicks = join_2['sum_click']\n",
    "final_result = join_2['final_result']\n",
    "sns.boxplot(x = activity,\n",
    "            y = sum_clicks,\n",
    "            hue = final_result)"
   ]
  },
  {
   "cell_type": "markdown",
   "metadata": {
    "deletable": false,
    "editable": false,
    "nbgrader": {
     "cell_type": "markdown",
     "checksum": "b26c76594235259865f35d15f1fdeecd",
     "grade": false,
     "grade_id": "cell-4506f745da7c8c3c",
     "locked": true,
     "schema_version": 3,
     "solution": false,
     "task": false
    }
   },
   "source": [
    "# 3. Interpret (10 points)"
   ]
  },
  {
   "cell_type": "markdown",
   "metadata": {
    "deletable": false,
    "editable": false,
    "nbgrader": {
     "cell_type": "markdown",
     "checksum": "be32e0e300117350bb9db0fc71541d8f",
     "grade": false,
     "grade_id": "cell-8d04a7c46519d578",
     "locked": true,
     "schema_version": 3,
     "solution": false,
     "task": false
    }
   },
   "source": [
    "After developing an initial understanding of the above datasets, provide your thoughts on the following questions:"
   ]
  },
  {
   "cell_type": "markdown",
   "metadata": {
    "deletable": false,
    "editable": false,
    "nbgrader": {
     "cell_type": "markdown",
     "checksum": "ab530a1071a9eece44c96860ff979d2d",
     "grade": false,
     "grade_id": "cell-3640f2218b5d7444",
     "locked": true,
     "schema_version": 3,
     "solution": false,
     "task": false
    }
   },
   "source": [
    "3.1. What variables from `quizzes_tests.csv` and `learning_resources.csv` are related to course success, and why? (5 points)"
   ]
  },
  {
   "cell_type": "markdown",
   "metadata": {},
   "source": [
    "In Q1.5 and Q1.10, a trending decrease in completion of quizzes/tests and accessing of course resources can be observed as time passes.  This could be due to more work from other courses making it harder for students to find time to study efficiently for this course if their time-management skills are not developed.  Specific variables that can be related to course success while observing the charts created are score, final_result, and assignment_name.  There were more completions and fewer absences for the tests compared to the quizzes under the assignment_name column.  An increase in the weight varaible seemed to increase attendance to the tests versus the quizzes also.  After graphing the sum_click and activity_type variables, it can be seen more attention was given towards the required assignments; at course_page, course_homepage variables, and forum; and less given towards the extra resources provided (resource and wiki).  This could be due to students being occupied with other courses and not having enough extra time to utilize the extra resources, or the students just did not feel the need to refer to the extra resources when completing the assignments.  \n",
    "\n",
    "Lack of usage of the extra resources provided, as well as lack of respect given towards the lower-weighted quizzes versus the higher-weighted tests, are conclusions that can be made while viewing these graphs.  Key variables to focus on when considering change in the program, with the goal of improving students' scores, would be increasing the weight of quizzes and decreasing slightly the weight of tests.  An increase of value in the quizzes will encourage more students to take the quiz-dates more seriously, the entire course more seriously, and can have a large impact on the steady decline in grades currently observed as the semester passes.  Being required to take the quizzes more seriously, and spend more time preparing for the quizzes the same as they do for the tests, will also further encourage student utilization of the extra resources provided.  These extra resources could also be the key to helping the students prevent their grade declinations as the semester passes.   "
   ]
  },
  {
   "cell_type": "markdown",
   "metadata": {
    "deletable": false,
    "editable": false,
    "nbgrader": {
     "cell_type": "markdown",
     "checksum": "7f728d875fa2d8ccc5d198a303986c0a",
     "grade": false,
     "grade_id": "cell-cdaf4c15793d9ad0",
     "locked": true,
     "schema_version": 3,
     "solution": false,
     "task": false
    }
   },
   "source": [
    "3.2. What relationships between variables from `quizzes_tests.csv` and `learning_resources.csv` and `final_result` surprised you, and why? (5 points)"
   ]
  },
  {
   "cell_type": "markdown",
   "metadata": {},
   "source": [
    "With my 6-7 years of teaching-experience grades K-12, and my 12 years of tutoring experience, I'm not really surprised about the steady decline in grades as the semester passes and the lack of utilizing additional resources.  This is a common trend I have already observed in multiple schools, both private and public.  A large factor that causes this problem is the lack of motivation and encouragement provided to the students by teachers, faculty, and parents.  Some teachers/parents still follow the traditional path of scolding their young children/teenager for poor grades, yet do not realize the discouragement (and lack of encouragement) that is contained within a scolding.  Not all youth are capable of taking a scolding and turning it into motivation to try-harder and perform-better, and the process of learning how to transform a scolding into motivation can be very traumatic/emotional. The current grading system for most schools can also be viewed as a type of 'scolding' when a student has put sufficient effort into the assignment but still is given a poor grade (C or lower).  A better mix of sincerity and encouragement needs to be developed into the schools' grading systems and the way teachers are teaching students.  Many teachers are never educated on how to properly motivate and encourage students through different styles of teaching, or are never encouraged by their peers and superiors to continue doing so. A new school system, located in the Western states, has recently been started that replaces tests/exams with group-projects and more development of communication skills for the students.  This is a great start in the right direction, but could be enhanced even more with more educators that are taught how to better measure/evaluate confidence-levels in students, and with more required field-trips that provide the students the opportunity to gain more experience becoming involved in their local communities.  Encouragement of more constructive feedback, coming from both the parents and the teaching-faculty towards the students, is also a critical factor that needs improvement in many school systems.  Creating a constructive-feedback outline/protocol for teachers and parents to follow, involving a protocol for what the teachers/parents should write and the minimum amount they should write...as well as an outline guiding the teachers/parents towards encouraging-consultation with the struggling student at a certain point, may be necessary before better communication can be established and better grades can be developed.  Many parents have never been educated on how to properly counsel their children and could use multiple seminars/handouts for assistance.  I still experience professors who do not provide enough constructive feedback for the students to utilize for improvement. Lack of development of time-management skills also play a critical factor in the struggle students have with balancing course workloads.      "
   ]
  },
  {
   "cell_type": "code",
   "execution_count": null,
   "metadata": {
    "deletable": false,
    "nbgrader": {
     "cell_type": "code",
     "checksum": "8fa1d7112ec1d3d9edbd61fa933ce2d2",
     "grade": true,
     "grade_id": "cell-6465de9e50a07512",
     "locked": false,
     "points": 0,
     "schema_version": 3,
     "solution": true,
     "task": false
    }
   },
   "outputs": [],
   "source": []
  }
 ],
 "metadata": {
  "colab": {
   "name": "Deepti_assignment1_source.ipynb",
   "provenance": []
  },
  "coursera": {
   "schema_names": [
    "mads_learning_analytics_v2_assignment1"
   ]
  },
  "kernelspec": {
   "display_name": "Python 3 (ipykernel)",
   "language": "python",
   "name": "python3"
  },
  "language_info": {
   "codemirror_mode": {
    "name": "ipython",
    "version": 3
   },
   "file_extension": ".py",
   "mimetype": "text/x-python",
   "name": "python",
   "nbconvert_exporter": "python",
   "pygments_lexer": "ipython3",
   "version": "3.8.10"
  }
 },
 "nbformat": 4,
 "nbformat_minor": 1
}
